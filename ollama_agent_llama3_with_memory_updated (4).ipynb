{
 "cells": [
  {
   "cell_type": "code",
   "execution_count": 1,
   "id": "a5946337",
   "metadata": {},
   "outputs": [
    {
     "name": "stdout",
     "output_type": "stream",
     "text": [
      "Defaulting to user installation because normal site-packages is not writeable\n",
      "Looking in indexes: https://oneartifactoryprod.verizon.com/artifactory/api/pypi/Pypi-remote/simple\n",
      "Requirement already satisfied: pip in /usr/local/lib/python3.11/site-packages (24.0)\n",
      "Collecting pip\n",
      "  Downloading https://oneartifactoryprod.verizon.com/artifactory/api/pypi/Pypi-remote/packages/packages/c9/bc/b7db44f5f39f9d0494071bddae6880eb645970366d0a200022a1a93d57f5/pip-25.0.1-py3-none-any.whl (1.8 MB)\n",
      "\u001b[2K     \u001b[90m━━━━━━━━━━━━━━━━━━━━━━━━━━━━━━━━━━━━━━━━\u001b[0m \u001b[32m1.8/1.8 MB\u001b[0m \u001b[31m13.0 MB/s\u001b[0m eta \u001b[36m0:00:00\u001b[0m00:01\u001b[0m0:01\u001b[0m\n",
      "\u001b[?25hInstalling collected packages: pip\n",
      "\u001b[33m  WARNING: The scripts pip, pip3 and pip3.11 are installed in '/home/domino/.local/bin' which is not on PATH.\n",
      "  Consider adding this directory to PATH or, if you prefer to suppress this warning, use --no-warn-script-location.\u001b[0m\u001b[33m\n",
      "\u001b[0mSuccessfully installed pip-25.0.1\n",
      "\n",
      "\u001b[1m[\u001b[0m\u001b[34;49mnotice\u001b[0m\u001b[1;39;49m]\u001b[0m\u001b[39;49m A new release of pip is available: \u001b[0m\u001b[31;49m24.0\u001b[0m\u001b[39;49m -> \u001b[0m\u001b[32;49m25.0.1\u001b[0m\n",
      "\u001b[1m[\u001b[0m\u001b[34;49mnotice\u001b[0m\u001b[1;39;49m]\u001b[0m\u001b[39;49m To update, run: \u001b[0m\u001b[32;49mpython3 -m pip install --upgrade pip\u001b[0m\n",
      "Defaulting to user installation because normal site-packages is not writeable\n",
      "Looking in indexes: https://oneartifactoryprod.verizon.com/artifactory/api/pypi/Pypi-remote/simple\n",
      "Collecting ollama\n",
      "  Downloading https://oneartifactoryprod.verizon.com/artifactory/api/pypi/Pypi-remote/packages/packages/31/83/c3ffac86906c10184c88c2e916460806b072a2cfe34cdcaf3a0c0e836d39/ollama-0.4.7-py3-none-any.whl (13 kB)\n",
      "Requirement already satisfied: httpx<0.29,>=0.27 in /usr/local/lib/python3.11/site-packages (from ollama) (0.27.0)\n",
      "Collecting pydantic<3.0.0,>=2.9.0 (from ollama)\n",
      "  Downloading https://oneartifactoryprod.verizon.com/artifactory/api/pypi/Pypi-remote/packages/packages/bf/c2/0f3baea344d0b15e35cb3e04ad5b953fa05106b76efbf4c782a3f47f22f5/pydantic-2.11.2-py3-none-any.whl (443 kB)\n",
      "Requirement already satisfied: anyio in /usr/local/lib/python3.11/site-packages (from httpx<0.29,>=0.27->ollama) (4.3.0)\n",
      "Requirement already satisfied: certifi in /usr/local/lib/python3.11/site-packages (from httpx<0.29,>=0.27->ollama) (2024.2.2)\n",
      "Requirement already satisfied: httpcore==1.* in /usr/local/lib/python3.11/site-packages (from httpx<0.29,>=0.27->ollama) (1.0.4)\n",
      "Requirement already satisfied: idna in /usr/local/lib/python3.11/site-packages (from httpx<0.29,>=0.27->ollama) (3.6)\n",
      "Requirement already satisfied: sniffio in /usr/local/lib/python3.11/site-packages (from httpx<0.29,>=0.27->ollama) (1.3.1)\n",
      "Requirement already satisfied: h11<0.15,>=0.13 in /usr/local/lib/python3.11/site-packages (from httpcore==1.*->httpx<0.29,>=0.27->ollama) (0.14.0)\n",
      "Requirement already satisfied: annotated-types>=0.6.0 in /usr/local/lib/python3.11/site-packages (from pydantic<3.0.0,>=2.9.0->ollama) (0.6.0)\n",
      "Collecting pydantic-core==2.33.1 (from pydantic<3.0.0,>=2.9.0->ollama)\n",
      "  Downloading https://oneartifactoryprod.verizon.com/artifactory/api/pypi/Pypi-remote/packages/packages/0b/60/516484135173aa9e5861d7a0663dce82e4746d2e7f803627d8c25dfa5578/pydantic_core-2.33.1-cp311-cp311-manylinux_2_17_x86_64.manylinux2014_x86_64.whl (2.0 MB)\n",
      "\u001b[2K     \u001b[90m━━━━━━━━━━━━━━━━━━━━━━━━━━━━━━━━━━━━━━━━\u001b[0m \u001b[32m2.0/2.0 MB\u001b[0m \u001b[31m48.1 MB/s\u001b[0m eta \u001b[36m0:00:00\u001b[0m\n",
      "\u001b[?25hCollecting typing-extensions>=4.12.2 (from pydantic<3.0.0,>=2.9.0->ollama)\n",
      "  Downloading https://oneartifactoryprod.verizon.com/artifactory/api/pypi/Pypi-remote/packages/packages/df/c5/e7a0b0f5ed69f94c8ab7379c599e6036886bffcde609969a5325f47f1332/typing_extensions-4.13.1-py3-none-any.whl (45 kB)\n",
      "Collecting typing-inspection>=0.4.0 (from pydantic<3.0.0,>=2.9.0->ollama)\n",
      "  Downloading https://oneartifactoryprod.verizon.com/artifactory/api/pypi/Pypi-remote/packages/packages/31/08/aa4fdfb71f7de5176385bd9e90852eaf6b5d622735020ad600f2bab54385/typing_inspection-0.4.0-py3-none-any.whl (14 kB)\n",
      "Installing collected packages: typing-extensions, typing-inspection, pydantic-core, pydantic, ollama\n",
      "\u001b[31mERROR: pip's dependency resolver does not currently take into account all the packages that are installed. This behaviour is the source of the following dependency conflicts.\n",
      "dominodatalab 1.3.0 requires typing-extensions~=4.4.0, but you have typing-extensions 4.13.1 which is incompatible.\u001b[0m\u001b[31m\n",
      "\u001b[0mSuccessfully installed ollama-0.4.7 pydantic-2.11.2 pydantic-core-2.33.1 typing-extensions-4.13.1 typing-inspection-0.4.0\n",
      "Defaulting to user installation because normal site-packages is not writeable\n",
      "Looking in indexes: https://oneartifactoryprod.verizon.com/artifactory/api/pypi/Pypi-remote/simple\n",
      "Collecting langchain\n",
      "  Downloading https://oneartifactoryprod.verizon.com/artifactory/api/pypi/Pypi-remote/packages/packages/36/0e/032de736a8f9b5b5fcfec77bd92831f9f2c8a8b5072289dd1e5cc95e6edc/langchain-0.3.22-py3-none-any.whl (1.0 MB)\n",
      "\u001b[2K     \u001b[90m━━━━━━━━━━━━━━━━━━━━━━━━━━━━━━━━━━━━━━━━\u001b[0m \u001b[32m1.0/1.0 MB\u001b[0m \u001b[31m11.7 MB/s\u001b[0m eta \u001b[36m0:00:00\u001b[0m\n",
      "\u001b[?25hCollecting langchain-core<1.0.0,>=0.3.49 (from langchain)\n",
      "  Downloading https://oneartifactoryprod.verizon.com/artifactory/api/pypi/Pypi-remote/packages/packages/01/78/39209de2ccc45a18e4bfa644a9846ec72831b464172b27dee156a622b599/langchain_core-0.3.50-py3-none-any.whl (423 kB)\n",
      "Collecting langchain-text-splitters<1.0.0,>=0.3.7 (from langchain)\n",
      "  Downloading https://oneartifactoryprod.verizon.com/artifactory/api/pypi/Pypi-remote/packages/packages/d3/85/b7a34b6d34bcc89a2252f5ffea30b94077ba3d7adf72e31b9e04e68c901a/langchain_text_splitters-0.3.7-py3-none-any.whl (32 kB)\n",
      "Collecting langsmith<0.4,>=0.1.17 (from langchain)\n",
      "  Downloading https://oneartifactoryprod.verizon.com/artifactory/api/pypi/Pypi-remote/packages/packages/d0/b7/83bdddd466c04f9c5914e5941f2c8180bc2b65c4f78b79f2d9530620a3e7/langsmith-0.3.24-py3-none-any.whl (352 kB)\n",
      "Requirement already satisfied: pydantic<3.0.0,>=2.7.4 in /home/domino/.local/lib/python3.11/site-packages (from langchain) (2.11.2)\n",
      "Requirement already satisfied: SQLAlchemy<3,>=1.4 in /usr/local/lib64/python3.11/site-packages (from langchain) (2.0.28)\n",
      "Requirement already satisfied: requests<3,>=2 in /usr/local/lib/python3.11/site-packages (from langchain) (2.31.0)\n",
      "Requirement already satisfied: PyYAML>=5.3 in /usr/local/lib64/python3.11/site-packages (from langchain) (6.0.1)\n",
      "Collecting tenacity!=8.4.0,<10.0.0,>=8.1.0 (from langchain-core<1.0.0,>=0.3.49->langchain)\n",
      "  Downloading https://oneartifactoryprod.verizon.com/artifactory/api/pypi/Pypi-remote/packages/packages/e5/30/643397144bfbfec6f6ef821f36f33e57d35946c44a2352d3c9f0ae847619/tenacity-9.1.2-py3-none-any.whl (28 kB)\n",
      "Collecting jsonpatch<2.0,>=1.33 (from langchain-core<1.0.0,>=0.3.49->langchain)\n",
      "  Downloading https://oneartifactoryprod.verizon.com/artifactory/api/pypi/Pypi-remote/packages/packages/73/07/02e16ed01e04a374e644b575638ec7987ae846d25ad97bcc9945a3ee4b0e/jsonpatch-1.33-py2.py3-none-any.whl (12 kB)\n",
      "Requirement already satisfied: packaging<25,>=23.2 in /usr/local/lib/python3.11/site-packages (from langchain-core<1.0.0,>=0.3.49->langchain) (23.2)\n",
      "Requirement already satisfied: typing-extensions>=4.7 in /home/domino/.local/lib/python3.11/site-packages (from langchain-core<1.0.0,>=0.3.49->langchain) (4.13.1)\n",
      "Requirement already satisfied: httpx<1,>=0.23.0 in /usr/local/lib/python3.11/site-packages (from langsmith<0.4,>=0.1.17->langchain) (0.27.0)\n",
      "Collecting orjson<4.0.0,>=3.9.14 (from langsmith<0.4,>=0.1.17->langchain)\n",
      "  Downloading https://oneartifactoryprod.verizon.com/artifactory/api/pypi/Pypi-remote/packages/packages/92/18/5b1e1e995bffad49dc4311a0bdfd874bc6f135fd20f0e1f671adc2c9910e/orjson-3.10.16-cp311-cp311-manylinux_2_17_x86_64.manylinux2014_x86_64.whl (132 kB)\n",
      "Collecting requests-toolbelt<2.0.0,>=1.0.0 (from langsmith<0.4,>=0.1.17->langchain)\n",
      "  Downloading https://oneartifactoryprod.verizon.com/artifactory/api/pypi/Pypi-remote/packages/packages/3f/51/d4db610ef29373b879047326cbf6fa98b6c1969d6f6dc423279de2b1be2c/requests_toolbelt-1.0.0-py2.py3-none-any.whl (54 kB)\n",
      "Collecting zstandard<0.24.0,>=0.23.0 (from langsmith<0.4,>=0.1.17->langchain)\n",
      "  Downloading https://oneartifactoryprod.verizon.com/artifactory/api/pypi/Pypi-remote/packages/packages/76/3f/dbafccf19cfeca25bbabf6f2dd81796b7218f768ec400f043edc767015a6/zstandard-0.23.0-cp311-cp311-manylinux_2_17_x86_64.manylinux2014_x86_64.whl (5.4 MB)\n"
     ]
    },
    {
     "name": "stdout",
     "output_type": "stream",
     "text": [
      "\u001b[2K     \u001b[90m━━━━━━━━━━━━━━━━━━━━━━━━━━━━━━━━━━━━━━━━\u001b[0m \u001b[32m5.4/5.4 MB\u001b[0m \u001b[31m86.2 MB/s\u001b[0m eta \u001b[36m0:00:00\u001b[0m\n",
      "\u001b[?25hRequirement already satisfied: annotated-types>=0.6.0 in /usr/local/lib/python3.11/site-packages (from pydantic<3.0.0,>=2.7.4->langchain) (0.6.0)\n",
      "Requirement already satisfied: pydantic-core==2.33.1 in /home/domino/.local/lib/python3.11/site-packages (from pydantic<3.0.0,>=2.7.4->langchain) (2.33.1)\n",
      "Requirement already satisfied: typing-inspection>=0.4.0 in /home/domino/.local/lib/python3.11/site-packages (from pydantic<3.0.0,>=2.7.4->langchain) (0.4.0)\n",
      "Requirement already satisfied: charset-normalizer<4,>=2 in /usr/local/lib64/python3.11/site-packages (from requests<3,>=2->langchain) (3.3.2)\n",
      "Requirement already satisfied: idna<4,>=2.5 in /usr/local/lib/python3.11/site-packages (from requests<3,>=2->langchain) (3.6)\n",
      "Requirement already satisfied: urllib3<3,>=1.21.1 in /usr/local/lib/python3.11/site-packages (from requests<3,>=2->langchain) (1.26.18)\n",
      "Requirement already satisfied: certifi>=2017.4.17 in /usr/local/lib/python3.11/site-packages (from requests<3,>=2->langchain) (2024.2.2)\n",
      "Requirement already satisfied: greenlet!=0.4.17 in /usr/local/lib64/python3.11/site-packages (from SQLAlchemy<3,>=1.4->langchain) (3.0.3)\n",
      "Requirement already satisfied: anyio in /usr/local/lib/python3.11/site-packages (from httpx<1,>=0.23.0->langsmith<0.4,>=0.1.17->langchain) (4.3.0)\n",
      "Requirement already satisfied: httpcore==1.* in /usr/local/lib/python3.11/site-packages (from httpx<1,>=0.23.0->langsmith<0.4,>=0.1.17->langchain) (1.0.4)\n",
      "Requirement already satisfied: sniffio in /usr/local/lib/python3.11/site-packages (from httpx<1,>=0.23.0->langsmith<0.4,>=0.1.17->langchain) (1.3.1)\n",
      "Requirement already satisfied: h11<0.15,>=0.13 in /usr/local/lib/python3.11/site-packages (from httpcore==1.*->httpx<1,>=0.23.0->langsmith<0.4,>=0.1.17->langchain) (0.14.0)\n",
      "Requirement already satisfied: jsonpointer>=1.9 in /usr/local/lib/python3.11/site-packages (from jsonpatch<2.0,>=1.33->langchain-core<1.0.0,>=0.3.49->langchain) (2.4)\n",
      "Installing collected packages: zstandard, tenacity, orjson, jsonpatch, requests-toolbelt, langsmith, langchain-core, langchain-text-splitters, langchain\n",
      "\u001b[33m  WARNING: The script langchain-server is installed in '/home/domino/.local/bin' which is not on PATH.\n",
      "  Consider adding this directory to PATH or, if you prefer to suppress this warning, use --no-warn-script-location.\u001b[0m\u001b[33m\n",
      "\u001b[0mSuccessfully installed jsonpatch-1.33 langchain-0.3.22 langchain-core-0.3.50 langchain-text-splitters-0.3.7 langsmith-0.3.24 orjson-3.10.16 requests-toolbelt-1.0.0 tenacity-9.1.2 zstandard-0.23.0\n",
      "Defaulting to user installation because normal site-packages is not writeable\n",
      "Looking in indexes: https://oneartifactoryprod.verizon.com/artifactory/api/pypi/Pypi-remote/simple\n",
      "Collecting langchain_community\n",
      "  Downloading https://oneartifactoryprod.verizon.com/artifactory/api/pypi/Pypi-remote/packages/packages/ab/4b/2652cfd2baa482cb3cdbec1ccccae1674418b7576f21ba7724d8730de9db/langchain_community-0.3.20-py3-none-any.whl (2.5 MB)\n",
      "\u001b[2K     \u001b[90m━━━━━━━━━━━━━━━━━━━━━━━━━━━━━━━━━━━━━━━━\u001b[0m \u001b[32m2.5/2.5 MB\u001b[0m \u001b[31m23.9 MB/s\u001b[0m eta \u001b[36m0:00:00\u001b[0m\n",
      "\u001b[?25hRequirement already satisfied: langchain-core<1.0.0,>=0.3.45 in /home/domino/.local/lib/python3.11/site-packages (from langchain_community) (0.3.50)\n",
      "Requirement already satisfied: langchain<1.0.0,>=0.3.21 in /home/domino/.local/lib/python3.11/site-packages (from langchain_community) (0.3.22)\n",
      "Requirement already satisfied: SQLAlchemy<3,>=1.4 in /usr/local/lib64/python3.11/site-packages (from langchain_community) (2.0.28)\n",
      "Requirement already satisfied: requests<3,>=2 in /usr/local/lib/python3.11/site-packages (from langchain_community) (2.31.0)\n",
      "Requirement already satisfied: PyYAML>=5.3 in /usr/local/lib64/python3.11/site-packages (from langchain_community) (6.0.1)\n",
      "Requirement already satisfied: aiohttp<4.0.0,>=3.8.3 in /usr/local/lib64/python3.11/site-packages (from langchain_community) (3.9.3)\n",
      "Requirement already satisfied: tenacity!=8.4.0,<10,>=8.1.0 in /home/domino/.local/lib/python3.11/site-packages (from langchain_community) (9.1.2)\n",
      "Collecting dataclasses-json<0.7,>=0.5.7 (from langchain_community)\n",
      "  Downloading https://oneartifactoryprod.verizon.com/artifactory/api/pypi/Pypi-remote/packages/packages/c3/be/d0d44e092656fe7a06b55e6103cbce807cdbdee17884a5367c68c9860853/dataclasses_json-0.6.7-py3-none-any.whl (28 kB)\n",
      "Collecting pydantic-settings<3.0.0,>=2.4.0 (from langchain_community)\n",
      "  Downloading https://oneartifactoryprod.verizon.com/artifactory/api/pypi/Pypi-remote/packages/packages/0b/53/a64f03044927dc47aafe029c42a5b7aabc38dfb813475e0e1bf71c4a59d0/pydantic_settings-2.8.1-py3-none-any.whl (30 kB)\n",
      "Requirement already satisfied: langsmith<0.4,>=0.1.125 in /home/domino/.local/lib/python3.11/site-packages (from langchain_community) (0.3.24)\n",
      "Collecting httpx-sse<1.0.0,>=0.4.0 (from langchain_community)\n",
      "  Downloading https://oneartifactoryprod.verizon.com/artifactory/api/pypi/Pypi-remote/packages/packages/e1/9b/a181f281f65d776426002f330c31849b86b31fc9d848db62e16f03ff739f/httpx_sse-0.4.0-py3-none-any.whl (7.8 kB)\n",
      "Requirement already satisfied: numpy<3,>=1.26.2 in /usr/local/lib64/python3.11/site-packages (from langchain_community) (1.26.4)\n",
      "Requirement already satisfied: aiosignal>=1.1.2 in /usr/local/lib/python3.11/site-packages (from aiohttp<4.0.0,>=3.8.3->langchain_community) (1.3.1)\n",
      "Requirement already satisfied: attrs>=17.3.0 in /usr/local/lib/python3.11/site-packages (from aiohttp<4.0.0,>=3.8.3->langchain_community) (23.2.0)\n",
      "Requirement already satisfied: frozenlist>=1.1.1 in /usr/local/lib64/python3.11/site-packages (from aiohttp<4.0.0,>=3.8.3->langchain_community) (1.4.1)\n",
      "Requirement already satisfied: multidict<7.0,>=4.5 in /usr/local/lib64/python3.11/site-packages (from aiohttp<4.0.0,>=3.8.3->langchain_community) (6.0.5)\n",
      "Requirement already satisfied: yarl<2.0,>=1.0 in /usr/local/lib64/python3.11/site-packages (from aiohttp<4.0.0,>=3.8.3->langchain_community) (1.9.4)\n",
      "Collecting marshmallow<4.0.0,>=3.18.0 (from dataclasses-json<0.7,>=0.5.7->langchain_community)\n",
      "  Downloading https://oneartifactoryprod.verizon.com/artifactory/api/pypi/Pypi-remote/packages/packages/34/75/51952c7b2d3873b44a0028b1bd26a25078c18f92f256608e8d1dc61b39fd/marshmallow-3.26.1-py3-none-any.whl (50 kB)\n",
      "Collecting typing-inspect<1,>=0.4.0 (from dataclasses-json<0.7,>=0.5.7->langchain_community)\n",
      "  Downloading https://oneartifactoryprod.verizon.com/artifactory/api/pypi/Pypi-remote/packages/packages/65/f3/107a22063bf27bdccf2024833d3445f4eea42b2e598abfbd46f6a63b6cb0/typing_inspect-0.9.0-py3-none-any.whl (8.8 kB)\n",
      "Requirement already satisfied: langchain-text-splitters<1.0.0,>=0.3.7 in /home/domino/.local/lib/python3.11/site-packages (from langchain<1.0.0,>=0.3.21->langchain_community) (0.3.7)\n",
      "Requirement already satisfied: pydantic<3.0.0,>=2.7.4 in /home/domino/.local/lib/python3.11/site-packages (from langchain<1.0.0,>=0.3.21->langchain_community) (2.11.2)\n",
      "Requirement already satisfied: jsonpatch<2.0,>=1.33 in /home/domino/.local/lib/python3.11/site-packages (from langchain-core<1.0.0,>=0.3.45->langchain_community) (1.33)\n",
      "Requirement already satisfied: packaging<25,>=23.2 in /usr/local/lib/python3.11/site-packages (from langchain-core<1.0.0,>=0.3.45->langchain_community) (23.2)\n",
      "Requirement already satisfied: typing-extensions>=4.7 in /home/domino/.local/lib/python3.11/site-packages (from langchain-core<1.0.0,>=0.3.45->langchain_community) (4.13.1)\n",
      "Requirement already satisfied: httpx<1,>=0.23.0 in /usr/local/lib/python3.11/site-packages (from langsmith<0.4,>=0.1.125->langchain_community) (0.27.0)\n",
      "Requirement already satisfied: orjson<4.0.0,>=3.9.14 in /home/domino/.local/lib/python3.11/site-packages (from langsmith<0.4,>=0.1.125->langchain_community) (3.10.16)\n",
      "Requirement already satisfied: requests-toolbelt<2.0.0,>=1.0.0 in /home/domino/.local/lib/python3.11/site-packages (from langsmith<0.4,>=0.1.125->langchain_community) (1.0.0)\n",
      "Requirement already satisfied: zstandard<0.24.0,>=0.23.0 in /home/domino/.local/lib/python3.11/site-packages (from langsmith<0.4,>=0.1.125->langchain_community) (0.23.0)\n",
      "Requirement already satisfied: python-dotenv>=0.21.0 in /usr/local/lib/python3.11/site-packages (from pydantic-settings<3.0.0,>=2.4.0->langchain_community) (1.0.1)\n",
      "Requirement already satisfied: charset-normalizer<4,>=2 in /usr/local/lib64/python3.11/site-packages (from requests<3,>=2->langchain_community) (3.3.2)\n",
      "Requirement already satisfied: idna<4,>=2.5 in /usr/local/lib/python3.11/site-packages (from requests<3,>=2->langchain_community) (3.6)\n",
      "Requirement already satisfied: urllib3<3,>=1.21.1 in /usr/local/lib/python3.11/site-packages (from requests<3,>=2->langchain_community) (1.26.18)\n",
      "Requirement already satisfied: certifi>=2017.4.17 in /usr/local/lib/python3.11/site-packages (from requests<3,>=2->langchain_community) (2024.2.2)\n",
      "Requirement already satisfied: greenlet!=0.4.17 in /usr/local/lib64/python3.11/site-packages (from SQLAlchemy<3,>=1.4->langchain_community) (3.0.3)\n",
      "Requirement already satisfied: anyio in /usr/local/lib/python3.11/site-packages (from httpx<1,>=0.23.0->langsmith<0.4,>=0.1.125->langchain_community) (4.3.0)\n",
      "Requirement already satisfied: httpcore==1.* in /usr/local/lib/python3.11/site-packages (from httpx<1,>=0.23.0->langsmith<0.4,>=0.1.125->langchain_community) (1.0.4)\n",
      "Requirement already satisfied: sniffio in /usr/local/lib/python3.11/site-packages (from httpx<1,>=0.23.0->langsmith<0.4,>=0.1.125->langchain_community) (1.3.1)\n",
      "Requirement already satisfied: h11<0.15,>=0.13 in /usr/local/lib/python3.11/site-packages (from httpcore==1.*->httpx<1,>=0.23.0->langsmith<0.4,>=0.1.125->langchain_community) (0.14.0)\n",
      "Requirement already satisfied: jsonpointer>=1.9 in /usr/local/lib/python3.11/site-packages (from jsonpatch<2.0,>=1.33->langchain-core<1.0.0,>=0.3.45->langchain_community) (2.4)\n",
      "Requirement already satisfied: annotated-types>=0.6.0 in /usr/local/lib/python3.11/site-packages (from pydantic<3.0.0,>=2.7.4->langchain<1.0.0,>=0.3.21->langchain_community) (0.6.0)\n",
      "Requirement already satisfied: pydantic-core==2.33.1 in /home/domino/.local/lib/python3.11/site-packages (from pydantic<3.0.0,>=2.7.4->langchain<1.0.0,>=0.3.21->langchain_community) (2.33.1)\n",
      "Requirement already satisfied: typing-inspection>=0.4.0 in /home/domino/.local/lib/python3.11/site-packages (from pydantic<3.0.0,>=2.7.4->langchain<1.0.0,>=0.3.21->langchain_community) (0.4.0)\n"
     ]
    },
    {
     "name": "stdout",
     "output_type": "stream",
     "text": [
      "Collecting mypy-extensions>=0.3.0 (from typing-inspect<1,>=0.4.0->dataclasses-json<0.7,>=0.5.7->langchain_community)\n",
      "  Downloading https://oneartifactoryprod.verizon.com/artifactory/api/pypi/Pypi-remote/packages/packages/2a/e2/5d3f6ada4297caebe1a2add3b126fe800c96f56dbe5d1988a2cbe0b267aa/mypy_extensions-1.0.0-py3-none-any.whl (4.7 kB)\n",
      "Installing collected packages: mypy-extensions, marshmallow, httpx-sse, typing-inspect, pydantic-settings, dataclasses-json, langchain_community\n",
      "Successfully installed dataclasses-json-0.6.7 httpx-sse-0.4.0 langchain_community-0.3.20 marshmallow-3.26.1 mypy-extensions-1.0.0 pydantic-settings-2.8.1 typing-inspect-0.9.0\n",
      "Defaulting to user installation because normal site-packages is not writeable\n",
      "Looking in indexes: https://oneartifactoryprod.verizon.com/artifactory/api/pypi/Pypi-remote/simple\n",
      "Collecting langchain-ollama\n",
      "  Downloading https://oneartifactoryprod.verizon.com/artifactory/api/pypi/Pypi-remote/packages/packages/44/a1/a7dbdc39365f2f148a91724d8d52c0028cafe7dd6f0257462bc187bc4643/langchain_ollama-0.3.0-py3-none-any.whl (20 kB)\n",
      "Requirement already satisfied: ollama<1,>=0.4.4 in /home/domino/.local/lib/python3.11/site-packages (from langchain-ollama) (0.4.7)\n",
      "Requirement already satisfied: langchain-core<1.0.0,>=0.3.47 in /home/domino/.local/lib/python3.11/site-packages (from langchain-ollama) (0.3.50)\n",
      "Requirement already satisfied: langsmith<0.4,>=0.1.125 in /home/domino/.local/lib/python3.11/site-packages (from langchain-core<1.0.0,>=0.3.47->langchain-ollama) (0.3.24)\n",
      "Requirement already satisfied: tenacity!=8.4.0,<10.0.0,>=8.1.0 in /home/domino/.local/lib/python3.11/site-packages (from langchain-core<1.0.0,>=0.3.47->langchain-ollama) (9.1.2)\n",
      "Requirement already satisfied: jsonpatch<2.0,>=1.33 in /home/domino/.local/lib/python3.11/site-packages (from langchain-core<1.0.0,>=0.3.47->langchain-ollama) (1.33)\n",
      "Requirement already satisfied: PyYAML>=5.3 in /usr/local/lib64/python3.11/site-packages (from langchain-core<1.0.0,>=0.3.47->langchain-ollama) (6.0.1)\n",
      "Requirement already satisfied: packaging<25,>=23.2 in /usr/local/lib/python3.11/site-packages (from langchain-core<1.0.0,>=0.3.47->langchain-ollama) (23.2)\n",
      "Requirement already satisfied: typing-extensions>=4.7 in /home/domino/.local/lib/python3.11/site-packages (from langchain-core<1.0.0,>=0.3.47->langchain-ollama) (4.13.1)\n",
      "Requirement already satisfied: pydantic<3.0.0,>=2.5.2 in /home/domino/.local/lib/python3.11/site-packages (from langchain-core<1.0.0,>=0.3.47->langchain-ollama) (2.11.2)\n",
      "Requirement already satisfied: httpx<0.29,>=0.27 in /usr/local/lib/python3.11/site-packages (from ollama<1,>=0.4.4->langchain-ollama) (0.27.0)\n",
      "Requirement already satisfied: anyio in /usr/local/lib/python3.11/site-packages (from httpx<0.29,>=0.27->ollama<1,>=0.4.4->langchain-ollama) (4.3.0)\n",
      "Requirement already satisfied: certifi in /usr/local/lib/python3.11/site-packages (from httpx<0.29,>=0.27->ollama<1,>=0.4.4->langchain-ollama) (2024.2.2)\n",
      "Requirement already satisfied: httpcore==1.* in /usr/local/lib/python3.11/site-packages (from httpx<0.29,>=0.27->ollama<1,>=0.4.4->langchain-ollama) (1.0.4)\n",
      "Requirement already satisfied: idna in /usr/local/lib/python3.11/site-packages (from httpx<0.29,>=0.27->ollama<1,>=0.4.4->langchain-ollama) (3.6)\n",
      "Requirement already satisfied: sniffio in /usr/local/lib/python3.11/site-packages (from httpx<0.29,>=0.27->ollama<1,>=0.4.4->langchain-ollama) (1.3.1)\n",
      "Requirement already satisfied: h11<0.15,>=0.13 in /usr/local/lib/python3.11/site-packages (from httpcore==1.*->httpx<0.29,>=0.27->ollama<1,>=0.4.4->langchain-ollama) (0.14.0)\n",
      "Requirement already satisfied: jsonpointer>=1.9 in /usr/local/lib/python3.11/site-packages (from jsonpatch<2.0,>=1.33->langchain-core<1.0.0,>=0.3.47->langchain-ollama) (2.4)\n",
      "Requirement already satisfied: orjson<4.0.0,>=3.9.14 in /home/domino/.local/lib/python3.11/site-packages (from langsmith<0.4,>=0.1.125->langchain-core<1.0.0,>=0.3.47->langchain-ollama) (3.10.16)\n",
      "Requirement already satisfied: requests<3,>=2 in /usr/local/lib/python3.11/site-packages (from langsmith<0.4,>=0.1.125->langchain-core<1.0.0,>=0.3.47->langchain-ollama) (2.31.0)\n",
      "Requirement already satisfied: requests-toolbelt<2.0.0,>=1.0.0 in /home/domino/.local/lib/python3.11/site-packages (from langsmith<0.4,>=0.1.125->langchain-core<1.0.0,>=0.3.47->langchain-ollama) (1.0.0)\n",
      "Requirement already satisfied: zstandard<0.24.0,>=0.23.0 in /home/domino/.local/lib/python3.11/site-packages (from langsmith<0.4,>=0.1.125->langchain-core<1.0.0,>=0.3.47->langchain-ollama) (0.23.0)\n",
      "Requirement already satisfied: annotated-types>=0.6.0 in /usr/local/lib/python3.11/site-packages (from pydantic<3.0.0,>=2.5.2->langchain-core<1.0.0,>=0.3.47->langchain-ollama) (0.6.0)\n",
      "Requirement already satisfied: pydantic-core==2.33.1 in /home/domino/.local/lib/python3.11/site-packages (from pydantic<3.0.0,>=2.5.2->langchain-core<1.0.0,>=0.3.47->langchain-ollama) (2.33.1)\n",
      "Requirement already satisfied: typing-inspection>=0.4.0 in /home/domino/.local/lib/python3.11/site-packages (from pydantic<3.0.0,>=2.5.2->langchain-core<1.0.0,>=0.3.47->langchain-ollama) (0.4.0)\n",
      "Requirement already satisfied: charset-normalizer<4,>=2 in /usr/local/lib64/python3.11/site-packages (from requests<3,>=2->langsmith<0.4,>=0.1.125->langchain-core<1.0.0,>=0.3.47->langchain-ollama) (3.3.2)\n",
      "Requirement already satisfied: urllib3<3,>=1.21.1 in /usr/local/lib/python3.11/site-packages (from requests<3,>=2->langsmith<0.4,>=0.1.125->langchain-core<1.0.0,>=0.3.47->langchain-ollama) (1.26.18)\n",
      "Installing collected packages: langchain-ollama\n",
      "Successfully installed langchain-ollama-0.3.0\n",
      "Defaulting to user installation because normal site-packages is not writeable\n",
      "Looking in indexes: https://oneartifactoryprod.verizon.com/artifactory/api/pypi/Pypi-remote/simple\n",
      "Collecting typing_extensions==4.7.1\n",
      "  Downloading https://oneartifactoryprod.verizon.com/artifactory/api/pypi/Pypi-remote/packages/packages/ec/6b/63cc3df74987c36fe26157ee12e09e8f9db4de771e0f3404263117e75b95/typing_extensions-4.7.1-py3-none-any.whl (33 kB)\n",
      "Installing collected packages: typing_extensions\n",
      "  Attempting uninstall: typing_extensions\n",
      "    Found existing installation: typing_extensions 4.13.1\n",
      "    Uninstalling typing_extensions-4.13.1:\n",
      "      Successfully uninstalled typing_extensions-4.13.1\n",
      "\u001b[31mERROR: pip's dependency resolver does not currently take into account all the packages that are installed. This behaviour is the source of the following dependency conflicts.\n",
      "typing-inspection 0.4.0 requires typing-extensions>=4.12.0, but you have typing-extensions 4.7.1 which is incompatible.\n",
      "pydantic 2.11.2 requires typing-extensions>=4.12.2, but you have typing-extensions 4.7.1 which is incompatible.\n",
      "dominodatalab 1.3.0 requires typing-extensions~=4.4.0, but you have typing-extensions 4.7.1 which is incompatible.\n",
      "fastapi 0.108.0 requires typing-extensions>=4.8.0, but you have typing-extensions 4.7.1 which is incompatible.\u001b[0m\u001b[31m\n",
      "\u001b[0mSuccessfully installed typing_extensions-4.7.1\n"
     ]
    }
   ],
   "source": [
    "!pip install --upgrade pip\n",
    "!pip install ollama\n",
    "!pip install langchain\n",
    "!pip install langchain_community\n",
    "!pip install -U langchain-ollama\n",
    "!pip install typing_extensions==4.7.1"
   ]
  },
  {
   "cell_type": "code",
   "execution_count": 2,
   "id": "678fde6b",
   "metadata": {},
   "outputs": [
    {
     "name": "stdout",
     "output_type": "stream",
     "text": [
      "Defaulting to user installation because normal site-packages is not writeable\n",
      "Looking in indexes: https://oneartifactoryprod.verizon.com/artifactory/api/pypi/Pypi-remote/simple\n",
      "Requirement already satisfied: typing_extensions in /home/domino/.local/lib/python3.11/site-packages (4.7.1)\n",
      "Collecting typing_extensions\n",
      "  Using cached https://oneartifactoryprod.verizon.com/artifactory/api/pypi/Pypi-remote/packages/packages/df/c5/e7a0b0f5ed69f94c8ab7379c599e6036886bffcde609969a5325f47f1332/typing_extensions-4.13.1-py3-none-any.whl (45 kB)\n",
      "Installing collected packages: typing_extensions\n",
      "  Attempting uninstall: typing_extensions\n",
      "    Found existing installation: typing_extensions 4.7.1\n",
      "    Uninstalling typing_extensions-4.7.1:\n",
      "      Successfully uninstalled typing_extensions-4.7.1\n",
      "\u001b[31mERROR: pip's dependency resolver does not currently take into account all the packages that are installed. This behaviour is the source of the following dependency conflicts.\n",
      "dominodatalab 1.3.0 requires typing-extensions~=4.4.0, but you have typing-extensions 4.13.1 which is incompatible.\u001b[0m\u001b[31m\n",
      "\u001b[0mSuccessfully installed typing_extensions-4.13.1\n",
      "Note: you may need to restart the kernel to use updated packages.\n"
     ]
    }
   ],
   "source": [
    "pip install typing_extensions --upgrade"
   ]
  },
  {
   "cell_type": "code",
   "execution_count": 3,
   "id": "da136c01",
   "metadata": {},
   "outputs": [
    {
     "name": "stdout",
     "output_type": "stream",
     "text": [
      "Defaulting to user installation because normal site-packages is not writeable\n",
      "Looking in indexes: https://oneartifactoryprod.verizon.com/artifactory/api/pypi/Pypi-remote/simple\n",
      "Collecting langchain-qdrant\n",
      "  Downloading https://oneartifactoryprod.verizon.com/artifactory/api/pypi/Pypi-remote/packages/packages/68/01/22dad84373ba282237a3351547443c9c94c39fe75f71a1759f97cfa89725/langchain_qdrant-0.2.0-py3-none-any.whl (23 kB)\n",
      "Requirement already satisfied: langchain-core!=0.3.0,!=0.3.1,!=0.3.10,!=0.3.11,!=0.3.12,!=0.3.13,!=0.3.14,!=0.3.2,!=0.3.3,!=0.3.4,!=0.3.5,!=0.3.6,!=0.3.7,!=0.3.8,!=0.3.9,<0.4.0,>=0.2.43 in /home/domino/.local/lib/python3.11/site-packages (from langchain-qdrant) (0.3.50)\n",
      "Requirement already satisfied: pydantic<3.0.0,>=2.7.4 in /home/domino/.local/lib/python3.11/site-packages (from langchain-qdrant) (2.11.2)\n",
      "Collecting qdrant-client<2.0.0,>=1.10.1 (from langchain-qdrant)\n",
      "  Downloading https://oneartifactoryprod.verizon.com/artifactory/api/pypi/Pypi-remote/packages/packages/dd/b4/bd676f91f5234ab59282e4a110f324029684482cbe08e7a1c77b6338013b/qdrant_client-1.13.3-py3-none-any.whl (306 kB)\n",
      "Requirement already satisfied: langsmith<0.4,>=0.1.125 in /home/domino/.local/lib/python3.11/site-packages (from langchain-core!=0.3.0,!=0.3.1,!=0.3.10,!=0.3.11,!=0.3.12,!=0.3.13,!=0.3.14,!=0.3.2,!=0.3.3,!=0.3.4,!=0.3.5,!=0.3.6,!=0.3.7,!=0.3.8,!=0.3.9,<0.4.0,>=0.2.43->langchain-qdrant) (0.3.24)\n",
      "Requirement already satisfied: tenacity!=8.4.0,<10.0.0,>=8.1.0 in /home/domino/.local/lib/python3.11/site-packages (from langchain-core!=0.3.0,!=0.3.1,!=0.3.10,!=0.3.11,!=0.3.12,!=0.3.13,!=0.3.14,!=0.3.2,!=0.3.3,!=0.3.4,!=0.3.5,!=0.3.6,!=0.3.7,!=0.3.8,!=0.3.9,<0.4.0,>=0.2.43->langchain-qdrant) (9.1.2)\n",
      "Requirement already satisfied: jsonpatch<2.0,>=1.33 in /home/domino/.local/lib/python3.11/site-packages (from langchain-core!=0.3.0,!=0.3.1,!=0.3.10,!=0.3.11,!=0.3.12,!=0.3.13,!=0.3.14,!=0.3.2,!=0.3.3,!=0.3.4,!=0.3.5,!=0.3.6,!=0.3.7,!=0.3.8,!=0.3.9,<0.4.0,>=0.2.43->langchain-qdrant) (1.33)\n",
      "Requirement already satisfied: PyYAML>=5.3 in /usr/local/lib64/python3.11/site-packages (from langchain-core!=0.3.0,!=0.3.1,!=0.3.10,!=0.3.11,!=0.3.12,!=0.3.13,!=0.3.14,!=0.3.2,!=0.3.3,!=0.3.4,!=0.3.5,!=0.3.6,!=0.3.7,!=0.3.8,!=0.3.9,<0.4.0,>=0.2.43->langchain-qdrant) (6.0.1)\n",
      "Requirement already satisfied: packaging<25,>=23.2 in /usr/local/lib/python3.11/site-packages (from langchain-core!=0.3.0,!=0.3.1,!=0.3.10,!=0.3.11,!=0.3.12,!=0.3.13,!=0.3.14,!=0.3.2,!=0.3.3,!=0.3.4,!=0.3.5,!=0.3.6,!=0.3.7,!=0.3.8,!=0.3.9,<0.4.0,>=0.2.43->langchain-qdrant) (23.2)\n",
      "Requirement already satisfied: typing-extensions>=4.7 in /home/domino/.local/lib/python3.11/site-packages (from langchain-core!=0.3.0,!=0.3.1,!=0.3.10,!=0.3.11,!=0.3.12,!=0.3.13,!=0.3.14,!=0.3.2,!=0.3.3,!=0.3.4,!=0.3.5,!=0.3.6,!=0.3.7,!=0.3.8,!=0.3.9,<0.4.0,>=0.2.43->langchain-qdrant) (4.13.1)\n",
      "Requirement already satisfied: annotated-types>=0.6.0 in /usr/local/lib/python3.11/site-packages (from pydantic<3.0.0,>=2.7.4->langchain-qdrant) (0.6.0)\n",
      "Requirement already satisfied: pydantic-core==2.33.1 in /home/domino/.local/lib/python3.11/site-packages (from pydantic<3.0.0,>=2.7.4->langchain-qdrant) (2.33.1)\n",
      "Requirement already satisfied: typing-inspection>=0.4.0 in /home/domino/.local/lib/python3.11/site-packages (from pydantic<3.0.0,>=2.7.4->langchain-qdrant) (0.4.0)\n",
      "Requirement already satisfied: grpcio>=1.41.0 in /usr/local/lib64/python3.11/site-packages (from qdrant-client<2.0.0,>=1.10.1->langchain-qdrant) (1.62.1)\n",
      "Collecting grpcio-tools>=1.41.0 (from qdrant-client<2.0.0,>=1.10.1->langchain-qdrant)\n",
      "  Downloading https://oneartifactoryprod.verizon.com/artifactory/api/pypi/Pypi-remote/packages/packages/15/72/4e69beae87a1b334f80da9e93c8e2f5c8fe4860c956a781246a092dc4c97/grpcio_tools-1.71.0-cp311-cp311-manylinux_2_17_x86_64.manylinux2014_x86_64.whl (2.5 MB)\n",
      "\u001b[2K     \u001b[90m━━━━━━━━━━━━━━━━━━━━━━━━━━━━━━━━━━━━━━━━\u001b[0m \u001b[32m2.5/2.5 MB\u001b[0m \u001b[31m10.2 MB/s\u001b[0m eta \u001b[36m0:00:00\u001b[0ma \u001b[36m0:00:01\u001b[0m\n",
      "\u001b[?25hRequirement already satisfied: httpx>=0.20.0 in /usr/local/lib/python3.11/site-packages (from httpx[http2]>=0.20.0->qdrant-client<2.0.0,>=1.10.1->langchain-qdrant) (0.27.0)\n",
      "Requirement already satisfied: numpy>=1.21 in /usr/local/lib64/python3.11/site-packages (from qdrant-client<2.0.0,>=1.10.1->langchain-qdrant) (1.26.4)\n",
      "Collecting portalocker<3.0.0,>=2.7.0 (from qdrant-client<2.0.0,>=1.10.1->langchain-qdrant)\n",
      "  Downloading https://oneartifactoryprod.verizon.com/artifactory/api/pypi/Pypi-remote/packages/packages/9b/fb/a70a4214956182e0d7a9099ab17d50bfcba1056188e9b14f35b9e2b62a0d/portalocker-2.10.1-py3-none-any.whl (18 kB)\n",
      "Requirement already satisfied: urllib3<3,>=1.26.14 in /usr/local/lib/python3.11/site-packages (from qdrant-client<2.0.0,>=1.10.1->langchain-qdrant) (1.26.18)\n",
      "Collecting protobuf<6.0dev,>=5.26.1 (from grpcio-tools>=1.41.0->qdrant-client<2.0.0,>=1.10.1->langchain-qdrant)\n",
      "  Downloading https://oneartifactoryprod.verizon.com/artifactory/api/pypi/Pypi-remote/packages/packages/46/88/b01ed2291aae68b708f7d334288ad5fb3e7aa769a9c309c91a0d55cb91b0/protobuf-5.29.4-cp38-abi3-manylinux2014_x86_64.whl (319 kB)\n",
      "Collecting grpcio>=1.41.0 (from qdrant-client<2.0.0,>=1.10.1->langchain-qdrant)\n",
      "  Downloading https://oneartifactoryprod.verizon.com/artifactory/api/pypi/Pypi-remote/packages/packages/c7/67/cbd63c485051eb78663355d9efd1b896cfb50d4a220581ec2cb9a15cd750/grpcio-1.71.0-cp311-cp311-manylinux_2_17_x86_64.manylinux2014_x86_64.whl (5.9 MB)\n",
      "\u001b[2K     \u001b[90m━━━━━━━━━━━━━━━━━━━━━━━━━━━━━━━━━━━━━━━━\u001b[0m \u001b[32m5.9/5.9 MB\u001b[0m \u001b[31m61.8 MB/s\u001b[0m eta \u001b[36m0:00:00\u001b[0m\n",
      "\u001b[?25hRequirement already satisfied: setuptools in /usr/local/lib/python3.11/site-packages (from grpcio-tools>=1.41.0->qdrant-client<2.0.0,>=1.10.1->langchain-qdrant) (69.2.0)\n",
      "Requirement already satisfied: anyio in /usr/local/lib/python3.11/site-packages (from httpx>=0.20.0->httpx[http2]>=0.20.0->qdrant-client<2.0.0,>=1.10.1->langchain-qdrant) (4.3.0)\n",
      "Requirement already satisfied: certifi in /usr/local/lib/python3.11/site-packages (from httpx>=0.20.0->httpx[http2]>=0.20.0->qdrant-client<2.0.0,>=1.10.1->langchain-qdrant) (2024.2.2)\n",
      "Requirement already satisfied: httpcore==1.* in /usr/local/lib/python3.11/site-packages (from httpx>=0.20.0->httpx[http2]>=0.20.0->qdrant-client<2.0.0,>=1.10.1->langchain-qdrant) (1.0.4)\n",
      "Requirement already satisfied: idna in /usr/local/lib/python3.11/site-packages (from httpx>=0.20.0->httpx[http2]>=0.20.0->qdrant-client<2.0.0,>=1.10.1->langchain-qdrant) (3.6)\n",
      "Requirement already satisfied: sniffio in /usr/local/lib/python3.11/site-packages (from httpx>=0.20.0->httpx[http2]>=0.20.0->qdrant-client<2.0.0,>=1.10.1->langchain-qdrant) (1.3.1)\n",
      "Requirement already satisfied: h11<0.15,>=0.13 in /usr/local/lib/python3.11/site-packages (from httpcore==1.*->httpx>=0.20.0->httpx[http2]>=0.20.0->qdrant-client<2.0.0,>=1.10.1->langchain-qdrant) (0.14.0)\n",
      "Collecting h2<5,>=3 (from httpx[http2]>=0.20.0->qdrant-client<2.0.0,>=1.10.1->langchain-qdrant)\n",
      "  Downloading https://oneartifactoryprod.verizon.com/artifactory/api/pypi/Pypi-remote/packages/packages/d0/9e/984486f2d0a0bd2b024bf4bc1c62688fcafa9e61991f041fb0e2def4a982/h2-4.2.0-py3-none-any.whl (60 kB)\n",
      "Requirement already satisfied: jsonpointer>=1.9 in /usr/local/lib/python3.11/site-packages (from jsonpatch<2.0,>=1.33->langchain-core!=0.3.0,!=0.3.1,!=0.3.10,!=0.3.11,!=0.3.12,!=0.3.13,!=0.3.14,!=0.3.2,!=0.3.3,!=0.3.4,!=0.3.5,!=0.3.6,!=0.3.7,!=0.3.8,!=0.3.9,<0.4.0,>=0.2.43->langchain-qdrant) (2.4)\n",
      "Requirement already satisfied: orjson<4.0.0,>=3.9.14 in /home/domino/.local/lib/python3.11/site-packages (from langsmith<0.4,>=0.1.125->langchain-core!=0.3.0,!=0.3.1,!=0.3.10,!=0.3.11,!=0.3.12,!=0.3.13,!=0.3.14,!=0.3.2,!=0.3.3,!=0.3.4,!=0.3.5,!=0.3.6,!=0.3.7,!=0.3.8,!=0.3.9,<0.4.0,>=0.2.43->langchain-qdrant) (3.10.16)\n",
      "Requirement already satisfied: requests<3,>=2 in /usr/local/lib/python3.11/site-packages (from langsmith<0.4,>=0.1.125->langchain-core!=0.3.0,!=0.3.1,!=0.3.10,!=0.3.11,!=0.3.12,!=0.3.13,!=0.3.14,!=0.3.2,!=0.3.3,!=0.3.4,!=0.3.5,!=0.3.6,!=0.3.7,!=0.3.8,!=0.3.9,<0.4.0,>=0.2.43->langchain-qdrant) (2.31.0)\n",
      "Requirement already satisfied: requests-toolbelt<2.0.0,>=1.0.0 in /home/domino/.local/lib/python3.11/site-packages (from langsmith<0.4,>=0.1.125->langchain-core!=0.3.0,!=0.3.1,!=0.3.10,!=0.3.11,!=0.3.12,!=0.3.13,!=0.3.14,!=0.3.2,!=0.3.3,!=0.3.4,!=0.3.5,!=0.3.6,!=0.3.7,!=0.3.8,!=0.3.9,<0.4.0,>=0.2.43->langchain-qdrant) (1.0.0)\n",
      "Requirement already satisfied: zstandard<0.24.0,>=0.23.0 in /home/domino/.local/lib/python3.11/site-packages (from langsmith<0.4,>=0.1.125->langchain-core!=0.3.0,!=0.3.1,!=0.3.10,!=0.3.11,!=0.3.12,!=0.3.13,!=0.3.14,!=0.3.2,!=0.3.3,!=0.3.4,!=0.3.5,!=0.3.6,!=0.3.7,!=0.3.8,!=0.3.9,<0.4.0,>=0.2.43->langchain-qdrant) (0.23.0)\n"
     ]
    },
    {
     "name": "stdout",
     "output_type": "stream",
     "text": [
      "Collecting hyperframe<7,>=6.1 (from h2<5,>=3->httpx[http2]>=0.20.0->qdrant-client<2.0.0,>=1.10.1->langchain-qdrant)\n",
      "  Downloading https://oneartifactoryprod.verizon.com/artifactory/api/pypi/Pypi-remote/packages/packages/48/30/47d0bf6072f7252e6521f3447ccfa40b421b6824517f82854703d0f5a98b/hyperframe-6.1.0-py3-none-any.whl (13 kB)\n",
      "Collecting hpack<5,>=4.1 (from h2<5,>=3->httpx[http2]>=0.20.0->qdrant-client<2.0.0,>=1.10.1->langchain-qdrant)\n",
      "  Downloading https://oneartifactoryprod.verizon.com/artifactory/api/pypi/Pypi-remote/packages/packages/07/c6/80c95b1b2b94682a72cbdbfb85b81ae2daffa4291fbfa1b1464502ede10d/hpack-4.1.0-py3-none-any.whl (34 kB)\n",
      "Requirement already satisfied: charset-normalizer<4,>=2 in /usr/local/lib64/python3.11/site-packages (from requests<3,>=2->langsmith<0.4,>=0.1.125->langchain-core!=0.3.0,!=0.3.1,!=0.3.10,!=0.3.11,!=0.3.12,!=0.3.13,!=0.3.14,!=0.3.2,!=0.3.3,!=0.3.4,!=0.3.5,!=0.3.6,!=0.3.7,!=0.3.8,!=0.3.9,<0.4.0,>=0.2.43->langchain-qdrant) (3.3.2)\n",
      "Installing collected packages: protobuf, portalocker, hyperframe, hpack, grpcio, h2, grpcio-tools, qdrant-client, langchain-qdrant\n",
      "\u001b[31mERROR: pip's dependency resolver does not currently take into account all the packages that are installed. This behaviour is the source of the following dependency conflicts.\n",
      "googleapis-common-protos 1.63.0 requires protobuf!=3.20.0,!=3.20.1,!=4.21.1,!=4.21.2,!=4.21.3,!=4.21.4,!=4.21.5,<5.0.0.dev0,>=3.19.5, but you have protobuf 5.29.4 which is incompatible.\n",
      "wandb 0.16.4 requires protobuf!=4.21.0,<5,>=3.19.0; python_version > \"3.9\" and sys_platform == \"linux\", but you have protobuf 5.29.4 which is incompatible.\n",
      "mlflow 2.11.1 requires protobuf<5,>=3.12.0, but you have protobuf 5.29.4 which is incompatible.\n",
      "google-api-core 2.17.1 requires protobuf!=3.20.0,!=3.20.1,!=4.21.0,!=4.21.1,!=4.21.2,!=4.21.3,!=4.21.4,!=4.21.5,<5.0.0.dev0,>=3.19.5, but you have protobuf 5.29.4 which is incompatible.\n",
      "opentelemetry-proto 1.23.0 requires protobuf<5.0,>=3.19, but you have protobuf 5.29.4 which is incompatible.\n",
      "grpc-google-iam-v1 0.13.0 requires protobuf!=3.20.0,!=3.20.1,!=4.21.1,!=4.21.2,!=4.21.3,!=4.21.4,!=4.21.5,<5.0.0dev,>=3.19.5, but you have protobuf 5.29.4 which is incompatible.\n",
      "google-cloud-dataproc 5.9.3 requires protobuf!=3.20.0,!=3.20.1,!=4.21.0,!=4.21.1,!=4.21.2,!=4.21.3,!=4.21.4,!=4.21.5,<5.0.0dev,>=3.19.5, but you have protobuf 5.29.4 which is incompatible.\n",
      "google-cloud-bigquery-storage 2.24.0 requires protobuf!=3.20.0,!=3.20.1,!=4.21.0,!=4.21.1,!=4.21.2,!=4.21.3,!=4.21.4,!=4.21.5,<5.0.0dev,>=3.19.5, but you have protobuf 5.29.4 which is incompatible.\n",
      "proto-plus 1.23.0 requires protobuf<5.0.0dev,>=3.19.0, but you have protobuf 5.29.4 which is incompatible.\u001b[0m\u001b[31m\n",
      "\u001b[0mSuccessfully installed grpcio-1.71.0 grpcio-tools-1.71.0 h2-4.2.0 hpack-4.1.0 hyperframe-6.1.0 langchain-qdrant-0.2.0 portalocker-2.10.1 protobuf-5.29.4 qdrant-client-1.13.3\n",
      "Note: you may need to restart the kernel to use updated packages.\n"
     ]
    }
   ],
   "source": [
    "pip install langchain-qdrant"
   ]
  },
  {
   "cell_type": "code",
   "execution_count": 4,
   "id": "4c9a2468",
   "metadata": {},
   "outputs": [
    {
     "name": "stdout",
     "output_type": "stream",
     "text": [
      "Defaulting to user installation because normal site-packages is not writeable\n",
      "Looking in indexes: https://oneartifactoryprod.verizon.com/artifactory/api/pypi/Pypi-remote/simple\n",
      "Collecting agno==1.0.0\n",
      "  Downloading https://oneartifactoryprod.verizon.com/artifactory/api/pypi/Pypi-remote/packages/packages/62/4f/14d8241b87d288c4a63ac70434c926a070569ceb8039de77134ea1f10e02/agno-1.0.0-py3-none-any.whl (463 kB)\n",
      "Collecting docstring-parser (from agno==1.0.0)\n",
      "  Downloading https://oneartifactoryprod.verizon.com/artifactory/api/pypi/Pypi-remote/packages/packages/d5/7c/e9fcff7623954d86bdc17782036cbf715ecab1bec4847c008557affe1ca8/docstring_parser-0.16-py3-none-any.whl (36 kB)\n",
      "Requirement already satisfied: gitpython in /usr/local/lib/python3.11/site-packages (from agno==1.0.0) (3.1.42)\n",
      "Requirement already satisfied: httpx in /usr/local/lib/python3.11/site-packages (from agno==1.0.0) (0.27.0)\n",
      "Requirement already satisfied: pydantic-settings in /home/domino/.local/lib/python3.11/site-packages (from agno==1.0.0) (2.8.1)\n",
      "Requirement already satisfied: pydantic in /home/domino/.local/lib/python3.11/site-packages (from agno==1.0.0) (2.11.2)\n",
      "Requirement already satisfied: python-dotenv in /usr/local/lib/python3.11/site-packages (from agno==1.0.0) (1.0.1)\n",
      "Collecting python-multipart (from agno==1.0.0)\n",
      "  Downloading https://oneartifactoryprod.verizon.com/artifactory/api/pypi/Pypi-remote/packages/packages/45/58/38b5afbc1a800eeea951b9285d3912613f2603bdf897a4ab0f4bd7f405fc/python_multipart-0.0.20-py3-none-any.whl (24 kB)\n",
      "Requirement already satisfied: pyyaml in /usr/local/lib64/python3.11/site-packages (from agno==1.0.0) (6.0.1)\n",
      "Requirement already satisfied: rich in /usr/local/lib/python3.11/site-packages (from agno==1.0.0) (13.7.1)\n",
      "Collecting tomli (from agno==1.0.0)\n",
      "  Downloading https://oneartifactoryprod.verizon.com/artifactory/api/pypi/Pypi-remote/packages/packages/a9/6b/c54ede5dc70d648cc6361eaf429304b02f2871a345bbdd51e993d6cdf550/tomli-2.2.1-cp311-cp311-manylinux_2_17_x86_64.manylinux2014_x86_64.whl (236 kB)\n",
      "Requirement already satisfied: typer in /usr/local/lib/python3.11/site-packages (from agno==1.0.0) (0.9.0)\n",
      "Requirement already satisfied: typing-extensions in /home/domino/.local/lib/python3.11/site-packages (from agno==1.0.0) (4.13.1)\n",
      "Requirement already satisfied: gitdb<5,>=4.0.1 in /usr/local/lib/python3.11/site-packages (from gitpython->agno==1.0.0) (4.0.11)\n",
      "Requirement already satisfied: anyio in /usr/local/lib/python3.11/site-packages (from httpx->agno==1.0.0) (4.3.0)\n",
      "Requirement already satisfied: certifi in /usr/local/lib/python3.11/site-packages (from httpx->agno==1.0.0) (2024.2.2)\n",
      "Requirement already satisfied: httpcore==1.* in /usr/local/lib/python3.11/site-packages (from httpx->agno==1.0.0) (1.0.4)\n",
      "Requirement already satisfied: idna in /usr/local/lib/python3.11/site-packages (from httpx->agno==1.0.0) (3.6)\n",
      "Requirement already satisfied: sniffio in /usr/local/lib/python3.11/site-packages (from httpx->agno==1.0.0) (1.3.1)\n",
      "Requirement already satisfied: h11<0.15,>=0.13 in /usr/local/lib/python3.11/site-packages (from httpcore==1.*->httpx->agno==1.0.0) (0.14.0)\n",
      "Requirement already satisfied: annotated-types>=0.6.0 in /usr/local/lib/python3.11/site-packages (from pydantic->agno==1.0.0) (0.6.0)\n",
      "Requirement already satisfied: pydantic-core==2.33.1 in /home/domino/.local/lib/python3.11/site-packages (from pydantic->agno==1.0.0) (2.33.1)\n",
      "Requirement already satisfied: typing-inspection>=0.4.0 in /home/domino/.local/lib/python3.11/site-packages (from pydantic->agno==1.0.0) (0.4.0)\n",
      "Requirement already satisfied: markdown-it-py>=2.2.0 in /usr/local/lib/python3.11/site-packages (from rich->agno==1.0.0) (3.0.0)\n",
      "Requirement already satisfied: pygments<3.0.0,>=2.13.0 in /usr/local/lib/python3.11/site-packages (from rich->agno==1.0.0) (2.17.2)\n",
      "Requirement already satisfied: click<9.0.0,>=7.1.1 in /usr/local/lib/python3.11/site-packages (from typer->agno==1.0.0) (8.1.7)\n",
      "Requirement already satisfied: smmap<6,>=3.0.1 in /usr/local/lib/python3.11/site-packages (from gitdb<5,>=4.0.1->gitpython->agno==1.0.0) (5.0.1)\n",
      "Requirement already satisfied: mdurl~=0.1 in /usr/local/lib/python3.11/site-packages (from markdown-it-py>=2.2.0->rich->agno==1.0.0) (0.1.2)\n",
      "Installing collected packages: tomli, python-multipart, docstring-parser, agno\n",
      "\u001b[33m  WARNING: The scripts ag and agno are installed in '/home/domino/.local/bin' which is not on PATH.\n",
      "  Consider adding this directory to PATH or, if you prefer to suppress this warning, use --no-warn-script-location.\u001b[0m\u001b[33m\n",
      "\u001b[0mSuccessfully installed agno-1.0.0 docstring-parser-0.16 python-multipart-0.0.20 tomli-2.2.1\n",
      "Note: you may need to restart the kernel to use updated packages.\n"
     ]
    }
   ],
   "source": [
    "pip install agno==1.0.0"
   ]
  },
  {
   "cell_type": "code",
   "execution_count": 5,
   "id": "e0f1b2ca",
   "metadata": {},
   "outputs": [
    {
     "name": "stdout",
     "output_type": "stream",
     "text": [
      "Defaulting to user installation because normal site-packages is not writeable\n",
      "Looking in indexes: https://oneartifactoryprod.verizon.com/artifactory/api/pypi/Pypi-remote/simple\n",
      "Collecting httpx==0.23.3\n",
      "  Downloading https://oneartifactoryprod.verizon.com/artifactory/api/pypi/Pypi-remote/packages/packages/ac/a2/0260c0f5d73bdf06e8d3fc1013a82b9f0633dc21750c9e3f3cb1dba7bb8c/httpx-0.23.3-py3-none-any.whl (71 kB)\n",
      "Requirement already satisfied: certifi in /usr/local/lib/python3.11/site-packages (from httpx==0.23.3) (2024.2.2)\n",
      "Collecting httpcore<0.17.0,>=0.15.0 (from httpx==0.23.3)\n",
      "  Downloading https://oneartifactoryprod.verizon.com/artifactory/api/pypi/Pypi-remote/packages/packages/04/7e/ef97af4623024e8159993b3114ce208de4f677098ae058ec5882a1bf7605/httpcore-0.16.3-py3-none-any.whl (69 kB)\n",
      "Collecting rfc3986<2,>=1.3 (from rfc3986[idna2008]<2,>=1.3->httpx==0.23.3)\n",
      "  Downloading https://oneartifactoryprod.verizon.com/artifactory/api/pypi/Pypi-remote/packages/packages/c4/e5/63ca2c4edf4e00657584608bee1001302bbf8c5f569340b78304f2f446cb/rfc3986-1.5.0-py2.py3-none-any.whl (31 kB)\n",
      "Requirement already satisfied: sniffio in /usr/local/lib/python3.11/site-packages (from httpx==0.23.3) (1.3.1)\n",
      "Requirement already satisfied: h11<0.15,>=0.13 in /usr/local/lib/python3.11/site-packages (from httpcore<0.17.0,>=0.15.0->httpx==0.23.3) (0.14.0)\n",
      "Requirement already satisfied: anyio<5.0,>=3.0 in /usr/local/lib/python3.11/site-packages (from httpcore<0.17.0,>=0.15.0->httpx==0.23.3) (4.3.0)\n",
      "Requirement already satisfied: idna in /usr/local/lib/python3.11/site-packages (from rfc3986[idna2008]<2,>=1.3->httpx==0.23.3) (3.6)\n",
      "Installing collected packages: rfc3986, httpcore, httpx\n",
      "\u001b[33m  WARNING: The script httpx is installed in '/home/domino/.local/bin' which is not on PATH.\n",
      "  Consider adding this directory to PATH or, if you prefer to suppress this warning, use --no-warn-script-location.\u001b[0m\u001b[33m\n",
      "\u001b[0m\u001b[31mERROR: pip's dependency resolver does not currently take into account all the packages that are installed. This behaviour is the source of the following dependency conflicts.\n",
      "ollama 0.4.7 requires httpx<0.29,>=0.27, but you have httpx 0.23.3 which is incompatible.\u001b[0m\u001b[31m\n",
      "\u001b[0mSuccessfully installed httpcore-0.16.3 httpx-0.23.3 rfc3986-1.5.0\n",
      "Note: you may need to restart the kernel to use updated packages.\n"
     ]
    }
   ],
   "source": [
    "pip install httpx=='0.23.3'"
   ]
  },
  {
   "cell_type": "code",
   "execution_count": 6,
   "id": "bf98e2d8",
   "metadata": {},
   "outputs": [
    {
     "name": "stdout",
     "output_type": "stream",
     "text": [
      "Defaulting to user installation because normal site-packages is not writeable\n",
      "Looking in indexes: https://oneartifactoryprod.verizon.com/artifactory/api/pypi/Pypi-remote/simple\n",
      "Collecting fastembed\n",
      "  Downloading https://oneartifactoryprod.verizon.com/artifactory/api/pypi/Pypi-remote/packages/packages/94/f4/82764d9d4fc31428f6a8dd2daa0c53462cc66843e1bb55437e8fbf581140/fastembed-0.6.0-py3-none-any.whl (85 kB)\n",
      "Requirement already satisfied: huggingface-hub<1.0,>=0.20 in /usr/local/lib/python3.11/site-packages (from fastembed) (0.21.4)\n",
      "Collecting loguru<0.8.0,>=0.7.2 (from fastembed)\n",
      "  Downloading https://oneartifactoryprod.verizon.com/artifactory/api/pypi/Pypi-remote/packages/packages/0c/29/0348de65b8cc732daa3e33e67806420b2ae89bdce2b04af740289c5c6c8c/loguru-0.7.3-py3-none-any.whl (61 kB)\n",
      "Collecting mmh3<6.0.0,>=4.1.0 (from fastembed)\n",
      "  Downloading https://oneartifactoryprod.verizon.com/artifactory/api/pypi/Pypi-remote/packages/packages/ac/aa/8bc964067df9262740c95e4cde2d19f149f2224f426654e14199a9e47df6/mmh3-5.1.0-cp311-cp311-manylinux_2_5_x86_64.manylinux1_x86_64.manylinux_2_17_x86_64.manylinux2014_x86_64.whl (101 kB)\n",
      "Requirement already satisfied: numpy>=1.21 in /usr/local/lib64/python3.11/site-packages (from fastembed) (1.26.4)\n",
      "Collecting onnxruntime!=1.20.0,>=1.17.0 (from fastembed)\n",
      "  Downloading https://oneartifactoryprod.verizon.com/artifactory/api/pypi/Pypi-remote/packages/packages/f9/49/1e916e8d1d957a1432c1662ef2e94f3e4afab31f6f1888fb80d4da374a5d/onnxruntime-1.21.0-cp311-cp311-manylinux_2_27_x86_64.manylinux_2_28_x86_64.whl (16.0 MB)\n",
      "\u001b[2K     \u001b[90m━━━━━━━━━━━━━━━━━━━━━━━━━━━━━━━━━━━━━━━\u001b[0m \u001b[32m16.0/16.0 MB\u001b[0m \u001b[31m122.5 MB/s\u001b[0m eta \u001b[36m0:00:00\u001b[0m\n",
      "\u001b[?25hCollecting pillow<12.0.0,>=10.3.0 (from fastembed)\n",
      "  Downloading https://oneartifactoryprod.verizon.com/artifactory/api/pypi/Pypi-remote/packages/packages/48/a4/fbfe9d5581d7b111b28f1d8c2762dee92e9821bb209af9fa83c940e507a0/pillow-11.1.0-cp311-cp311-manylinux_2_28_x86_64.whl (4.5 MB)\n",
      "\u001b[2K     \u001b[90m━━━━━━━━━━━━━━━━━━━━━━━━━━━━━━━━━━━━━━━━\u001b[0m \u001b[32m4.5/4.5 MB\u001b[0m \u001b[31m55.2 MB/s\u001b[0m eta \u001b[36m0:00:00\u001b[0m\n",
      "\u001b[?25hCollecting py-rust-stemmers<0.2.0,>=0.1.0 (from fastembed)\n",
      "  Downloading https://oneartifactoryprod.verizon.com/artifactory/api/pypi/Pypi-remote/packages/packages/7f/65/feb83af28095397466e6e031989ff760cc89b01e7da169e76d4cf16a2252/py_rust_stemmers-0.1.5-cp311-cp311-manylinux_2_28_x86_64.whl (324 kB)\n",
      "Requirement already satisfied: requests<3.0,>=2.31 in /usr/local/lib/python3.11/site-packages (from fastembed) (2.31.0)\n",
      "Requirement already satisfied: tokenizers<1.0,>=0.15 in /usr/local/lib64/python3.11/site-packages (from fastembed) (0.15.2)\n",
      "Requirement already satisfied: tqdm<5.0,>=4.66 in /usr/local/lib/python3.11/site-packages (from fastembed) (4.66.2)\n",
      "Requirement already satisfied: filelock in /usr/local/lib/python3.11/site-packages (from huggingface-hub<1.0,>=0.20->fastembed) (3.13.1)\n",
      "Requirement already satisfied: fsspec>=2023.5.0 in /usr/local/lib/python3.11/site-packages (from huggingface-hub<1.0,>=0.20->fastembed) (2024.3.1)\n",
      "Requirement already satisfied: pyyaml>=5.1 in /usr/local/lib64/python3.11/site-packages (from huggingface-hub<1.0,>=0.20->fastembed) (6.0.1)\n",
      "Requirement already satisfied: typing-extensions>=3.7.4.3 in /home/domino/.local/lib/python3.11/site-packages (from huggingface-hub<1.0,>=0.20->fastembed) (4.13.1)\n",
      "Requirement already satisfied: packaging>=20.9 in /usr/local/lib/python3.11/site-packages (from huggingface-hub<1.0,>=0.20->fastembed) (23.2)\n",
      "Collecting coloredlogs (from onnxruntime!=1.20.0,>=1.17.0->fastembed)\n",
      "  Downloading https://oneartifactoryprod.verizon.com/artifactory/api/pypi/Pypi-remote/packages/packages/a7/06/3d6badcf13db419e25b07041d9c7b4a2c331d3f4e7134445ec5df57714cd/coloredlogs-15.0.1-py2.py3-none-any.whl (46 kB)\n",
      "Collecting flatbuffers (from onnxruntime!=1.20.0,>=1.17.0->fastembed)\n",
      "  Downloading https://oneartifactoryprod.verizon.com/artifactory/api/pypi/Pypi-remote/packages/packages/b8/25/155f9f080d5e4bc0082edfda032ea2bc2b8fab3f4d25d46c1e9dd22a1a89/flatbuffers-25.2.10-py2.py3-none-any.whl (30 kB)\n",
      "Requirement already satisfied: protobuf in /home/domino/.local/lib/python3.11/site-packages (from onnxruntime!=1.20.0,>=1.17.0->fastembed) (5.29.4)\n",
      "Requirement already satisfied: sympy in /usr/local/lib/python3.11/site-packages (from onnxruntime!=1.20.0,>=1.17.0->fastembed) (1.12)\n",
      "Requirement already satisfied: charset-normalizer<4,>=2 in /usr/local/lib64/python3.11/site-packages (from requests<3.0,>=2.31->fastembed) (3.3.2)\n",
      "Requirement already satisfied: idna<4,>=2.5 in /usr/local/lib/python3.11/site-packages (from requests<3.0,>=2.31->fastembed) (3.6)\n",
      "Requirement already satisfied: urllib3<3,>=1.21.1 in /usr/local/lib/python3.11/site-packages (from requests<3.0,>=2.31->fastembed) (1.26.18)\n",
      "Requirement already satisfied: certifi>=2017.4.17 in /usr/local/lib/python3.11/site-packages (from requests<3.0,>=2.31->fastembed) (2024.2.2)\n",
      "Collecting humanfriendly>=9.1 (from coloredlogs->onnxruntime!=1.20.0,>=1.17.0->fastembed)\n",
      "  Downloading https://oneartifactoryprod.verizon.com/artifactory/api/pypi/Pypi-remote/packages/packages/f0/0f/310fb31e39e2d734ccaa2c0fb981ee41f7bd5056ce9bc29b2248bd569169/humanfriendly-10.0-py2.py3-none-any.whl (86 kB)\n",
      "Requirement already satisfied: mpmath>=0.19 in /usr/local/lib/python3.11/site-packages (from sympy->onnxruntime!=1.20.0,>=1.17.0->fastembed) (1.3.0)\n",
      "Installing collected packages: py-rust-stemmers, flatbuffers, pillow, mmh3, loguru, humanfriendly, coloredlogs, onnxruntime, fastembed\n",
      "\u001b[33m  WARNING: The script humanfriendly is installed in '/home/domino/.local/bin' which is not on PATH.\n",
      "  Consider adding this directory to PATH or, if you prefer to suppress this warning, use --no-warn-script-location.\u001b[0m\u001b[33m\n",
      "\u001b[0m\u001b[33m  WARNING: The script coloredlogs is installed in '/home/domino/.local/bin' which is not on PATH.\n",
      "  Consider adding this directory to PATH or, if you prefer to suppress this warning, use --no-warn-script-location.\u001b[0m\u001b[33m\n",
      "\u001b[0m\u001b[33m  WARNING: The script onnxruntime_test is installed in '/home/domino/.local/bin' which is not on PATH.\n",
      "  Consider adding this directory to PATH or, if you prefer to suppress this warning, use --no-warn-script-location.\u001b[0m\u001b[33m\n",
      "\u001b[0m\u001b[31mERROR: pip's dependency resolver does not currently take into account all the packages that are installed. This behaviour is the source of the following dependency conflicts.\n",
      "mlflow 2.11.1 requires protobuf<5,>=3.12.0, but you have protobuf 5.29.4 which is incompatible.\u001b[0m\u001b[31m\n",
      "\u001b[0mSuccessfully installed coloredlogs-15.0.1 fastembed-0.6.0 flatbuffers-25.2.10 humanfriendly-10.0 loguru-0.7.3 mmh3-5.1.0 onnxruntime-1.21.0 pillow-11.1.0 py-rust-stemmers-0.1.5\n",
      "Note: you may need to restart the kernel to use updated packages.\n"
     ]
    }
   ],
   "source": [
    "pip install fastembed"
   ]
  },
  {
   "cell_type": "code",
   "execution_count": 55,
   "id": "f75bcc19",
   "metadata": {},
   "outputs": [],
   "source": [
    "# from phi.storage.agent.sqlite import SqlAgentStorage"
   ]
  },
  {
   "cell_type": "code",
   "execution_count": 1,
   "id": "a89a07c2",
   "metadata": {},
   "outputs": [
    {
     "name": "stderr",
     "output_type": "stream",
     "text": [
      "USER_AGENT environment variable not set, consider setting it to identify your requests.\n"
     ]
    }
   ],
   "source": [
    "from langchain_community.document_loaders import WebBaseLoader\n",
    "from langchain_text_splitters import RecursiveCharacterTextSplitter\n",
    "from langchain_community.embeddings.fastembed import FastEmbedEmbeddings\n",
    "from langchain_qdrant import QdrantVectorStore\n",
    "from qdrant_client import QdrantClient\n",
    "from qdrant_client.http.models import Distance, VectorParams\n",
    "from qdrant_client.http.exceptions import UnexpectedResponse\n",
    "\n",
    "from agno.agent import Agent\n",
    "from agno.knowledge.langchain import LangChainKnowledgeBase\n",
    "from agno.models.ollama import Ollama"
   ]
  },
  {
   "cell_type": "code",
   "execution_count": 2,
   "id": "aece0414",
   "metadata": {},
   "outputs": [
    {
     "name": "stderr",
     "output_type": "stream",
     "text": [
      "/home/domino/.local/lib/python3.11/site-packages/langchain_community/embeddings/fastembed.py:109: UserWarning: The model thenlper/gte-large now uses mean pooling instead of CLS embedding. In order to preserve the previous behaviour, consider either pinning fastembed version to 0.5.1 or using `add_custom_model` functionality.\n",
      "  values[\"model\"] = fastembed.TextEmbedding(\n"
     ]
    },
    {
     "data": {
      "application/vnd.jupyter.widget-view+json": {
       "model_id": "3bb0d1d50836498e8ec9636e1cb7f0a1",
       "version_major": 2,
       "version_minor": 0
      },
      "text/plain": [
       "Fetching 5 files:   0%|          | 0/5 [00:00<?, ?it/s]"
      ]
     },
     "metadata": {},
     "output_type": "display_data"
    },
    {
     "data": {
      "application/vnd.jupyter.widget-view+json": {
       "model_id": "301bcbee77024df08eec6627ca741e9d",
       "version_major": 2,
       "version_minor": 0
      },
      "text/plain": [
       "tokenizer_config.json:   0%|          | 0.00/1.41k [00:00<?, ?B/s]"
      ]
     },
     "metadata": {},
     "output_type": "display_data"
    },
    {
     "data": {
      "application/vnd.jupyter.widget-view+json": {
       "model_id": "77261a83e24144828a2154014c728416",
       "version_major": 2,
       "version_minor": 0
      },
      "text/plain": [
       "config.json:   0%|          | 0.00/660 [00:00<?, ?B/s]"
      ]
     },
     "metadata": {},
     "output_type": "display_data"
    },
    {
     "data": {
      "application/vnd.jupyter.widget-view+json": {
       "model_id": "6fa878f1274b4ad1acd4b9f251cbdc77",
       "version_major": 2,
       "version_minor": 0
      },
      "text/plain": [
       "special_tokens_map.json:   0%|          | 0.00/695 [00:00<?, ?B/s]"
      ]
     },
     "metadata": {},
     "output_type": "display_data"
    },
    {
     "data": {
      "application/vnd.jupyter.widget-view+json": {
       "model_id": "a188bce83cd74f68a8c4627265fcc38c",
       "version_major": 2,
       "version_minor": 0
      },
      "text/plain": [
       "model.onnx:   0%|          | 0.00/1.34G [00:00<?, ?B/s]"
      ]
     },
     "metadata": {},
     "output_type": "display_data"
    },
    {
     "data": {
      "application/vnd.jupyter.widget-view+json": {
       "model_id": "0d11fcda1dc44822b449a5220b426336",
       "version_major": 2,
       "version_minor": 0
      },
      "text/plain": [
       "tokenizer.json:   0%|          | 0.00/712k [00:00<?, ?B/s]"
      ]
     },
     "metadata": {},
     "output_type": "display_data"
    }
   ],
   "source": [
    "\n",
    "\n",
    "urls = [\"https://www.straighttalk.com/privacy-policy\",\n",
    "        \"https://www.straighttalk.com/support/terms-conditions\"\n",
    "#     \"https://www.straighttalk.com/all-plans\"\n",
    "#     \"https://blog.google/technology/developers/gemma-3/\",\n",
    "]\n",
    "\n",
    "loader = WebBaseLoader(urls)\n",
    "data = loader.load()\n",
    "text_splitter = RecursiveCharacterTextSplitter(\n",
    "    chunk_size=1024, chunk_overlap=50\n",
    ")\n",
    "chunks = text_splitter.split_documents(data)\n",
    "embeddings = FastEmbedEmbeddings(model_name=\"thenlper/gte-large\")\n",
    "\n",
    "client = QdrantClient(path=\"/tmp/aiprivacy_terms_conditionsnewnow\") #/tmp/privacy\n",
    "collection_name = \"ai-agent-rag-updatenewnow\"\n",
    "\n",
    "try:\n",
    "    collection_info = client.get_collection(collection_name=collection_name)\n",
    "except (UnexpectedResponse, ValueError):\n",
    "    client.create_collection(\n",
    "        collection_name=collection_name,\n",
    "        vectors_config=VectorParams(size=1024, distance=Distance.COSINE),\n",
    "    )\n"
   ]
  },
  {
   "cell_type": "code",
   "execution_count": null,
   "id": "118e805d",
   "metadata": {},
   "outputs": [],
   "source": []
  },
  {
   "cell_type": "code",
   "execution_count": 3,
   "id": "d4b25bb5",
   "metadata": {},
   "outputs": [],
   "source": [
    "\n",
    "\n",
    "vector_store = QdrantVectorStore(\n",
    "    client=client,\n",
    "    collection_name=collection_name,\n",
    "    embedding=embeddings,\n",
    ")\n",
    "\n",
    "vector_store.add_documents(documents=chunks)\n",
    "retriever = vector_store.as_retriever()\n",
    "\n",
    "knowledge_base = LangChainKnowledgeBase(retriever=retriever)\n"
   ]
  },
  {
   "cell_type": "code",
   "execution_count": 5,
   "id": "1646901e",
   "metadata": {},
   "outputs": [],
   "source": [
    "from ollama import Client\n",
    "ollama_sync_client = Client(\n",
    "#     host    = OLLAMA_BASE_URL,\n",
    "    headers = {\n",
    "        'temperature': '0.001',\n",
    "        'seed': '1234567890'\n",
    "    }\n",
    ")"
   ]
  },
  {
   "cell_type": "code",
   "execution_count": 6,
   "id": "80363596",
   "metadata": {},
   "outputs": [],
   "source": [
    "import json\n",
    "\n",
    "from rich.console import Console\n",
    "from rich.panel import Panel\n",
    "from rich.json import JSON\n",
    "\n",
    "from agno.agent import Agent\n",
    "# from agno.models.openai import OpenAIChat\n",
    "from agno.storage.agent.sqlite import SqliteAgentStorage"
   ]
  },
  {
   "cell_type": "code",
   "execution_count": 7,
   "id": "7b7b5204",
   "metadata": {},
   "outputs": [
    {
     "name": "stdout",
     "output_type": "stream",
     "text": [
      "Start chat to see history\n"
     ]
    }
   ],
   "source": [
    "\n",
    "\n",
    "console = Console()\n",
    "\n",
    "\n",
    "def print_chat_history(agent):\n",
    "    # -*- Print history\n",
    "    console.print(\n",
    "        Panel(\n",
    "            JSON(json.dumps([m.model_dump(include={\"role\", \"content\"}) for m in agent.memory.messages]), indent=4),\n",
    "            title=f\"Chat History for session_id: {agent.session_id}\",\n",
    "            expand=True,\n",
    "        )\n",
    "    )\n",
    "\n",
    "try:\n",
    "    print_chat_history(agent)\n",
    "except:\n",
    "    print(\"Start chat to see history\")\n"
   ]
  },
  {
   "cell_type": "code",
   "execution_count": 11,
   "id": "4f67538f",
   "metadata": {},
   "outputs": [],
   "source": [
    "\n",
    "\n",
    "# agent = Agent(\n",
    "#     model=Ollama(id=\"llama3.2:1b\",options={\"temperature\":0}),\n",
    "#     knowledge=knowledge_base,\n",
    "#     # Set add_history_to_messages=true to add the previous chat history to the messages sent to the Model.\n",
    "#     add_history_to_messages=True,\n",
    "#     # Number of historical responses to add to the messages.\n",
    "#     num_history_responses=3,\n",
    "#     description=\"Answer to the user question from the knowledge base.If the user question is out of knowledge base, tell no records found\",\n",
    "#     markdown=False,\n",
    "#     search_knowledge=True,\n",
    "# )\n",
    "\n",
    "\n",
    "\n",
    "agent = Agent(\n",
    "    model=Ollama(id=\"llama3.2:3b\",client=ollama_sync_client), # options={\"temperature\":0.01}),\n",
    "    description=\"Answer to the user question from the knowledge base.If the user question is out of knowledge base, respond as no records found\",\n",
    "    \n",
    "    instructions=[\n",
    "        \"search the knowledge base only for user queries related policy\",\n",
    "    \"Make sure is only within knowledge document and respond shortly in 100 words only\"],\n",
    "#         \"- For queries that contain the keyword 'plan', exclusively use the tool:'get_NLQ' tool to return responses. Do not use Knowledge Base to answer the plan related queries.\",\n",
    "#     ],\n",
    "    knowledge=knowledge_base,\n",
    "#     tools=[get_nlq],\n",
    "#     show_tool_calls=True,\n",
    "    markdown=True,\n",
    "#     search_knowledge=False, # Add a tool that allows the Model to search the knowledge base (aka Agentic RAG).\n",
    "    add_history_to_messages=True,\n",
    "#     num_history_responses=2,\n",
    "    debug_mode=False,\n",
    "#     prevent_hallucinations=True,\n",
    "#     prevent_prompt_injection=True,\n",
    "    storage=SqliteAgentStorage(table_name=\"aiplan_demo_taubb\", db_file=\"tmp/newnowaiplaubn_demo.db\")\n",
    ")"
   ]
  },
  {
   "cell_type": "markdown",
   "id": "55a7fe09",
   "metadata": {},
   "source": [
    "# To check memory history"
   ]
  },
  {
   "cell_type": "code",
   "execution_count": 12,
   "id": "b46692bf",
   "metadata": {},
   "outputs": [
    {
     "data": {
      "application/vnd.jupyter.widget-view+json": {
       "model_id": "a4d38a7f690040a5ae7a4eab4426b620",
       "version_major": 2,
       "version_minor": 0
      },
      "text/plain": [
       "Output()"
      ]
     },
     "metadata": {},
     "output_type": "display_data"
    },
    {
     "data": {
      "text/html": [
       "<pre style=\"white-space:pre;overflow-x:auto;line-height:normal;font-family:Menlo,'DejaVu Sans Mono',consolas,'Courier New',monospace\"></pre>\n"
      ],
      "text/plain": []
     },
     "metadata": {},
     "output_type": "display_data"
    }
   ],
   "source": [
    "\n",
    "\n",
    "\n",
    "user_query = \"What are the requirements to be eligible for a return ?\"\n",
    "agent.print_response(user_query, stream=True)"
   ]
  },
  {
   "cell_type": "code",
   "execution_count": 13,
   "id": "310549ae",
   "metadata": {},
   "outputs": [
    {
     "data": {
      "application/vnd.jupyter.widget-view+json": {
       "model_id": "9b8bfa3133b441e59b849f70a2982ce0",
       "version_major": 2,
       "version_minor": 0
      },
      "text/plain": [
       "Output()"
      ]
     },
     "metadata": {},
     "output_type": "display_data"
    },
    {
     "data": {
      "text/html": [
       "<pre style=\"white-space:pre;overflow-x:auto;line-height:normal;font-family:Menlo,'DejaVu Sans Mono',consolas,'Courier New',monospace\"></pre>\n"
      ],
      "text/plain": []
     },
     "metadata": {},
     "output_type": "display_data"
    }
   ],
   "source": [
    "\n",
    "\n",
    "\n",
    "user_query = \"What if the device have physical damage?\"\n",
    "agent.print_response(user_query, stream=True)"
   ]
  },
  {
   "cell_type": "code",
   "execution_count": 14,
   "id": "a9b2c533",
   "metadata": {},
   "outputs": [
    {
     "data": {
      "application/vnd.jupyter.widget-view+json": {
       "model_id": "5d967e05c58e4a9596b3213d614b1316",
       "version_major": 2,
       "version_minor": 0
      },
      "text/plain": [
       "Output()"
      ]
     },
     "metadata": {},
     "output_type": "display_data"
    },
    {
     "data": {
      "text/html": [
       "<pre style=\"white-space:pre;overflow-x:auto;line-height:normal;font-family:Menlo,'DejaVu Sans Mono',consolas,'Courier New',monospace\"></pre>\n"
      ],
      "text/plain": []
     },
     "metadata": {},
     "output_type": "display_data"
    }
   ],
   "source": [
    "\n",
    "\n",
    "\n",
    "user_query = \"Thanks for the response. what if it has issues on hardware?\"\n",
    "agent.print_response(user_query, stream=True)"
   ]
  },
  {
   "cell_type": "code",
   "execution_count": null,
   "id": "0b7c4b89",
   "metadata": {},
   "outputs": [],
   "source": []
  },
  {
   "cell_type": "code",
   "execution_count": null,
   "id": "a987ad94",
   "metadata": {},
   "outputs": [],
   "source": []
  },
  {
   "cell_type": "markdown",
   "id": "6e5d7f1a",
   "metadata": {},
   "source": [
    "# End Memory Check"
   ]
  },
  {
   "cell_type": "code",
   "execution_count": null,
   "id": "8329f3f8",
   "metadata": {},
   "outputs": [],
   "source": []
  },
  {
   "cell_type": "markdown",
   "id": "7cd35de0",
   "metadata": {},
   "source": [
    "# Terms and conditions check"
   ]
  },
  {
   "cell_type": "code",
   "execution_count": 94,
   "id": "3db5057f",
   "metadata": {},
   "outputs": [
    {
     "data": {
      "application/vnd.jupyter.widget-view+json": {
       "model_id": "48914a6abe134ec9862e5f6a22d5d0d7",
       "version_major": 2,
       "version_minor": 0
      },
      "text/plain": [
       "Output()"
      ]
     },
     "metadata": {},
     "output_type": "display_data"
    },
    {
     "data": {
      "text/html": [
       "<pre style=\"white-space:pre;overflow-x:auto;line-height:normal;font-family:Menlo,'DejaVu Sans Mono',consolas,'Courier New',monospace\"></pre>\n"
      ],
      "text/plain": []
     },
     "metadata": {},
     "output_type": "display_data"
    }
   ],
   "source": [
    "\n",
    "\n",
    "user_query = \"Whatis the warranty coverage for straight talk phones and accessories?\"\n",
    "agent.print_response(user_query, stream=True)"
   ]
  },
  {
   "cell_type": "code",
   "execution_count": 95,
   "id": "ee00d3ba",
   "metadata": {},
   "outputs": [
    {
     "data": {
      "application/vnd.jupyter.widget-view+json": {
       "model_id": "5100308942a74ddaafb88905b6f7faec",
       "version_major": 2,
       "version_minor": 0
      },
      "text/plain": [
       "Output()"
      ]
     },
     "metadata": {},
     "output_type": "display_data"
    },
    {
     "data": {
      "text/html": [
       "<pre style=\"white-space:pre;overflow-x:auto;line-height:normal;font-family:Menlo,'DejaVu Sans Mono',consolas,'Courier New',monospace\"></pre>\n"
      ],
      "text/plain": []
     },
     "metadata": {},
     "output_type": "display_data"
    }
   ],
   "source": [
    "\n",
    "\n",
    "\n",
    "user_query = \"What is the return policy for walmart purchase?\"\n",
    "agent.print_response(user_query, stream=True)"
   ]
  },
  {
   "cell_type": "code",
   "execution_count": null,
   "id": "5fa169a4",
   "metadata": {},
   "outputs": [],
   "source": []
  },
  {
   "cell_type": "code",
   "execution_count": null,
   "id": "75a826a7",
   "metadata": {},
   "outputs": [],
   "source": [
    "# Walmart Purchases. If you purchased a Straight Talk product from Walmart (and not from Straight Talk directly either by phone or online), your purchase is subject to Walmart’s return policy. To determine whether your purchase is eligible for return, please contact the store where you originally made your purchase. Straight Talk will not process the return of any Straight Talk product sold to you by Walmart.\n",
    "\n",
    "# Online Purchases from Straight Talk. If you purchased your Straight Talk device from straighttalk.com, you have thirty (30) days from the date your device was delivered to you to return it to us for either an exchange or a refund. To process a return, you must follow the return instructions that came with your device and pay for the shipping cost to send it back to us.\n",
    "\n",
    "# To be eligible for a return, you must meet the following requirements:\n",
    "\n",
    "# The device you are returning must have been purchased from Straight Talk’s official website and the IMEI number must be verified.\n",
    "\n",
    "# You must return the device in like-new, working condition, returned in the original manufacturer’s packaging with all included accessories, including device, battery, charger, and manual. The device must not have any liquid or physical damage.\n",
    "\n",
    "# You must pay for the cost to ship the device back to us and include a copy of your receipt.\n",
    "\n",
    "# If anything is missing or device is not in like-new condition, your shipment may not be accepted. If a device has physical or liquid damage, it cannot be returned and a credit will not be issued. Straight Talk will return ineligible devices to you at the same address shown on the shipping label. No restocking, handling, or shipping fees will be charged to you for this device return.\n",
    "\n",
    "# If your return meets the above requirements and you have requested an exchange for a device that costs more, you will have to pay the difference in price between the device you are returning and the new device you are seeking to purchase. If your return meets the above requirements and you have requested a refund, please be advised that it takes up to thirty (30) business days to process the return and credit your account. Credit for returned devices will appear on your credit card statement between 1-2 billing cycles. Your credit for a returned device will not include any shipping or delivery costs you were charged or incurred for purchasing or returning the device."
   ]
  },
  {
   "cell_type": "code",
   "execution_count": 67,
   "id": "6ee09423",
   "metadata": {},
   "outputs": [
    {
     "data": {
      "application/vnd.jupyter.widget-view+json": {
       "model_id": "5303b60b869f42e286aa5f7db139e169",
       "version_major": 2,
       "version_minor": 0
      },
      "text/plain": [
       "Output()"
      ]
     },
     "metadata": {},
     "output_type": "display_data"
    },
    {
     "data": {
      "text/html": [
       "<pre style=\"white-space:pre;overflow-x:auto;line-height:normal;font-family:Menlo,'DejaVu Sans Mono',consolas,'Courier New',monospace\"></pre>\n"
      ],
      "text/plain": []
     },
     "metadata": {},
     "output_type": "display_data"
    }
   ],
   "source": [
    "\n",
    "\n",
    "\n",
    "user_query = \"What are the requirements to be eligible for a return?\"\n",
    "agent.print_response(user_query, stream=True)"
   ]
  },
  {
   "cell_type": "code",
   "execution_count": null,
   "id": "c3d06e6d",
   "metadata": {},
   "outputs": [],
   "source": [
    "# To be eligible for a return, you must meet the following requirements:\n",
    "\n",
    "# The device you are returning must have been purchased from Straight Talk’s official website and the IMEI number must be verified.\n",
    "\n",
    "# You must return the device in like-new, working condition, returned in the original manufacturer’s packaging with all included accessories, including device, battery, charger, and manual. The device must not have any liquid or physical damage.\n",
    "\n",
    "# You must pay for the cost to ship the device back to us and include a copy of your receipt."
   ]
  },
  {
   "cell_type": "code",
   "execution_count": 96,
   "id": "c7806ce0",
   "metadata": {},
   "outputs": [
    {
     "data": {
      "application/vnd.jupyter.widget-view+json": {
       "model_id": "dfde2472a0a443448143c76e06f6eb96",
       "version_major": 2,
       "version_minor": 0
      },
      "text/plain": [
       "Output()"
      ]
     },
     "metadata": {},
     "output_type": "display_data"
    },
    {
     "data": {
      "text/html": [
       "<pre style=\"white-space:pre;overflow-x:auto;line-height:normal;font-family:Menlo,'DejaVu Sans Mono',consolas,'Courier New',monospace\"></pre>\n"
      ],
      "text/plain": []
     },
     "metadata": {},
     "output_type": "display_data"
    }
   ],
   "source": [
    "\n",
    "\n",
    "\n",
    "user_query = \"How To Obtain Warranty Service?\"\n",
    "agent.print_response(user_query, stream=True)"
   ]
  },
  {
   "cell_type": "code",
   "execution_count": null,
   "id": "3ab18ceb",
   "metadata": {},
   "outputs": [],
   "source": [
    "# How To Obtain Warranty Service. To obtain warranty service for your Straight Talk phone, please contact Customer Care at 1-877-430-2355. If your problem cannot be resolved over the phone, our technicians will provide you with a Return Authorization Number, which you will use to send your Product(s) to the designated Service Center for repair or replacement, at our option.\n",
    "\n",
    "# Terms of Limited Warranty:\n",
    "\n",
    "# 1. The limited warranty for any applicable Product begins on the date of your purchase and is only applicable for defects in material and workmanship that result in Product failure during normal usage.\n",
    "\n",
    "# 2. The limited warranty extends only to the original purchaser (“Purchaser”) of the Product and is not assignable or transferable to any subsequent purchaser. The limited warranty extends only to Purchasers who purchase the Product in its original packaging from an authorized dealer or retailer. Upon request from Straight Talk, the Purchaser must prove the date of the original purchase of the Product by a dated bill of sale or dated itemized receipt.\n",
    "\n",
    "# 3. During the limited warranty period, Straight Talk will replace or repair, at Straight Talk’s sole option, any defective Products or parts (except as excluded below) with new or refurbished Products or parts if such replacement or repair is needed because of Product malfunction or failure during normal usage. Straight Talk may, in its sole discretion, replace the Product with a different but comparable Product if the same exact Product is not available. The replacement Product may consist of refurbished equipment that contains used components, some of which have been reprocessed. All used components shall comply with Product performance and reliability specifications.\n",
    "\n",
    "# 4. The limited warranty does not cover loss of personal information, passwords, contacts, music, ringtones, pictures, videos, applications or other content, memory cards, software, defects in appearance, cosmetic, decorative or structural items, including framing, and any non-operative parts. Straight Talk’s limit of liability under this limited warranty is the actual cash value of the Product at the time the Purchaser returns the Product to Straight Talk for repair, determined by the price paid by the Purchaser for the Product less a reasonable amount for usage. Straight Talk shall not be liable for any other losses or damages. These remedies are the Purchaser’s exclusive remedies for breach of warranty."
   ]
  },
  {
   "cell_type": "code",
   "execution_count": 97,
   "id": "00a98666",
   "metadata": {},
   "outputs": [
    {
     "data": {
      "application/vnd.jupyter.widget-view+json": {
       "model_id": "c5c7fa7b1f9e4cc08906d82ffc84cc9e",
       "version_major": 2,
       "version_minor": 0
      },
      "text/plain": [
       "Output()"
      ]
     },
     "metadata": {},
     "output_type": "display_data"
    },
    {
     "data": {
      "text/html": [
       "<pre style=\"white-space:pre;overflow-x:auto;line-height:normal;font-family:Menlo,'DejaVu Sans Mono',consolas,'Courier New',monospace\"></pre>\n"
      ],
      "text/plain": []
     },
     "metadata": {},
     "output_type": "display_data"
    }
   ],
   "source": [
    "\n",
    "\n",
    "user_query = \"What are the general conditions must be met before a phone can be considered eligible for unlocking?\"\n",
    "agent.print_response(user_query, stream=True)"
   ]
  },
  {
   "cell_type": "code",
   "execution_count": null,
   "id": "46e5b5c2",
   "metadata": {},
   "outputs": [],
   "source": [
    "# The following general conditions must be met before a phone can be considered eligible for unlocking:\n",
    "\n",
    "# The phone must be in working condition and turned ON;\n",
    "\n",
    "# The phone was activated with Straight Talk Service by purchasing and redeeming a Plan on that specific phone (“Activation”);\n",
    "\n",
    "# The phone has not been reported as stolen or lost; and\n",
    "\n",
    "# There are otherwise no indicators of fraud.\n",
    "\n",
    "# https://www.straighttalk.com/support/terms-conditions"
   ]
  },
  {
   "cell_type": "markdown",
   "id": "4efb9e66",
   "metadata": {},
   "source": [
    "# Privary Check"
   ]
  },
  {
   "cell_type": "code",
   "execution_count": 98,
   "id": "d5a51ad6",
   "metadata": {},
   "outputs": [
    {
     "data": {
      "application/vnd.jupyter.widget-view+json": {
       "model_id": "680658973eec4aac8e643a09fbb5604f",
       "version_major": 2,
       "version_minor": 0
      },
      "text/plain": [
       "Output()"
      ]
     },
     "metadata": {},
     "output_type": "display_data"
    },
    {
     "data": {
      "text/html": [
       "<pre style=\"white-space:pre;overflow-x:auto;line-height:normal;font-family:Menlo,'DejaVu Sans Mono',consolas,'Courier New',monospace\"></pre>\n"
      ],
      "text/plain": []
     },
     "metadata": {},
     "output_type": "display_data"
    }
   ],
   "source": [
    "\n",
    "user_query = \"What are the Categories and Types of Personal Information you Collect?\"\n",
    "agent.print_response(user_query, stream=True)"
   ]
  },
  {
   "cell_type": "code",
   "execution_count": 99,
   "id": "f6639f58",
   "metadata": {},
   "outputs": [
    {
     "data": {
      "application/vnd.jupyter.widget-view+json": {
       "model_id": "05dbd14c3f364dd4a565230b3b726ea7",
       "version_major": 2,
       "version_minor": 0
      },
      "text/plain": [
       "Output()"
      ]
     },
     "metadata": {},
     "output_type": "display_data"
    },
    {
     "data": {
      "text/html": [
       "<pre style=\"white-space:pre;overflow-x:auto;line-height:normal;font-family:Menlo,'DejaVu Sans Mono',consolas,'Courier New',monospace\"></pre>\n"
      ],
      "text/plain": []
     },
     "metadata": {},
     "output_type": "display_data"
    }
   ],
   "source": [
    "# Refer-A-Friend\n",
    "user_query = \"How do you use Personal data?\"\n",
    "agent.print_response(user_query, stream=True)"
   ]
  },
  {
   "cell_type": "code",
   "execution_count": 100,
   "id": "5fed7004",
   "metadata": {},
   "outputs": [
    {
     "data": {
      "application/vnd.jupyter.widget-view+json": {
       "model_id": "fbea16eac0354869b6d8c849466074ee",
       "version_major": 2,
       "version_minor": 0
      },
      "text/plain": [
       "Output()"
      ]
     },
     "metadata": {},
     "output_type": "display_data"
    },
    {
     "data": {
      "text/html": [
       "<pre style=\"white-space:pre;overflow-x:auto;line-height:normal;font-family:Menlo,'DejaVu Sans Mono',consolas,'Courier New',monospace\"></pre>\n"
      ],
      "text/plain": []
     },
     "metadata": {},
     "output_type": "display_data"
    }
   ],
   "source": [
    "\n",
    "user_query = \"How to Refer-A-Friend?\"\n",
    "agent.print_response(user_query, stream=True)"
   ]
  },
  {
   "cell_type": "code",
   "execution_count": null,
   "id": "87a8a47f",
   "metadata": {},
   "outputs": [],
   "source": [
    "# out of content KB"
   ]
  },
  {
   "cell_type": "code",
   "execution_count": 101,
   "id": "149e7995",
   "metadata": {},
   "outputs": [
    {
     "data": {
      "application/vnd.jupyter.widget-view+json": {
       "model_id": "e1a6b3c5666d4437aa9af1f965a42cad",
       "version_major": 2,
       "version_minor": 0
      },
      "text/plain": [
       "Output()"
      ]
     },
     "metadata": {},
     "output_type": "display_data"
    },
    {
     "data": {
      "text/html": [
       "<pre style=\"white-space:pre;overflow-x:auto;line-height:normal;font-family:Menlo,'DejaVu Sans Mono',consolas,'Courier New',monospace\"></pre>\n"
      ],
      "text/plain": []
     },
     "metadata": {},
     "output_type": "display_data"
    }
   ],
   "source": [
    "# Data which is not in knowledge base \n",
    "\n",
    "user_query = \"HOW MANY POINTS IS A REFERRAL WORTH?\"\n",
    "agent.print_response(user_query, stream=True)"
   ]
  },
  {
   "cell_type": "code",
   "execution_count": null,
   "id": "580b72a1",
   "metadata": {},
   "outputs": [],
   "source": []
  },
  {
   "cell_type": "code",
   "execution_count": 74,
   "id": "58e59bdb",
   "metadata": {},
   "outputs": [],
   "source": [
    "# # https://www.straighttalk.com/whyst/refer-a-friend\n",
    "\n",
    "# 1 FRIEND\n",
    "# For you – 5,000 points\n",
    "# For them – 5,000 points\n",
    "\n",
    "# 2-4 FRIENDS\n",
    "\n",
    "# For you – 6,000 points\n",
    "# For them – 5,000 points\n",
    "\n",
    "\n",
    "# 5+ FRIENDS     \n",
    "# For you – 7,000 points\n",
    "# For them – 5,000 points\n",
    "# but the response gave from : https://www.straighttalk.com/all-plans/global-calling-card-add-on-no-contract\n"
   ]
  },
  {
   "cell_type": "code",
   "execution_count": 102,
   "id": "2d123027",
   "metadata": {},
   "outputs": [
    {
     "data": {
      "application/vnd.jupyter.widget-view+json": {
       "model_id": "58cebd64ae6d4b6e90df16de631fbd4a",
       "version_major": 2,
       "version_minor": 0
      },
      "text/plain": [
       "Output()"
      ]
     },
     "metadata": {},
     "output_type": "display_data"
    },
    {
     "data": {
      "text/html": [
       "<pre style=\"white-space:pre;overflow-x:auto;line-height:normal;font-family:Menlo,'DejaVu Sans Mono',consolas,'Courier New',monospace\"></pre>\n"
      ],
      "text/plain": []
     },
     "metadata": {},
     "output_type": "display_data"
    }
   ],
   "source": [
    "# Data which is not in knowledge base \n",
    "\n",
    "user_query = \"What is Rainbow?\"\n",
    "agent.print_response(user_query, stream=True)"
   ]
  },
  {
   "cell_type": "code",
   "execution_count": 103,
   "id": "c8fffe48",
   "metadata": {},
   "outputs": [
    {
     "data": {
      "application/vnd.jupyter.widget-view+json": {
       "model_id": "18537a2cfb7f42d08ebe6598972a6437",
       "version_major": 2,
       "version_minor": 0
      },
      "text/plain": [
       "Output()"
      ]
     },
     "metadata": {},
     "output_type": "display_data"
    },
    {
     "data": {
      "text/html": [
       "<pre style=\"white-space:pre;overflow-x:auto;line-height:normal;font-family:Menlo,'DejaVu Sans Mono',consolas,'Courier New',monospace\"></pre>\n"
      ],
      "text/plain": []
     },
     "metadata": {},
     "output_type": "display_data"
    }
   ],
   "source": [
    "\n",
    "\n",
    "\n",
    "user_query = \"How Customers and Visitors Can Access and Update Personal Information\"\n",
    "agent.print_response(user_query, stream=True)"
   ]
  },
  {
   "cell_type": "code",
   "execution_count": null,
   "id": "1e55c2d6",
   "metadata": {},
   "outputs": [],
   "source": []
  },
  {
   "cell_type": "code",
   "execution_count": null,
   "id": "8f05f550",
   "metadata": {},
   "outputs": [],
   "source": [
    "# How Customers and Visitors Can Access and Update Personal Information\n",
    "# You can verify your account and manage personal information, including deleting or changing certain personal information, by logging into your account on our website and going to the account profile or account information section.\n",
    "\n",
    "# If you are unable to log into your account, please contact a customer care agent by calling 1-800-867-7183. All requests for changes or deletion of account information require account verification by answering security questions or providing the Personal Identification Number (PIN) you set when you first activated your account.\n",
    "\n",
    "# In certain circumstances we may be required by law to retain personal information, or may need to retain personal information in order to continue providing a service."
   ]
  },
  {
   "cell_type": "code",
   "execution_count": 104,
   "id": "8a621d2b",
   "metadata": {},
   "outputs": [
    {
     "data": {
      "application/vnd.jupyter.widget-view+json": {
       "model_id": "62d1a2e317fe42d390dec4ef1bf26556",
       "version_major": 2,
       "version_minor": 0
      },
      "text/plain": [
       "Output()"
      ]
     },
     "metadata": {},
     "output_type": "display_data"
    },
    {
     "data": {
      "text/html": [
       "<pre style=\"white-space:pre;overflow-x:auto;line-height:normal;font-family:Menlo,'DejaVu Sans Mono',consolas,'Courier New',monospace\"></pre>\n"
      ],
      "text/plain": []
     },
     "metadata": {},
     "output_type": "display_data"
    }
   ],
   "source": [
    "\n",
    "# If you have questions about your rights under California law or about our privacy policies and practices,\n",
    "\n",
    "user_query = \"Can you please tell me request received from TracFone from consumers in 2023\"\n",
    "agent.print_response(user_query, stream=True)"
   ]
  },
  {
   "cell_type": "code",
   "execution_count": 105,
   "id": "0302ea3b",
   "metadata": {},
   "outputs": [
    {
     "data": {
      "application/vnd.jupyter.widget-view+json": {
       "model_id": "c60b7383f7aa4f15aa098dfc51d4515f",
       "version_major": 2,
       "version_minor": 0
      },
      "text/plain": [
       "Output()"
      ]
     },
     "metadata": {},
     "output_type": "display_data"
    },
    {
     "data": {
      "text/html": [
       "<pre style=\"white-space:pre;overflow-x:auto;line-height:normal;font-family:Menlo,'DejaVu Sans Mono',consolas,'Courier New',monospace\"></pre>\n"
      ],
      "text/plain": []
     },
     "metadata": {},
     "output_type": "display_data"
    }
   ],
   "source": [
    "\n",
    "\n",
    "\n",
    "user_query = \"What are the recent changes and updates in privacy policy?\"\n",
    "agent.print_response(user_query, stream=True)"
   ]
  },
  {
   "cell_type": "code",
   "execution_count": null,
   "id": "70e5b14f",
   "metadata": {},
   "outputs": [],
   "source": [
    "# Recent Changes: We review and update our Privacy Policy to reflect the changes that come with the development of new products, services, technologies and uses of information. In addition, we occasionally make organizational, stylistic and grammatical changes to make our policy easier to read. Below you’ll find an overview of the changes that have been made recently.\n",
    "\n",
    "# December 2024: We made changes to the state privacy law section of our privacy policy to add new information and provide greater clarity about privacy laws in California, Delaware, Iowa, Nebraska, New Hampshire, New Jersey, and Oregon. We also made changes to provide additional detail about the information we may collect about your use of your device..\n",
    "# September 2024: We made changes to the state privacy law section of our privacy policy including to add information about a new privacy law in Montana. We also updated branding and links that consumers can use to submit privacy requests.\n",
    "# June 2024: We made changes to clarify and provide more details about the information we may collect through your interactions with us. We also made changes to better explain how we leverage cookies, pixels, web beacons, tags, scripts and other website technology, and how system apps on certain devices operate. Finally, we consolidated descriptions of similar state laws to make the state law section easier to navigate and use, and we added information about new privacy laws in Oregon and Texas."
   ]
  },
  {
   "cell_type": "code",
   "execution_count": 106,
   "id": "fdcffad2",
   "metadata": {},
   "outputs": [
    {
     "data": {
      "application/vnd.jupyter.widget-view+json": {
       "model_id": "da6680020b2a41e5a68f1d84c6eea84a",
       "version_major": 2,
       "version_minor": 0
      },
      "text/plain": [
       "Output()"
      ]
     },
     "metadata": {},
     "output_type": "display_data"
    },
    {
     "data": {
      "text/html": [
       "<pre style=\"white-space:pre;overflow-x:auto;line-height:normal;font-family:Menlo,'DejaVu Sans Mono',consolas,'Courier New',monospace\"></pre>\n"
      ],
      "text/plain": []
     },
     "metadata": {},
     "output_type": "display_data"
    }
   ],
   "source": [
    "\n",
    "\n",
    "\n",
    "user_query = \"How to Contact for privacy related concern?\"\n",
    "agent.print_response(user_query, stream=True)"
   ]
  },
  {
   "cell_type": "code",
   "execution_count": null,
   "id": "f2f4679f",
   "metadata": {},
   "outputs": [],
   "source": [
    "# How to Contact Us\n",
    "\n",
    "# Please direct any questions or comments regarding this Privacy Policy to:\n",
    "\n",
    "# privacy@tracfone.com\n",
    "\n",
    "# Verizon Privacy Office\n",
    "\n",
    "# 1300 I Street, NW Suite 500 East\n",
    "\n",
    "# Washington, DC 20005\n",
    "\n",
    "# How to Submit Your Privacy Request\n",
    "\n",
    "# You may submit a request to know, access, delete, and correct data through your existing online account.\n",
    "# You may designate an authorized agent to submit certain requests on your behalf. \n",
    "# You, if you do not have an existing account, or your authorized agent can submit a request by calling 1-877-799-1999 or\n",
    "# submitting a request online at:"
   ]
  },
  {
   "cell_type": "code",
   "execution_count": 109,
   "id": "a09b684c",
   "metadata": {},
   "outputs": [
    {
     "data": {
      "application/vnd.jupyter.widget-view+json": {
       "model_id": "97c7f0da9a68424682b0f3bfe5e12037",
       "version_major": 2,
       "version_minor": 0
      },
      "text/plain": [
       "Output()"
      ]
     },
     "metadata": {},
     "output_type": "display_data"
    },
    {
     "data": {
      "text/html": [
       "<pre style=\"white-space:pre;overflow-x:auto;line-height:normal;font-family:Menlo,'DejaVu Sans Mono',consolas,'Courier New',monospace\"></pre>\n"
      ],
      "text/plain": []
     },
     "metadata": {},
     "output_type": "display_data"
    }
   ],
   "source": [
    "\n",
    "\n",
    "\n",
    "user_query = \"who is president of india?\"\n",
    "agent.print_response(user_query, stream=True)"
   ]
  },
  {
   "cell_type": "code",
   "execution_count": 114,
   "id": "bd970244",
   "metadata": {},
   "outputs": [],
   "source": [
    "from rich.console import Console\n",
    "from rich.json import JSON\n",
    "from rich.panel import Panel\n",
    "import json\n",
    "console = Console()"
   ]
  },
  {
   "cell_type": "code",
   "execution_count": 116,
   "id": "e4180161",
   "metadata": {},
   "outputs": [],
   "source": [
    "def print_chat_history(agent):\n",
    "    # -*- Print history\n",
    "    console.print(\n",
    "        Panel(\n",
    "            JSON(\n",
    "                json.dumps(\n",
    "                    [\n",
    "                        m.model_dump(include={\"role\", \"content\"})\n",
    "                        for m in agent.memory.messages\n",
    "                    ]\n",
    "                ),\n",
    "                indent=4,\n",
    "            ),\n",
    "            title=f\"Chat History for session_id: {agent.session_id}\",\n",
    "            expand=True,\n",
    "        )\n",
    "    )\n",
    "\n",
    "\n",
    "# # -*- Create a run\n",
    "# agent.print_response(\"Share a 2 sentence horror story\", stream=True)\n",
    "\n"
   ]
  },
  {
   "cell_type": "code",
   "execution_count": 115,
   "id": "1f87f687",
   "metadata": {},
   "outputs": [
    {
     "data": {
      "text/html": [
       "<pre style=\"white-space:pre;overflow-x:auto;line-height:normal;font-family:Menlo,'DejaVu Sans Mono',consolas,'Courier New',monospace\">╭─────────────────────── Chat History for session_id: ff9f5784-943c-4c94-9e6b-6edd91909b0f ───────────────────────╮\n",
       "│ <span style=\"font-weight: bold\">[</span>                                                                                                               │\n",
       "│     <span style=\"font-weight: bold\">{</span>                                                                                                           │\n",
       "│         <span style=\"color: #000080; text-decoration-color: #000080; font-weight: bold\">\"role\"</span>: <span style=\"color: #008000; text-decoration-color: #008000\">\"system\"</span>,                                                                                       │\n",
       "│         <span style=\"color: #000080; text-decoration-color: #000080; font-weight: bold\">\"content\"</span>: <span style=\"color: #008000; text-decoration-color: #008000\">\"Answer to the user question from the knowledge base.If the user question is out of knowledg</span> │\n",
       "│     <span style=\"font-weight: bold\">}</span>,                                                                                                          │\n",
       "│     <span style=\"font-weight: bold\">{</span>                                                                                                           │\n",
       "│         <span style=\"color: #000080; text-decoration-color: #000080; font-weight: bold\">\"role\"</span>: <span style=\"color: #008000; text-decoration-color: #008000\">\"user\"</span>,                                                                                         │\n",
       "│         <span style=\"color: #000080; text-decoration-color: #000080; font-weight: bold\">\"content\"</span>: <span style=\"color: #008000; text-decoration-color: #008000\">\"What are the requirements to be eligible for a return ?\"</span>                                    │\n",
       "│     <span style=\"font-weight: bold\">}</span>,                                                                                                          │\n",
       "│     <span style=\"font-weight: bold\">{</span>                                                                                                           │\n",
       "│         <span style=\"color: #000080; text-decoration-color: #000080; font-weight: bold\">\"role\"</span>: <span style=\"color: #008000; text-decoration-color: #008000\">\"assistant\"</span>,                                                                                    │\n",
       "│         <span style=\"color: #000080; text-decoration-color: #000080; font-weight: bold\">\"content\"</span>: <span style=\"color: #008000; text-decoration-color: #008000\">\"\"</span>                                                                                           │\n",
       "│     <span style=\"font-weight: bold\">}</span>,                                                                                                          │\n",
       "│     <span style=\"font-weight: bold\">{</span>                                                                                                           │\n",
       "│         <span style=\"color: #000080; text-decoration-color: #000080; font-weight: bold\">\"role\"</span>: <span style=\"color: #008000; text-decoration-color: #008000\">\"tool\"</span>,                                                                                         │\n",
       "│         <span style=\"color: #000080; text-decoration-color: #000080; font-weight: bold\">\"content\"</span>: <span style=\"color: #008000; text-decoration-color: #008000\">\"[\\n  {\\n    \\\"content\\\": \\\"If your return meets the above requirements and you have request</span> │\n",
       "│     <span style=\"font-weight: bold\">}</span>,                                                                                                          │\n",
       "│     <span style=\"font-weight: bold\">{</span>                                                                                                           │\n",
       "│         <span style=\"color: #000080; text-decoration-color: #000080; font-weight: bold\">\"role\"</span>: <span style=\"color: #008000; text-decoration-color: #008000\">\"assistant\"</span>,                                                                                    │\n",
       "│         <span style=\"color: #000080; text-decoration-color: #000080; font-weight: bold\">\"content\"</span>: <span style=\"color: #008000; text-decoration-color: #008000\">\"To be eligible for a return, you must meet the following requirements:\\n\\n1. The device you</span> │\n",
       "│     <span style=\"font-weight: bold\">}</span>,                                                                                                          │\n",
       "│     <span style=\"font-weight: bold\">{</span>                                                                                                           │\n",
       "│         <span style=\"color: #000080; text-decoration-color: #000080; font-weight: bold\">\"role\"</span>: <span style=\"color: #008000; text-decoration-color: #008000\">\"user\"</span>,                                                                                         │\n",
       "│         <span style=\"color: #000080; text-decoration-color: #000080; font-weight: bold\">\"content\"</span>: <span style=\"color: #008000; text-decoration-color: #008000\">\"What if the device have physical damange?\"</span>                                                  │\n",
       "│     <span style=\"font-weight: bold\">}</span>,                                                                                                          │\n",
       "│     <span style=\"font-weight: bold\">{</span>                                                                                                           │\n",
       "│         <span style=\"color: #000080; text-decoration-color: #000080; font-weight: bold\">\"role\"</span>: <span style=\"color: #008000; text-decoration-color: #008000\">\"assistant\"</span>,                                                                                    │\n",
       "│         <span style=\"color: #000080; text-decoration-color: #000080; font-weight: bold\">\"content\"</span>: <span style=\"color: #008000; text-decoration-color: #008000\">\"\"</span>                                                                                           │\n",
       "│     <span style=\"font-weight: bold\">}</span>,                                                                                                          │\n",
       "│     <span style=\"font-weight: bold\">{</span>                                                                                                           │\n",
       "│         <span style=\"color: #000080; text-decoration-color: #000080; font-weight: bold\">\"role\"</span>: <span style=\"color: #008000; text-decoration-color: #008000\">\"tool\"</span>,                                                                                         │\n",
       "│         <span style=\"color: #000080; text-decoration-color: #000080; font-weight: bold\">\"content\"</span>: <span style=\"color: #008000; text-decoration-color: #008000\">\"[\\n  {\\n    \\\"content\\\": \\\"If anything is missing or device is not in like-new condition, y</span> │\n",
       "│     <span style=\"font-weight: bold\">}</span>,                                                                                                          │\n",
       "│     <span style=\"font-weight: bold\">{</span>                                                                                                           │\n",
       "│         <span style=\"color: #000080; text-decoration-color: #000080; font-weight: bold\">\"role\"</span>: <span style=\"color: #008000; text-decoration-color: #008000\">\"assistant\"</span>,                                                                                    │\n",
       "│         <span style=\"color: #000080; text-decoration-color: #000080; font-weight: bold\">\"content\"</span>: <span style=\"color: #008000; text-decoration-color: #008000\">\"If the device has physical damage or is not in like-new condition, your shipment may not be</span> │\n",
       "│     <span style=\"font-weight: bold\">}</span>,                                                                                                          │\n",
       "│     <span style=\"font-weight: bold\">{</span>                                                                                                           │\n",
       "│         <span style=\"color: #000080; text-decoration-color: #000080; font-weight: bold\">\"role\"</span>: <span style=\"color: #008000; text-decoration-color: #008000\">\"user\"</span>,                                                                                         │\n",
       "│         <span style=\"color: #000080; text-decoration-color: #000080; font-weight: bold\">\"content\"</span>: <span style=\"color: #008000; text-decoration-color: #008000\">\"Thanks for the response. what if it has issues on hardware?\"</span>                                │\n",
       "│     <span style=\"font-weight: bold\">}</span>,                                                                                                          │\n",
       "│     <span style=\"font-weight: bold\">{</span>                                                                                                           │\n",
       "│         <span style=\"color: #000080; text-decoration-color: #000080; font-weight: bold\">\"role\"</span>: <span style=\"color: #008000; text-decoration-color: #008000\">\"assistant\"</span>,                                                                                    │\n",
       "│         <span style=\"color: #000080; text-decoration-color: #000080; font-weight: bold\">\"content\"</span>: <span style=\"color: #008000; text-decoration-color: #008000\">\"\"</span>                                                                                           │\n",
       "│     <span style=\"font-weight: bold\">}</span>,                                                                                                          │\n",
       "│     <span style=\"font-weight: bold\">{</span>                                                                                                           │\n",
       "│         <span style=\"color: #000080; text-decoration-color: #000080; font-weight: bold\">\"role\"</span>: <span style=\"color: #008000; text-decoration-color: #008000\">\"tool\"</span>,                                                                                         │\n",
       "│         <span style=\"color: #000080; text-decoration-color: #000080; font-weight: bold\">\"content\"</span>: <span style=\"color: #008000; text-decoration-color: #008000\">\"[\\n  {\\n    \\\"content\\\": \\\"(a) The Product has been subjected to abnormal use, abnormal con</span> │\n",
       "│     <span style=\"font-weight: bold\">}</span>,                                                                                                          │\n",
       "│     <span style=\"font-weight: bold\">{</span>                                                                                                           │\n",
       "│         <span style=\"color: #000080; text-decoration-color: #000080; font-weight: bold\">\"role\"</span>: <span style=\"color: #008000; text-decoration-color: #008000\">\"assistant\"</span>,                                                                                    │\n",
       "│         <span style=\"color: #000080; text-decoration-color: #000080; font-weight: bold\">\"content\"</span>: <span style=\"color: #008000; text-decoration-color: #008000\">\"If your device has hardware issues, Straight Talk may not be able to provide a replacement </span> │\n",
       "│     <span style=\"font-weight: bold\">}</span>,                                                                                                          │\n",
       "│     <span style=\"font-weight: bold\">{</span>                                                                                                           │\n",
       "│         <span style=\"color: #000080; text-decoration-color: #000080; font-weight: bold\">\"role\"</span>: <span style=\"color: #008000; text-decoration-color: #008000\">\"user\"</span>,                                                                                         │\n",
       "│         <span style=\"color: #000080; text-decoration-color: #000080; font-weight: bold\">\"content\"</span>: <span style=\"color: #008000; text-decoration-color: #008000\">\"Whatis the warranty coverage for straight talk phones and accessories?\"</span>                     │\n",
       "│     <span style=\"font-weight: bold\">}</span>,                                                                                                          │\n",
       "│     <span style=\"font-weight: bold\">{</span>                                                                                                           │\n",
       "│         <span style=\"color: #000080; text-decoration-color: #000080; font-weight: bold\">\"role\"</span>: <span style=\"color: #008000; text-decoration-color: #008000\">\"assistant\"</span>,                                                                                    │\n",
       "│         <span style=\"color: #000080; text-decoration-color: #000080; font-weight: bold\">\"content\"</span>: <span style=\"color: #008000; text-decoration-color: #008000\">\"\"</span>                                                                                           │\n",
       "│     <span style=\"font-weight: bold\">}</span>,                                                                                                          │\n",
       "│     <span style=\"font-weight: bold\">{</span>                                                                                                           │\n",
       "│         <span style=\"color: #000080; text-decoration-color: #000080; font-weight: bold\">\"role\"</span>: <span style=\"color: #008000; text-decoration-color: #008000\">\"tool\"</span>,                                                                                         │\n",
       "│         <span style=\"color: #000080; text-decoration-color: #000080; font-weight: bold\">\"content\"</span>: <span style=\"color: #008000; text-decoration-color: #008000\">\"[\\n  {\\n    \\\"content\\\": \\\"4. The limited warranty does not cover loss of personal informat</span> │\n",
       "│     <span style=\"font-weight: bold\">}</span>,                                                                                                          │\n",
       "│     <span style=\"font-weight: bold\">{</span>                                                                                                           │\n",
       "│         <span style=\"color: #000080; text-decoration-color: #000080; font-weight: bold\">\"role\"</span>: <span style=\"color: #008000; text-decoration-color: #008000\">\"assistant\"</span>,                                                                                    │\n",
       "│         <span style=\"color: #000080; text-decoration-color: #000080; font-weight: bold\">\"content\"</span>: <span style=\"color: #008000; text-decoration-color: #008000\">\"Straight Talk's warranty coverage for their phones and accessories is as follows:\\n\\n* The </span> │\n",
       "│     <span style=\"font-weight: bold\">}</span>,                                                                                                          │\n",
       "│     <span style=\"font-weight: bold\">{</span>                                                                                                           │\n",
       "│         <span style=\"color: #000080; text-decoration-color: #000080; font-weight: bold\">\"role\"</span>: <span style=\"color: #008000; text-decoration-color: #008000\">\"user\"</span>,                                                                                         │\n",
       "│         <span style=\"color: #000080; text-decoration-color: #000080; font-weight: bold\">\"content\"</span>: <span style=\"color: #008000; text-decoration-color: #008000\">\"What is the return policy for walmart purchase?\"</span>                                            │\n",
       "│     <span style=\"font-weight: bold\">}</span>,                                                                                                          │\n",
       "│     <span style=\"font-weight: bold\">{</span>                                                                                                           │\n",
       "│         <span style=\"color: #000080; text-decoration-color: #000080; font-weight: bold\">\"role\"</span>: <span style=\"color: #008000; text-decoration-color: #008000\">\"assistant\"</span>,                                                                                    │\n",
       "│         <span style=\"color: #000080; text-decoration-color: #000080; font-weight: bold\">\"content\"</span>: <span style=\"color: #008000; text-decoration-color: #008000\">\"\"</span>                                                                                           │\n",
       "│     <span style=\"font-weight: bold\">}</span>,                                                                                                          │\n",
       "│     <span style=\"font-weight: bold\">{</span>                                                                                                           │\n",
       "│         <span style=\"color: #000080; text-decoration-color: #000080; font-weight: bold\">\"role\"</span>: <span style=\"color: #008000; text-decoration-color: #008000\">\"tool\"</span>,                                                                                         │\n",
       "│         <span style=\"color: #000080; text-decoration-color: #000080; font-weight: bold\">\"content\"</span>: <span style=\"color: #008000; text-decoration-color: #008000\">\"[\\n  {\\n    \\\"content\\\": \\\"VIII. Return Policy\\\\nTo see the return policy (\\\\u201cReturn Po</span> │\n",
       "│     <span style=\"font-weight: bold\">}</span>,                                                                                                          │\n",
       "│     <span style=\"font-weight: bold\">{</span>                                                                                                           │\n",
       "│         <span style=\"color: #000080; text-decoration-color: #000080; font-weight: bold\">\"role\"</span>: <span style=\"color: #008000; text-decoration-color: #008000\">\"assistant\"</span>,                                                                                    │\n",
       "│         <span style=\"color: #000080; text-decoration-color: #000080; font-weight: bold\">\"content\"</span>: <span style=\"color: #008000; text-decoration-color: #008000\">\"If you purchased a Straight Talk product from Walmart, your purchase is subject to Walmart'</span> │\n",
       "│     <span style=\"font-weight: bold\">}</span>,                                                                                                          │\n",
       "│     <span style=\"font-weight: bold\">{</span>                                                                                                           │\n",
       "│         <span style=\"color: #000080; text-decoration-color: #000080; font-weight: bold\">\"role\"</span>: <span style=\"color: #008000; text-decoration-color: #008000\">\"user\"</span>,                                                                                         │\n",
       "│         <span style=\"color: #000080; text-decoration-color: #000080; font-weight: bold\">\"content\"</span>: <span style=\"color: #008000; text-decoration-color: #008000\">\"How To Obtain Warranty Service?\"</span>                                                            │\n",
       "│     <span style=\"font-weight: bold\">}</span>,                                                                                                          │\n",
       "│     <span style=\"font-weight: bold\">{</span>                                                                                                           │\n",
       "│         <span style=\"color: #000080; text-decoration-color: #000080; font-weight: bold\">\"role\"</span>: <span style=\"color: #008000; text-decoration-color: #008000\">\"assistant\"</span>,                                                                                    │\n",
       "│         <span style=\"color: #000080; text-decoration-color: #000080; font-weight: bold\">\"content\"</span>: <span style=\"color: #008000; text-decoration-color: #008000\">\"\"</span>                                                                                           │\n",
       "│     <span style=\"font-weight: bold\">}</span>,                                                                                                          │\n",
       "│     <span style=\"font-weight: bold\">{</span>                                                                                                           │\n",
       "│         <span style=\"color: #000080; text-decoration-color: #000080; font-weight: bold\">\"role\"</span>: <span style=\"color: #008000; text-decoration-color: #008000\">\"tool\"</span>,                                                                                         │\n",
       "│         <span style=\"color: #000080; text-decoration-color: #000080; font-weight: bold\">\"content\"</span>: <span style=\"color: #008000; text-decoration-color: #008000\">\"[\\n  {\\n    \\\"content\\\": \\\"How To Obtain Warranty Service. To obtain warranty service for y</span> │\n",
       "│     <span style=\"font-weight: bold\">}</span>,                                                                                                          │\n",
       "│     <span style=\"font-weight: bold\">{</span>                                                                                                           │\n",
       "│         <span style=\"color: #000080; text-decoration-color: #000080; font-weight: bold\">\"role\"</span>: <span style=\"color: #008000; text-decoration-color: #008000\">\"assistant\"</span>,                                                                                    │\n",
       "│         <span style=\"color: #000080; text-decoration-color: #000080; font-weight: bold\">\"content\"</span>: <span style=\"color: #008000; text-decoration-color: #008000\">\"To obtain warranty service for your Straight Talk phone, you can contact Customer Care at 1</span> │\n",
       "│     <span style=\"font-weight: bold\">}</span>,                                                                                                          │\n",
       "│     <span style=\"font-weight: bold\">{</span>                                                                                                           │\n",
       "│         <span style=\"color: #000080; text-decoration-color: #000080; font-weight: bold\">\"role\"</span>: <span style=\"color: #008000; text-decoration-color: #008000\">\"user\"</span>,                                                                                         │\n",
       "│         <span style=\"color: #000080; text-decoration-color: #000080; font-weight: bold\">\"content\"</span>: <span style=\"color: #008000; text-decoration-color: #008000\">\"What are the general conditions must be met before a phone can be considered eligible for u</span> │\n",
       "│     <span style=\"font-weight: bold\">}</span>,                                                                                                          │\n",
       "│     <span style=\"font-weight: bold\">{</span>                                                                                                           │\n",
       "│         <span style=\"color: #000080; text-decoration-color: #000080; font-weight: bold\">\"role\"</span>: <span style=\"color: #008000; text-decoration-color: #008000\">\"assistant\"</span>,                                                                                    │\n",
       "│         <span style=\"color: #000080; text-decoration-color: #000080; font-weight: bold\">\"content\"</span>: <span style=\"color: #008000; text-decoration-color: #008000\">\"\"</span>                                                                                           │\n",
       "│     <span style=\"font-weight: bold\">}</span>,                                                                                                          │\n",
       "│     <span style=\"font-weight: bold\">{</span>                                                                                                           │\n",
       "│         <span style=\"color: #000080; text-decoration-color: #000080; font-weight: bold\">\"role\"</span>: <span style=\"color: #008000; text-decoration-color: #008000\">\"tool\"</span>,                                                                                         │\n",
       "│         <span style=\"color: #000080; text-decoration-color: #000080; font-weight: bold\">\"content\"</span>: <span style=\"color: #008000; text-decoration-color: #008000\">\"[\\n  {\\n    \\\"content\\\": \\\"The following general conditions must be met before a phone can </span> │\n",
       "│     <span style=\"font-weight: bold\">}</span>,                                                                                                          │\n",
       "│     <span style=\"font-weight: bold\">{</span>                                                                                                           │\n",
       "│         <span style=\"color: #000080; text-decoration-color: #000080; font-weight: bold\">\"role\"</span>: <span style=\"color: #008000; text-decoration-color: #008000\">\"assistant\"</span>,                                                                                    │\n",
       "│         <span style=\"color: #000080; text-decoration-color: #000080; font-weight: bold\">\"content\"</span>: <span style=\"color: #008000; text-decoration-color: #008000\">\"The general conditions that must be met before a phone can be considered eligible for unloc</span> │\n",
       "│     <span style=\"font-weight: bold\">}</span>,                                                                                                          │\n",
       "│     <span style=\"font-weight: bold\">{</span>                                                                                                           │\n",
       "│         <span style=\"color: #000080; text-decoration-color: #000080; font-weight: bold\">\"role\"</span>: <span style=\"color: #008000; text-decoration-color: #008000\">\"user\"</span>,                                                                                         │\n",
       "│         <span style=\"color: #000080; text-decoration-color: #000080; font-weight: bold\">\"content\"</span>: <span style=\"color: #008000; text-decoration-color: #008000\">\"What are the Categories and Types of Personal Information you Collect?\"</span>                     │\n",
       "│     <span style=\"font-weight: bold\">}</span>,                                                                                                          │\n",
       "│     <span style=\"font-weight: bold\">{</span>                                                                                                           │\n",
       "│         <span style=\"color: #000080; text-decoration-color: #000080; font-weight: bold\">\"role\"</span>: <span style=\"color: #008000; text-decoration-color: #008000\">\"assistant\"</span>,                                                                                    │\n",
       "│         <span style=\"color: #000080; text-decoration-color: #000080; font-weight: bold\">\"content\"</span>: <span style=\"color: #008000; text-decoration-color: #008000\">\"\"</span>                                                                                           │\n",
       "│     <span style=\"font-weight: bold\">}</span>,                                                                                                          │\n",
       "│     <span style=\"font-weight: bold\">{</span>                                                                                                           │\n",
       "│         <span style=\"color: #000080; text-decoration-color: #000080; font-weight: bold\">\"role\"</span>: <span style=\"color: #008000; text-decoration-color: #008000\">\"tool\"</span>,                                                                                         │\n",
       "│         <span style=\"color: #000080; text-decoration-color: #000080; font-weight: bold\">\"content\"</span>: <span style=\"color: #008000; text-decoration-color: #008000\">\"[\\n  {\\n    \\\"content\\\": \\\"Some of the information we collect is considered sensitive perso</span> │\n",
       "│     <span style=\"font-weight: bold\">}</span>,                                                                                                          │\n",
       "│     <span style=\"font-weight: bold\">{</span>                                                                                                           │\n",
       "│         <span style=\"color: #000080; text-decoration-color: #000080; font-weight: bold\">\"role\"</span>: <span style=\"color: #008000; text-decoration-color: #008000\">\"assistant\"</span>,                                                                                    │\n",
       "│         <span style=\"color: #000080; text-decoration-color: #000080; font-weight: bold\">\"content\"</span>: <span style=\"color: #008000; text-decoration-color: #008000\">\"Straight Talk collects the following categories and types of personal information:\\n\\n**Cat</span> │\n",
       "│     <span style=\"font-weight: bold\">}</span>,                                                                                                          │\n",
       "│     <span style=\"font-weight: bold\">{</span>                                                                                                           │\n",
       "│         <span style=\"color: #000080; text-decoration-color: #000080; font-weight: bold\">\"role\"</span>: <span style=\"color: #008000; text-decoration-color: #008000\">\"user\"</span>,                                                                                         │\n",
       "│         <span style=\"color: #000080; text-decoration-color: #000080; font-weight: bold\">\"content\"</span>: <span style=\"color: #008000; text-decoration-color: #008000\">\"How do you use Personal data?\"</span>                                                              │\n",
       "│     <span style=\"font-weight: bold\">}</span>,                                                                                                          │\n",
       "│     <span style=\"font-weight: bold\">{</span>                                                                                                           │\n",
       "│         <span style=\"color: #000080; text-decoration-color: #000080; font-weight: bold\">\"role\"</span>: <span style=\"color: #008000; text-decoration-color: #008000\">\"assistant\"</span>,                                                                                    │\n",
       "│         <span style=\"color: #000080; text-decoration-color: #000080; font-weight: bold\">\"content\"</span>: <span style=\"color: #008000; text-decoration-color: #008000\">\"\"</span>                                                                                           │\n",
       "│     <span style=\"font-weight: bold\">}</span>,                                                                                                          │\n",
       "│     <span style=\"font-weight: bold\">{</span>                                                                                                           │\n",
       "│         <span style=\"color: #000080; text-decoration-color: #000080; font-weight: bold\">\"role\"</span>: <span style=\"color: #008000; text-decoration-color: #008000\">\"tool\"</span>,                                                                                         │\n",
       "│         <span style=\"color: #000080; text-decoration-color: #000080; font-weight: bold\">\"content\"</span>: <span style=\"color: #008000; text-decoration-color: #008000\">\"[\\n  {\\n    \\\"content\\\": \\\"What personal information we collect, how we use and share it, a</span> │\n",
       "│     <span style=\"font-weight: bold\">}</span>,                                                                                                          │\n",
       "│     <span style=\"font-weight: bold\">{</span>                                                                                                           │\n",
       "│         <span style=\"color: #000080; text-decoration-color: #000080; font-weight: bold\">\"role\"</span>: <span style=\"color: #008000; text-decoration-color: #008000\">\"assistant\"</span>,                                                                                    │\n",
       "│         <span style=\"color: #000080; text-decoration-color: #000080; font-weight: bold\">\"content\"</span>: <span style=\"color: #008000; text-decoration-color: #008000\">\"Straight Talk uses personal data in the following ways:\\n\\n1. **Account management**: We co</span> │\n",
       "│     <span style=\"font-weight: bold\">}</span>,                                                                                                          │\n",
       "│     <span style=\"font-weight: bold\">{</span>                                                                                                           │\n",
       "│         <span style=\"color: #000080; text-decoration-color: #000080; font-weight: bold\">\"role\"</span>: <span style=\"color: #008000; text-decoration-color: #008000\">\"user\"</span>,                                                                                         │\n",
       "│         <span style=\"color: #000080; text-decoration-color: #000080; font-weight: bold\">\"content\"</span>: <span style=\"color: #008000; text-decoration-color: #008000\">\"How to Refer-A-Friend?\"</span>                                                                     │\n",
       "│     <span style=\"font-weight: bold\">}</span>,                                                                                                          │\n",
       "│     <span style=\"font-weight: bold\">{</span>                                                                                                           │\n",
       "│         <span style=\"color: #000080; text-decoration-color: #000080; font-weight: bold\">\"role\"</span>: <span style=\"color: #008000; text-decoration-color: #008000\">\"assistant\"</span>,                                                                                    │\n",
       "│         <span style=\"color: #000080; text-decoration-color: #000080; font-weight: bold\">\"content\"</span>: <span style=\"color: #008000; text-decoration-color: #008000\">\"\"</span>                                                                                           │\n",
       "│     <span style=\"font-weight: bold\">}</span>,                                                                                                          │\n",
       "│     <span style=\"font-weight: bold\">{</span>                                                                                                           │\n",
       "│         <span style=\"color: #000080; text-decoration-color: #000080; font-weight: bold\">\"role\"</span>: <span style=\"color: #008000; text-decoration-color: #008000\">\"tool\"</span>,                                                                                         │\n",
       "│         <span style=\"color: #000080; text-decoration-color: #000080; font-weight: bold\">\"content\"</span>: <span style=\"color: #008000; text-decoration-color: #008000\">\"[\\n  {\\n    \\\"content\\\": \\\"Close\\\\n\\\\n\\\\n\\\\n\\\\n\\\\n\\\\n\\\\n\\\\n\\\\n\\\\n\\\\n\\\\n\\\\n\\\\n\\\\n\\\\n\\\\n\\\\n\\\\</span> │\n",
       "│     <span style=\"font-weight: bold\">}</span>,                                                                                                          │\n",
       "│     <span style=\"font-weight: bold\">{</span>                                                                                                           │\n",
       "│         <span style=\"color: #000080; text-decoration-color: #000080; font-weight: bold\">\"role\"</span>: <span style=\"color: #008000; text-decoration-color: #008000\">\"assistant\"</span>,                                                                                    │\n",
       "│         <span style=\"color: #000080; text-decoration-color: #000080; font-weight: bold\">\"content\"</span>: <span style=\"color: #008000; text-decoration-color: #008000\">\"To refer a friend to Straight Talk, you can follow these steps:\\n\\n1. Go to the Straight Ta</span> │\n",
       "│     <span style=\"font-weight: bold\">}</span>,                                                                                                          │\n",
       "│     <span style=\"font-weight: bold\">{</span>                                                                                                           │\n",
       "│         <span style=\"color: #000080; text-decoration-color: #000080; font-weight: bold\">\"role\"</span>: <span style=\"color: #008000; text-decoration-color: #008000\">\"user\"</span>,                                                                                         │\n",
       "│         <span style=\"color: #000080; text-decoration-color: #000080; font-weight: bold\">\"content\"</span>: <span style=\"color: #008000; text-decoration-color: #008000\">\"HOW MANY POINTS IS A REFERRAL WORTH?\"</span>                                                       │\n",
       "│     <span style=\"font-weight: bold\">}</span>,                                                                                                          │\n",
       "│     <span style=\"font-weight: bold\">{</span>                                                                                                           │\n",
       "│         <span style=\"color: #000080; text-decoration-color: #000080; font-weight: bold\">\"role\"</span>: <span style=\"color: #008000; text-decoration-color: #008000\">\"assistant\"</span>,                                                                                    │\n",
       "│         <span style=\"color: #000080; text-decoration-color: #000080; font-weight: bold\">\"content\"</span>: <span style=\"color: #008000; text-decoration-color: #008000\">\"\"</span>                                                                                           │\n",
       "│     <span style=\"font-weight: bold\">}</span>,                                                                                                          │\n",
       "│     <span style=\"font-weight: bold\">{</span>                                                                                                           │\n",
       "│         <span style=\"color: #000080; text-decoration-color: #000080; font-weight: bold\">\"role\"</span>: <span style=\"color: #008000; text-decoration-color: #008000\">\"tool\"</span>,                                                                                         │\n",
       "│         <span style=\"color: #000080; text-decoration-color: #000080; font-weight: bold\">\"content\"</span>: <span style=\"color: #008000; text-decoration-color: #008000\">\"[\\n  {\\n    \\\"content\\\": \\\"Close\\\\n\\\\t\\\\t\\\\t\\\\t\\\\t\\\\t\\\\t\\\\n\\\\n\\\\n\\\\n\\\\n\\\\n\\\\n\\\\n\\\\n\\\\n\\\\n\\\\</span> │\n",
       "│     <span style=\"font-weight: bold\">}</span>,                                                                                                          │\n",
       "│     <span style=\"font-weight: bold\">{</span>                                                                                                           │\n",
       "│         <span style=\"color: #000080; text-decoration-color: #000080; font-weight: bold\">\"role\"</span>: <span style=\"color: #008000; text-decoration-color: #008000\">\"assistant\"</span>,                                                                                    │\n",
       "│         <span style=\"color: #000080; text-decoration-color: #000080; font-weight: bold\">\"content\"</span>: <span style=\"color: #008000; text-decoration-color: #008000\">\"A referral is worth 100 points.\"</span>                                                            │\n",
       "│     <span style=\"font-weight: bold\">}</span>,                                                                                                          │\n",
       "│     <span style=\"font-weight: bold\">{</span>                                                                                                           │\n",
       "│         <span style=\"color: #000080; text-decoration-color: #000080; font-weight: bold\">\"role\"</span>: <span style=\"color: #008000; text-decoration-color: #008000\">\"user\"</span>,                                                                                         │\n",
       "│         <span style=\"color: #000080; text-decoration-color: #000080; font-weight: bold\">\"content\"</span>: <span style=\"color: #008000; text-decoration-color: #008000\">\"What is Rainbow?\"</span>                                                                           │\n",
       "│     <span style=\"font-weight: bold\">}</span>,                                                                                                          │\n",
       "│     <span style=\"font-weight: bold\">{</span>                                                                                                           │\n",
       "│         <span style=\"color: #000080; text-decoration-color: #000080; font-weight: bold\">\"role\"</span>: <span style=\"color: #008000; text-decoration-color: #008000\">\"assistant\"</span>,                                                                                    │\n",
       "│         <span style=\"color: #000080; text-decoration-color: #000080; font-weight: bold\">\"content\"</span>: <span style=\"color: #008000; text-decoration-color: #008000\">\"\"</span>                                                                                           │\n",
       "│     <span style=\"font-weight: bold\">}</span>,                                                                                                          │\n",
       "│     <span style=\"font-weight: bold\">{</span>                                                                                                           │\n",
       "│         <span style=\"color: #000080; text-decoration-color: #000080; font-weight: bold\">\"role\"</span>: <span style=\"color: #008000; text-decoration-color: #008000\">\"tool\"</span>,                                                                                         │\n",
       "│         <span style=\"color: #000080; text-decoration-color: #000080; font-weight: bold\">\"content\"</span>: <span style=\"color: #008000; text-decoration-color: #008000\">\"[\\n  {\\n    \\\"content\\\": \\\"Continue\\\\n\\\\n\\\\n\\\\n\\\\n\\\\n\\\\n\\\\n\\\\n\\\\n\\\\n{{itemname}}\\\\n{{prop1}</span> │\n",
       "│     <span style=\"font-weight: bold\">}</span>,                                                                                                          │\n",
       "│     <span style=\"font-weight: bold\">{</span>                                                                                                           │\n",
       "│         <span style=\"color: #000080; text-decoration-color: #000080; font-weight: bold\">\"role\"</span>: <span style=\"color: #008000; text-decoration-color: #008000\">\"assistant\"</span>,                                                                                    │\n",
       "│         <span style=\"color: #000080; text-decoration-color: #000080; font-weight: bold\">\"content\"</span>: <span style=\"color: #008000; text-decoration-color: #008000\">\"The term \\\"Rainbow\\\" is not found in the provided knowledge base.\"</span>                          │\n",
       "│     <span style=\"font-weight: bold\">}</span>,                                                                                                          │\n",
       "│     <span style=\"font-weight: bold\">{</span>                                                                                                           │\n",
       "│         <span style=\"color: #000080; text-decoration-color: #000080; font-weight: bold\">\"role\"</span>: <span style=\"color: #008000; text-decoration-color: #008000\">\"user\"</span>,                                                                                         │\n",
       "│         <span style=\"color: #000080; text-decoration-color: #000080; font-weight: bold\">\"content\"</span>: <span style=\"color: #008000; text-decoration-color: #008000\">\"How Customers and Visitors Can Access and Update Personal Information\"</span>                      │\n",
       "│     <span style=\"font-weight: bold\">}</span>,                                                                                                          │\n",
       "│     <span style=\"font-weight: bold\">{</span>                                                                                                           │\n",
       "│         <span style=\"color: #000080; text-decoration-color: #000080; font-weight: bold\">\"role\"</span>: <span style=\"color: #008000; text-decoration-color: #008000\">\"assistant\"</span>,                                                                                    │\n",
       "│         <span style=\"color: #000080; text-decoration-color: #000080; font-weight: bold\">\"content\"</span>: <span style=\"color: #008000; text-decoration-color: #008000\">\"\"</span>                                                                                           │\n",
       "│     <span style=\"font-weight: bold\">}</span>,                                                                                                          │\n",
       "│     <span style=\"font-weight: bold\">{</span>                                                                                                           │\n",
       "│         <span style=\"color: #000080; text-decoration-color: #000080; font-weight: bold\">\"role\"</span>: <span style=\"color: #008000; text-decoration-color: #008000\">\"tool\"</span>,                                                                                         │\n",
       "│         <span style=\"color: #000080; text-decoration-color: #000080; font-weight: bold\">\"content\"</span>: <span style=\"color: #008000; text-decoration-color: #008000\">\"[\\n  {\\n    \\\"content\\\": \\\"How Customers and Visitors Can Access and Update Personal Inform</span> │\n",
       "│     <span style=\"font-weight: bold\">}</span>,                                                                                                          │\n",
       "│     <span style=\"font-weight: bold\">{</span>                                                                                                           │\n",
       "│         <span style=\"color: #000080; text-decoration-color: #000080; font-weight: bold\">\"role\"</span>: <span style=\"color: #008000; text-decoration-color: #008000\">\"assistant\"</span>,                                                                                    │\n",
       "│         <span style=\"color: #000080; text-decoration-color: #000080; font-weight: bold\">\"content\"</span>: <span style=\"color: #008000; text-decoration-color: #008000\">\"To access and update personal information, customers and visitors can follow these steps:\\n</span> │\n",
       "│     <span style=\"font-weight: bold\">}</span>,                                                                                                          │\n",
       "│     <span style=\"font-weight: bold\">{</span>                                                                                                           │\n",
       "│         <span style=\"color: #000080; text-decoration-color: #000080; font-weight: bold\">\"role\"</span>: <span style=\"color: #008000; text-decoration-color: #008000\">\"user\"</span>,                                                                                         │\n",
       "│         <span style=\"color: #000080; text-decoration-color: #000080; font-weight: bold\">\"content\"</span>: <span style=\"color: #008000; text-decoration-color: #008000\">\"Can you please tell me request received from TracFone from consumers in 2023\"</span>               │\n",
       "│     <span style=\"font-weight: bold\">}</span>,                                                                                                          │\n",
       "│     <span style=\"font-weight: bold\">{</span>                                                                                                           │\n",
       "│         <span style=\"color: #000080; text-decoration-color: #000080; font-weight: bold\">\"role\"</span>: <span style=\"color: #008000; text-decoration-color: #008000\">\"assistant\"</span>,                                                                                    │\n",
       "│         <span style=\"color: #000080; text-decoration-color: #000080; font-weight: bold\">\"content\"</span>: <span style=\"color: #008000; text-decoration-color: #008000\">\"\"</span>                                                                                           │\n",
       "│     <span style=\"font-weight: bold\">}</span>,                                                                                                          │\n",
       "│     <span style=\"font-weight: bold\">{</span>                                                                                                           │\n",
       "│         <span style=\"color: #000080; text-decoration-color: #000080; font-weight: bold\">\"role\"</span>: <span style=\"color: #008000; text-decoration-color: #008000\">\"tool\"</span>,                                                                                         │\n",
       "│         <span style=\"color: #000080; text-decoration-color: #000080; font-weight: bold\">\"content\"</span>: <span style=\"color: #008000; text-decoration-color: #008000\">\"[\\n  {\\n    \\\"content\\\": \\\"We collect information from you when you interact with us and us</span> │\n",
       "│     <span style=\"font-weight: bold\">}</span>,                                                                                                          │\n",
       "│     <span style=\"font-weight: bold\">{</span>                                                                                                           │\n",
       "│         <span style=\"color: #000080; text-decoration-color: #000080; font-weight: bold\">\"role\"</span>: <span style=\"color: #008000; text-decoration-color: #008000\">\"assistant\"</span>,                                                                                    │\n",
       "│         <span style=\"color: #000080; text-decoration-color: #000080; font-weight: bold\">\"content\"</span>: <span style=\"color: #008000; text-decoration-color: #008000\">\"The requests received from TracFone to their consumers in 2023 appear to be related to thei</span> │\n",
       "│     <span style=\"font-weight: bold\">}</span>,                                                                                                          │\n",
       "│     <span style=\"font-weight: bold\">{</span>                                                                                                           │\n",
       "│         <span style=\"color: #000080; text-decoration-color: #000080; font-weight: bold\">\"role\"</span>: <span style=\"color: #008000; text-decoration-color: #008000\">\"user\"</span>,                                                                                         │\n",
       "│         <span style=\"color: #000080; text-decoration-color: #000080; font-weight: bold\">\"content\"</span>: <span style=\"color: #008000; text-decoration-color: #008000\">\"What are the recent changes and updates in privacy policy?\"</span>                                 │\n",
       "│     <span style=\"font-weight: bold\">}</span>,                                                                                                          │\n",
       "│     <span style=\"font-weight: bold\">{</span>                                                                                                           │\n",
       "│         <span style=\"color: #000080; text-decoration-color: #000080; font-weight: bold\">\"role\"</span>: <span style=\"color: #008000; text-decoration-color: #008000\">\"assistant\"</span>,                                                                                    │\n",
       "│         <span style=\"color: #000080; text-decoration-color: #000080; font-weight: bold\">\"content\"</span>: <span style=\"color: #008000; text-decoration-color: #008000\">\"\"</span>                                                                                           │\n",
       "│     <span style=\"font-weight: bold\">}</span>,                                                                                                          │\n",
       "│     <span style=\"font-weight: bold\">{</span>                                                                                                           │\n",
       "│         <span style=\"color: #000080; text-decoration-color: #000080; font-weight: bold\">\"role\"</span>: <span style=\"color: #008000; text-decoration-color: #008000\">\"tool\"</span>,                                                                                         │\n",
       "│         <span style=\"color: #000080; text-decoration-color: #000080; font-weight: bold\">\"content\"</span>: <span style=\"color: #008000; text-decoration-color: #008000\">\"[\\n  {\\n    \\\"content\\\": \\\"June 2024: We made changes to clarify and provide more details a</span> │\n",
       "│     <span style=\"font-weight: bold\">}</span>,                                                                                                          │\n",
       "│     <span style=\"font-weight: bold\">{</span>                                                                                                           │\n",
       "│         <span style=\"color: #000080; text-decoration-color: #000080; font-weight: bold\">\"role\"</span>: <span style=\"color: #008000; text-decoration-color: #008000\">\"assistant\"</span>,                                                                                    │\n",
       "│         <span style=\"color: #000080; text-decoration-color: #000080; font-weight: bold\">\"content\"</span>: <span style=\"color: #008000; text-decoration-color: #008000\">\"The recent changes and updates in TracFone's privacy policy are as follows:\\n\\n1. **Clarifi</span> │\n",
       "│     <span style=\"font-weight: bold\">}</span>,                                                                                                          │\n",
       "│     <span style=\"font-weight: bold\">{</span>                                                                                                           │\n",
       "│         <span style=\"color: #000080; text-decoration-color: #000080; font-weight: bold\">\"role\"</span>: <span style=\"color: #008000; text-decoration-color: #008000\">\"user\"</span>,                                                                                         │\n",
       "│         <span style=\"color: #000080; text-decoration-color: #000080; font-weight: bold\">\"content\"</span>: <span style=\"color: #008000; text-decoration-color: #008000\">\"How to Contact for privacy related concern?\"</span>                                                │\n",
       "│     <span style=\"font-weight: bold\">}</span>,                                                                                                          │\n",
       "│     <span style=\"font-weight: bold\">{</span>                                                                                                           │\n",
       "│         <span style=\"color: #000080; text-decoration-color: #000080; font-weight: bold\">\"role\"</span>: <span style=\"color: #008000; text-decoration-color: #008000\">\"assistant\"</span>,                                                                                    │\n",
       "│         <span style=\"color: #000080; text-decoration-color: #000080; font-weight: bold\">\"content\"</span>: <span style=\"color: #008000; text-decoration-color: #008000\">\"\"</span>                                                                                           │\n",
       "│     <span style=\"font-weight: bold\">}</span>,                                                                                                          │\n",
       "│     <span style=\"font-weight: bold\">{</span>                                                                                                           │\n",
       "│         <span style=\"color: #000080; text-decoration-color: #000080; font-weight: bold\">\"role\"</span>: <span style=\"color: #008000; text-decoration-color: #008000\">\"tool\"</span>,                                                                                         │\n",
       "│         <span style=\"color: #000080; text-decoration-color: #000080; font-weight: bold\">\"content\"</span>: <span style=\"color: #008000; text-decoration-color: #008000\">\"[\\n  {\\n    \\\"content\\\": \\\"Other California Privacy Rights\\\\nCalifornia Civil Code Section </span> │\n",
       "│     <span style=\"font-weight: bold\">}</span>,                                                                                                          │\n",
       "│     <span style=\"font-weight: bold\">{</span>                                                                                                           │\n",
       "│         <span style=\"color: #000080; text-decoration-color: #000080; font-weight: bold\">\"role\"</span>: <span style=\"color: #008000; text-decoration-color: #008000\">\"assistant\"</span>,                                                                                    │\n",
       "│         <span style=\"color: #000080; text-decoration-color: #000080; font-weight: bold\">\"content\"</span>: <span style=\"color: #008000; text-decoration-color: #008000\">\"To contact TracFone for privacy-related concerns, you can follow these steps:\\n\\n1. Visit t</span> │\n",
       "│     <span style=\"font-weight: bold\">}</span>,                                                                                                          │\n",
       "│     <span style=\"font-weight: bold\">{</span>                                                                                                           │\n",
       "│         <span style=\"color: #000080; text-decoration-color: #000080; font-weight: bold\">\"role\"</span>: <span style=\"color: #008000; text-decoration-color: #008000\">\"user\"</span>,                                                                                         │\n",
       "│         <span style=\"color: #000080; text-decoration-color: #000080; font-weight: bold\">\"content\"</span>: <span style=\"color: #008000; text-decoration-color: #008000\">\"Who is virat koli?\"</span>                                                                         │\n",
       "│     <span style=\"font-weight: bold\">}</span>,                                                                                                          │\n",
       "│     <span style=\"font-weight: bold\">{</span>                                                                                                           │\n",
       "│         <span style=\"color: #000080; text-decoration-color: #000080; font-weight: bold\">\"role\"</span>: <span style=\"color: #008000; text-decoration-color: #008000\">\"assistant\"</span>,                                                                                    │\n",
       "│         <span style=\"color: #000080; text-decoration-color: #000080; font-weight: bold\">\"content\"</span>: <span style=\"color: #008000; text-decoration-color: #008000\">\"\"</span>                                                                                           │\n",
       "│     <span style=\"font-weight: bold\">}</span>,                                                                                                          │\n",
       "│     <span style=\"font-weight: bold\">{</span>                                                                                                           │\n",
       "│         <span style=\"color: #000080; text-decoration-color: #000080; font-weight: bold\">\"role\"</span>: <span style=\"color: #008000; text-decoration-color: #008000\">\"tool\"</span>,                                                                                         │\n",
       "│         <span style=\"color: #000080; text-decoration-color: #000080; font-weight: bold\">\"content\"</span>: <span style=\"color: #008000; text-decoration-color: #008000\">\"[\\n  {\\n    \\\"content\\\": \\\"Continue\\\\n\\\\n\\\\n\\\\n\\\\n\\\\n\\\\n\\\\n\\\\n\\\\n\\\\n{{itemname}}\\\\n{{prop1}</span> │\n",
       "│     <span style=\"font-weight: bold\">}</span>,                                                                                                          │\n",
       "│     <span style=\"font-weight: bold\">{</span>                                                                                                           │\n",
       "│         <span style=\"color: #000080; text-decoration-color: #000080; font-weight: bold\">\"role\"</span>: <span style=\"color: #008000; text-decoration-color: #008000\">\"assistant\"</span>,                                                                                    │\n",
       "│         <span style=\"color: #000080; text-decoration-color: #000080; font-weight: bold\">\"content\"</span>: <span style=\"color: #008000; text-decoration-color: #008000\">\"It appears that you have provided a list of JSON objects, each representing a different typ</span> │\n",
       "│     <span style=\"font-weight: bold\">}</span>,                                                                                                          │\n",
       "│     <span style=\"font-weight: bold\">{</span>                                                                                                           │\n",
       "│         <span style=\"color: #000080; text-decoration-color: #000080; font-weight: bold\">\"role\"</span>: <span style=\"color: #008000; text-decoration-color: #008000\">\"user\"</span>,                                                                                         │\n",
       "│         <span style=\"color: #000080; text-decoration-color: #000080; font-weight: bold\">\"content\"</span>: <span style=\"color: #008000; text-decoration-color: #008000\">\"What is jio?\"</span>                                                                               │\n",
       "│     <span style=\"font-weight: bold\">}</span>,                                                                                                          │\n",
       "│     <span style=\"font-weight: bold\">{</span>                                                                                                           │\n",
       "│         <span style=\"color: #000080; text-decoration-color: #000080; font-weight: bold\">\"role\"</span>: <span style=\"color: #008000; text-decoration-color: #008000\">\"assistant\"</span>,                                                                                    │\n",
       "│         <span style=\"color: #000080; text-decoration-color: #000080; font-weight: bold\">\"content\"</span>: <span style=\"color: #008000; text-decoration-color: #008000\">\"\"</span>                                                                                           │\n",
       "│     <span style=\"font-weight: bold\">}</span>,                                                                                                          │\n",
       "│     <span style=\"font-weight: bold\">{</span>                                                                                                           │\n",
       "│         <span style=\"color: #000080; text-decoration-color: #000080; font-weight: bold\">\"role\"</span>: <span style=\"color: #008000; text-decoration-color: #008000\">\"tool\"</span>,                                                                                         │\n",
       "│         <span style=\"color: #000080; text-decoration-color: #000080; font-weight: bold\">\"content\"</span>: <span style=\"color: #008000; text-decoration-color: #008000\">\"[\\n  {\\n    \\\"content\\\": \\\"5G Phones\\\\n\\\\n\\\\n\\\\n\\\\n\\\\n\\\\n\\\\nDevices\\\\n\\\\n\\\\nAll Devices\\\\n\\</span> │\n",
       "│     <span style=\"font-weight: bold\">}</span>,                                                                                                          │\n",
       "│     <span style=\"font-weight: bold\">{</span>                                                                                                           │\n",
       "│         <span style=\"color: #000080; text-decoration-color: #000080; font-weight: bold\">\"role\"</span>: <span style=\"color: #008000; text-decoration-color: #008000\">\"assistant\"</span>,                                                                                    │\n",
       "│         <span style=\"color: #000080; text-decoration-color: #000080; font-weight: bold\">\"content\"</span>: <span style=\"color: #008000; text-decoration-color: #008000\">\"Straight Talk is a wireless service provider that offers various plans and services, includ</span> │\n",
       "│     <span style=\"font-weight: bold\">}</span>,                                                                                                          │\n",
       "│     <span style=\"font-weight: bold\">{</span>                                                                                                           │\n",
       "│         <span style=\"color: #000080; text-decoration-color: #000080; font-weight: bold\">\"role\"</span>: <span style=\"color: #008000; text-decoration-color: #008000\">\"user\"</span>,                                                                                         │\n",
       "│         <span style=\"color: #000080; text-decoration-color: #000080; font-weight: bold\">\"content\"</span>: <span style=\"color: #008000; text-decoration-color: #008000\">\"who is president of india?\"</span>                                                                 │\n",
       "│     <span style=\"font-weight: bold\">}</span>,                                                                                                          │\n",
       "│     <span style=\"font-weight: bold\">{</span>                                                                                                           │\n",
       "│         <span style=\"color: #000080; text-decoration-color: #000080; font-weight: bold\">\"role\"</span>: <span style=\"color: #008000; text-decoration-color: #008000\">\"assistant\"</span>,                                                                                    │\n",
       "│         <span style=\"color: #000080; text-decoration-color: #000080; font-weight: bold\">\"content\"</span>: <span style=\"color: #008000; text-decoration-color: #008000\">\"\"</span>                                                                                           │\n",
       "│     <span style=\"font-weight: bold\">}</span>,                                                                                                          │\n",
       "│     <span style=\"font-weight: bold\">{</span>                                                                                                           │\n",
       "│         <span style=\"color: #000080; text-decoration-color: #000080; font-weight: bold\">\"role\"</span>: <span style=\"color: #008000; text-decoration-color: #008000\">\"tool\"</span>,                                                                                         │\n",
       "│         <span style=\"color: #000080; text-decoration-color: #000080; font-weight: bold\">\"content\"</span>: <span style=\"color: #008000; text-decoration-color: #008000\">\"[\\n  {\\n    \\\"content\\\": \\\"ALL OTHER TERMS IN THIS AGREEMENT SHALL REMAIN IN FULL FORCE AND</span> │\n",
       "│     <span style=\"font-weight: bold\">}</span>,                                                                                                          │\n",
       "│     <span style=\"font-weight: bold\">{</span>                                                                                                           │\n",
       "│         <span style=\"color: #000080; text-decoration-color: #000080; font-weight: bold\">\"role\"</span>: <span style=\"color: #008000; text-decoration-color: #008000\">\"assistant\"</span>,                                                                                    │\n",
       "│         <span style=\"color: #000080; text-decoration-color: #000080; font-weight: bold\">\"content\"</span>: <span style=\"color: #008000; text-decoration-color: #008000\">\"The current President of India is Ram Nath Kovind.\"</span>                                         │\n",
       "│     <span style=\"font-weight: bold\">}</span>,                                                                                                          │\n",
       "│     <span style=\"font-weight: bold\">{</span>                                                                                                           │\n",
       "│         <span style=\"color: #000080; text-decoration-color: #000080; font-weight: bold\">\"role\"</span>: <span style=\"color: #008000; text-decoration-color: #008000\">\"user\"</span>,                                                                                         │\n",
       "│         <span style=\"color: #000080; text-decoration-color: #000080; font-weight: bold\">\"content\"</span>: <span style=\"color: #008000; text-decoration-color: #008000\">\"Share a 2 sentence horror story\"</span>                                                            │\n",
       "│     <span style=\"font-weight: bold\">}</span>,                                                                                                          │\n",
       "│     <span style=\"font-weight: bold\">{</span>                                                                                                           │\n",
       "│         <span style=\"color: #000080; text-decoration-color: #000080; font-weight: bold\">\"role\"</span>: <span style=\"color: #008000; text-decoration-color: #008000\">\"assistant\"</span>,                                                                                    │\n",
       "│         <span style=\"color: #000080; text-decoration-color: #000080; font-weight: bold\">\"content\"</span>: <span style=\"color: #008000; text-decoration-color: #008000\">\"\"</span>                                                                                           │\n",
       "│     <span style=\"font-weight: bold\">}</span>,                                                                                                          │\n",
       "│     <span style=\"font-weight: bold\">{</span>                                                                                                           │\n",
       "│         <span style=\"color: #000080; text-decoration-color: #000080; font-weight: bold\">\"role\"</span>: <span style=\"color: #008000; text-decoration-color: #008000\">\"tool\"</span>,                                                                                         │\n",
       "│         <span style=\"color: #000080; text-decoration-color: #000080; font-weight: bold\">\"content\"</span>: <span style=\"color: #008000; text-decoration-color: #008000\">\"[\\n  {\\n    \\\"content\\\": \\\"ALL OTHER TERMS IN THIS AGREEMENT SHALL REMAIN IN FULL FORCE AND</span> │\n",
       "│     <span style=\"font-weight: bold\">}</span>,                                                                                                          │\n",
       "│     <span style=\"font-weight: bold\">{</span>                                                                                                           │\n",
       "│         <span style=\"color: #000080; text-decoration-color: #000080; font-weight: bold\">\"role\"</span>: <span style=\"color: #008000; text-decoration-color: #008000\">\"assistant\"</span>,                                                                                    │\n",
       "│         <span style=\"color: #000080; text-decoration-color: #000080; font-weight: bold\">\"content\"</span>: <span style=\"color: #008000; text-decoration-color: #008000\">\"Straight Talk Wireless has a policy of reselling internet connectivity, which may be used f</span> │\n",
       "│     <span style=\"font-weight: bold\">}</span>                                                                                                           │\n",
       "│ <span style=\"font-weight: bold\">]</span>                                                                                                               │\n",
       "╰─────────────────────────────────────────────────────────────────────────────────────────────────────────────────╯\n",
       "</pre>\n"
      ],
      "text/plain": [
       "╭─────────────────────── Chat History for session_id: ff9f5784-943c-4c94-9e6b-6edd91909b0f ───────────────────────╮\n",
       "│ \u001b[1m[\u001b[0m                                                                                                               │\n",
       "│     \u001b[1m{\u001b[0m                                                                                                           │\n",
       "│         \u001b[1;34m\"role\"\u001b[0m: \u001b[32m\"system\"\u001b[0m,                                                                                       │\n",
       "│         \u001b[1;34m\"content\"\u001b[0m: \u001b[32m\"Answer to the user question from the knowledge base.If the user question is out of knowledg\u001b[0m │\n",
       "│     \u001b[1m}\u001b[0m,                                                                                                          │\n",
       "│     \u001b[1m{\u001b[0m                                                                                                           │\n",
       "│         \u001b[1;34m\"role\"\u001b[0m: \u001b[32m\"user\"\u001b[0m,                                                                                         │\n",
       "│         \u001b[1;34m\"content\"\u001b[0m: \u001b[32m\"What are the requirements to be eligible for a return ?\"\u001b[0m                                    │\n",
       "│     \u001b[1m}\u001b[0m,                                                                                                          │\n",
       "│     \u001b[1m{\u001b[0m                                                                                                           │\n",
       "│         \u001b[1;34m\"role\"\u001b[0m: \u001b[32m\"assistant\"\u001b[0m,                                                                                    │\n",
       "│         \u001b[1;34m\"content\"\u001b[0m: \u001b[32m\"\"\u001b[0m                                                                                           │\n",
       "│     \u001b[1m}\u001b[0m,                                                                                                          │\n",
       "│     \u001b[1m{\u001b[0m                                                                                                           │\n",
       "│         \u001b[1;34m\"role\"\u001b[0m: \u001b[32m\"tool\"\u001b[0m,                                                                                         │\n",
       "│         \u001b[1;34m\"content\"\u001b[0m: \u001b[32m\"[\\n  {\\n    \\\"content\\\": \\\"If your return meets the above requirements and you have request\u001b[0m │\n",
       "│     \u001b[1m}\u001b[0m,                                                                                                          │\n",
       "│     \u001b[1m{\u001b[0m                                                                                                           │\n",
       "│         \u001b[1;34m\"role\"\u001b[0m: \u001b[32m\"assistant\"\u001b[0m,                                                                                    │\n",
       "│         \u001b[1;34m\"content\"\u001b[0m: \u001b[32m\"To be eligible for a return, you must meet the following requirements:\\n\\n1. The device you\u001b[0m │\n",
       "│     \u001b[1m}\u001b[0m,                                                                                                          │\n",
       "│     \u001b[1m{\u001b[0m                                                                                                           │\n",
       "│         \u001b[1;34m\"role\"\u001b[0m: \u001b[32m\"user\"\u001b[0m,                                                                                         │\n",
       "│         \u001b[1;34m\"content\"\u001b[0m: \u001b[32m\"What if the device have physical damange?\"\u001b[0m                                                  │\n",
       "│     \u001b[1m}\u001b[0m,                                                                                                          │\n",
       "│     \u001b[1m{\u001b[0m                                                                                                           │\n",
       "│         \u001b[1;34m\"role\"\u001b[0m: \u001b[32m\"assistant\"\u001b[0m,                                                                                    │\n",
       "│         \u001b[1;34m\"content\"\u001b[0m: \u001b[32m\"\"\u001b[0m                                                                                           │\n",
       "│     \u001b[1m}\u001b[0m,                                                                                                          │\n",
       "│     \u001b[1m{\u001b[0m                                                                                                           │\n",
       "│         \u001b[1;34m\"role\"\u001b[0m: \u001b[32m\"tool\"\u001b[0m,                                                                                         │\n",
       "│         \u001b[1;34m\"content\"\u001b[0m: \u001b[32m\"[\\n  {\\n    \\\"content\\\": \\\"If anything is missing or device is not in like-new condition, y\u001b[0m │\n",
       "│     \u001b[1m}\u001b[0m,                                                                                                          │\n",
       "│     \u001b[1m{\u001b[0m                                                                                                           │\n",
       "│         \u001b[1;34m\"role\"\u001b[0m: \u001b[32m\"assistant\"\u001b[0m,                                                                                    │\n",
       "│         \u001b[1;34m\"content\"\u001b[0m: \u001b[32m\"If the device has physical damage or is not in like-new condition, your shipment may not be\u001b[0m │\n",
       "│     \u001b[1m}\u001b[0m,                                                                                                          │\n",
       "│     \u001b[1m{\u001b[0m                                                                                                           │\n",
       "│         \u001b[1;34m\"role\"\u001b[0m: \u001b[32m\"user\"\u001b[0m,                                                                                         │\n",
       "│         \u001b[1;34m\"content\"\u001b[0m: \u001b[32m\"Thanks for the response. what if it has issues on hardware?\"\u001b[0m                                │\n",
       "│     \u001b[1m}\u001b[0m,                                                                                                          │\n",
       "│     \u001b[1m{\u001b[0m                                                                                                           │\n",
       "│         \u001b[1;34m\"role\"\u001b[0m: \u001b[32m\"assistant\"\u001b[0m,                                                                                    │\n",
       "│         \u001b[1;34m\"content\"\u001b[0m: \u001b[32m\"\"\u001b[0m                                                                                           │\n",
       "│     \u001b[1m}\u001b[0m,                                                                                                          │\n",
       "│     \u001b[1m{\u001b[0m                                                                                                           │\n",
       "│         \u001b[1;34m\"role\"\u001b[0m: \u001b[32m\"tool\"\u001b[0m,                                                                                         │\n",
       "│         \u001b[1;34m\"content\"\u001b[0m: \u001b[32m\"[\\n  {\\n    \\\"content\\\": \\\"(a) The Product has been subjected to abnormal use, abnormal con\u001b[0m │\n",
       "│     \u001b[1m}\u001b[0m,                                                                                                          │\n",
       "│     \u001b[1m{\u001b[0m                                                                                                           │\n",
       "│         \u001b[1;34m\"role\"\u001b[0m: \u001b[32m\"assistant\"\u001b[0m,                                                                                    │\n",
       "│         \u001b[1;34m\"content\"\u001b[0m: \u001b[32m\"If your device has hardware issues, Straight Talk may not be able to provide a replacement \u001b[0m │\n",
       "│     \u001b[1m}\u001b[0m,                                                                                                          │\n",
       "│     \u001b[1m{\u001b[0m                                                                                                           │\n",
       "│         \u001b[1;34m\"role\"\u001b[0m: \u001b[32m\"user\"\u001b[0m,                                                                                         │\n",
       "│         \u001b[1;34m\"content\"\u001b[0m: \u001b[32m\"Whatis the warranty coverage for straight talk phones and accessories?\"\u001b[0m                     │\n",
       "│     \u001b[1m}\u001b[0m,                                                                                                          │\n",
       "│     \u001b[1m{\u001b[0m                                                                                                           │\n",
       "│         \u001b[1;34m\"role\"\u001b[0m: \u001b[32m\"assistant\"\u001b[0m,                                                                                    │\n",
       "│         \u001b[1;34m\"content\"\u001b[0m: \u001b[32m\"\"\u001b[0m                                                                                           │\n",
       "│     \u001b[1m}\u001b[0m,                                                                                                          │\n",
       "│     \u001b[1m{\u001b[0m                                                                                                           │\n",
       "│         \u001b[1;34m\"role\"\u001b[0m: \u001b[32m\"tool\"\u001b[0m,                                                                                         │\n",
       "│         \u001b[1;34m\"content\"\u001b[0m: \u001b[32m\"[\\n  {\\n    \\\"content\\\": \\\"4. The limited warranty does not cover loss of personal informat\u001b[0m │\n",
       "│     \u001b[1m}\u001b[0m,                                                                                                          │\n",
       "│     \u001b[1m{\u001b[0m                                                                                                           │\n",
       "│         \u001b[1;34m\"role\"\u001b[0m: \u001b[32m\"assistant\"\u001b[0m,                                                                                    │\n",
       "│         \u001b[1;34m\"content\"\u001b[0m: \u001b[32m\"Straight Talk's warranty coverage for their phones and accessories is as follows:\\n\\n* The \u001b[0m │\n",
       "│     \u001b[1m}\u001b[0m,                                                                                                          │\n",
       "│     \u001b[1m{\u001b[0m                                                                                                           │\n",
       "│         \u001b[1;34m\"role\"\u001b[0m: \u001b[32m\"user\"\u001b[0m,                                                                                         │\n",
       "│         \u001b[1;34m\"content\"\u001b[0m: \u001b[32m\"What is the return policy for walmart purchase?\"\u001b[0m                                            │\n",
       "│     \u001b[1m}\u001b[0m,                                                                                                          │\n",
       "│     \u001b[1m{\u001b[0m                                                                                                           │\n",
       "│         \u001b[1;34m\"role\"\u001b[0m: \u001b[32m\"assistant\"\u001b[0m,                                                                                    │\n",
       "│         \u001b[1;34m\"content\"\u001b[0m: \u001b[32m\"\"\u001b[0m                                                                                           │\n",
       "│     \u001b[1m}\u001b[0m,                                                                                                          │\n",
       "│     \u001b[1m{\u001b[0m                                                                                                           │\n",
       "│         \u001b[1;34m\"role\"\u001b[0m: \u001b[32m\"tool\"\u001b[0m,                                                                                         │\n",
       "│         \u001b[1;34m\"content\"\u001b[0m: \u001b[32m\"[\\n  {\\n    \\\"content\\\": \\\"VIII. Return Policy\\\\nTo see the return policy (\\\\u201cReturn Po\u001b[0m │\n",
       "│     \u001b[1m}\u001b[0m,                                                                                                          │\n",
       "│     \u001b[1m{\u001b[0m                                                                                                           │\n",
       "│         \u001b[1;34m\"role\"\u001b[0m: \u001b[32m\"assistant\"\u001b[0m,                                                                                    │\n",
       "│         \u001b[1;34m\"content\"\u001b[0m: \u001b[32m\"If you purchased a Straight Talk product from Walmart, your purchase is subject to Walmart'\u001b[0m │\n",
       "│     \u001b[1m}\u001b[0m,                                                                                                          │\n",
       "│     \u001b[1m{\u001b[0m                                                                                                           │\n",
       "│         \u001b[1;34m\"role\"\u001b[0m: \u001b[32m\"user\"\u001b[0m,                                                                                         │\n",
       "│         \u001b[1;34m\"content\"\u001b[0m: \u001b[32m\"How To Obtain Warranty Service?\"\u001b[0m                                                            │\n",
       "│     \u001b[1m}\u001b[0m,                                                                                                          │\n",
       "│     \u001b[1m{\u001b[0m                                                                                                           │\n",
       "│         \u001b[1;34m\"role\"\u001b[0m: \u001b[32m\"assistant\"\u001b[0m,                                                                                    │\n",
       "│         \u001b[1;34m\"content\"\u001b[0m: \u001b[32m\"\"\u001b[0m                                                                                           │\n",
       "│     \u001b[1m}\u001b[0m,                                                                                                          │\n",
       "│     \u001b[1m{\u001b[0m                                                                                                           │\n",
       "│         \u001b[1;34m\"role\"\u001b[0m: \u001b[32m\"tool\"\u001b[0m,                                                                                         │\n",
       "│         \u001b[1;34m\"content\"\u001b[0m: \u001b[32m\"[\\n  {\\n    \\\"content\\\": \\\"How To Obtain Warranty Service. To obtain warranty service for y\u001b[0m │\n",
       "│     \u001b[1m}\u001b[0m,                                                                                                          │\n",
       "│     \u001b[1m{\u001b[0m                                                                                                           │\n",
       "│         \u001b[1;34m\"role\"\u001b[0m: \u001b[32m\"assistant\"\u001b[0m,                                                                                    │\n",
       "│         \u001b[1;34m\"content\"\u001b[0m: \u001b[32m\"To obtain warranty service for your Straight Talk phone, you can contact Customer Care at 1\u001b[0m │\n",
       "│     \u001b[1m}\u001b[0m,                                                                                                          │\n",
       "│     \u001b[1m{\u001b[0m                                                                                                           │\n",
       "│         \u001b[1;34m\"role\"\u001b[0m: \u001b[32m\"user\"\u001b[0m,                                                                                         │\n",
       "│         \u001b[1;34m\"content\"\u001b[0m: \u001b[32m\"What are the general conditions must be met before a phone can be considered eligible for u\u001b[0m │\n",
       "│     \u001b[1m}\u001b[0m,                                                                                                          │\n",
       "│     \u001b[1m{\u001b[0m                                                                                                           │\n",
       "│         \u001b[1;34m\"role\"\u001b[0m: \u001b[32m\"assistant\"\u001b[0m,                                                                                    │\n",
       "│         \u001b[1;34m\"content\"\u001b[0m: \u001b[32m\"\"\u001b[0m                                                                                           │\n",
       "│     \u001b[1m}\u001b[0m,                                                                                                          │\n",
       "│     \u001b[1m{\u001b[0m                                                                                                           │\n",
       "│         \u001b[1;34m\"role\"\u001b[0m: \u001b[32m\"tool\"\u001b[0m,                                                                                         │\n",
       "│         \u001b[1;34m\"content\"\u001b[0m: \u001b[32m\"[\\n  {\\n    \\\"content\\\": \\\"The following general conditions must be met before a phone can \u001b[0m │\n",
       "│     \u001b[1m}\u001b[0m,                                                                                                          │\n",
       "│     \u001b[1m{\u001b[0m                                                                                                           │\n",
       "│         \u001b[1;34m\"role\"\u001b[0m: \u001b[32m\"assistant\"\u001b[0m,                                                                                    │\n",
       "│         \u001b[1;34m\"content\"\u001b[0m: \u001b[32m\"The general conditions that must be met before a phone can be considered eligible for unloc\u001b[0m │\n",
       "│     \u001b[1m}\u001b[0m,                                                                                                          │\n",
       "│     \u001b[1m{\u001b[0m                                                                                                           │\n",
       "│         \u001b[1;34m\"role\"\u001b[0m: \u001b[32m\"user\"\u001b[0m,                                                                                         │\n",
       "│         \u001b[1;34m\"content\"\u001b[0m: \u001b[32m\"What are the Categories and Types of Personal Information you Collect?\"\u001b[0m                     │\n",
       "│     \u001b[1m}\u001b[0m,                                                                                                          │\n",
       "│     \u001b[1m{\u001b[0m                                                                                                           │\n",
       "│         \u001b[1;34m\"role\"\u001b[0m: \u001b[32m\"assistant\"\u001b[0m,                                                                                    │\n",
       "│         \u001b[1;34m\"content\"\u001b[0m: \u001b[32m\"\"\u001b[0m                                                                                           │\n",
       "│     \u001b[1m}\u001b[0m,                                                                                                          │\n",
       "│     \u001b[1m{\u001b[0m                                                                                                           │\n",
       "│         \u001b[1;34m\"role\"\u001b[0m: \u001b[32m\"tool\"\u001b[0m,                                                                                         │\n",
       "│         \u001b[1;34m\"content\"\u001b[0m: \u001b[32m\"[\\n  {\\n    \\\"content\\\": \\\"Some of the information we collect is considered sensitive perso\u001b[0m │\n",
       "│     \u001b[1m}\u001b[0m,                                                                                                          │\n",
       "│     \u001b[1m{\u001b[0m                                                                                                           │\n",
       "│         \u001b[1;34m\"role\"\u001b[0m: \u001b[32m\"assistant\"\u001b[0m,                                                                                    │\n",
       "│         \u001b[1;34m\"content\"\u001b[0m: \u001b[32m\"Straight Talk collects the following categories and types of personal information:\\n\\n**Cat\u001b[0m │\n",
       "│     \u001b[1m}\u001b[0m,                                                                                                          │\n",
       "│     \u001b[1m{\u001b[0m                                                                                                           │\n",
       "│         \u001b[1;34m\"role\"\u001b[0m: \u001b[32m\"user\"\u001b[0m,                                                                                         │\n",
       "│         \u001b[1;34m\"content\"\u001b[0m: \u001b[32m\"How do you use Personal data?\"\u001b[0m                                                              │\n",
       "│     \u001b[1m}\u001b[0m,                                                                                                          │\n",
       "│     \u001b[1m{\u001b[0m                                                                                                           │\n",
       "│         \u001b[1;34m\"role\"\u001b[0m: \u001b[32m\"assistant\"\u001b[0m,                                                                                    │\n",
       "│         \u001b[1;34m\"content\"\u001b[0m: \u001b[32m\"\"\u001b[0m                                                                                           │\n",
       "│     \u001b[1m}\u001b[0m,                                                                                                          │\n",
       "│     \u001b[1m{\u001b[0m                                                                                                           │\n",
       "│         \u001b[1;34m\"role\"\u001b[0m: \u001b[32m\"tool\"\u001b[0m,                                                                                         │\n",
       "│         \u001b[1;34m\"content\"\u001b[0m: \u001b[32m\"[\\n  {\\n    \\\"content\\\": \\\"What personal information we collect, how we use and share it, a\u001b[0m │\n",
       "│     \u001b[1m}\u001b[0m,                                                                                                          │\n",
       "│     \u001b[1m{\u001b[0m                                                                                                           │\n",
       "│         \u001b[1;34m\"role\"\u001b[0m: \u001b[32m\"assistant\"\u001b[0m,                                                                                    │\n",
       "│         \u001b[1;34m\"content\"\u001b[0m: \u001b[32m\"Straight Talk uses personal data in the following ways:\\n\\n1. **Account management**: We co\u001b[0m │\n",
       "│     \u001b[1m}\u001b[0m,                                                                                                          │\n",
       "│     \u001b[1m{\u001b[0m                                                                                                           │\n",
       "│         \u001b[1;34m\"role\"\u001b[0m: \u001b[32m\"user\"\u001b[0m,                                                                                         │\n",
       "│         \u001b[1;34m\"content\"\u001b[0m: \u001b[32m\"How to Refer-A-Friend?\"\u001b[0m                                                                     │\n",
       "│     \u001b[1m}\u001b[0m,                                                                                                          │\n",
       "│     \u001b[1m{\u001b[0m                                                                                                           │\n",
       "│         \u001b[1;34m\"role\"\u001b[0m: \u001b[32m\"assistant\"\u001b[0m,                                                                                    │\n",
       "│         \u001b[1;34m\"content\"\u001b[0m: \u001b[32m\"\"\u001b[0m                                                                                           │\n",
       "│     \u001b[1m}\u001b[0m,                                                                                                          │\n",
       "│     \u001b[1m{\u001b[0m                                                                                                           │\n",
       "│         \u001b[1;34m\"role\"\u001b[0m: \u001b[32m\"tool\"\u001b[0m,                                                                                         │\n",
       "│         \u001b[1;34m\"content\"\u001b[0m: \u001b[32m\"[\\n  {\\n    \\\"content\\\": \\\"Close\\\\n\\\\n\\\\n\\\\n\\\\n\\\\n\\\\n\\\\n\\\\n\\\\n\\\\n\\\\n\\\\n\\\\n\\\\n\\\\n\\\\n\\\\n\\\\n\\\\\u001b[0m │\n",
       "│     \u001b[1m}\u001b[0m,                                                                                                          │\n",
       "│     \u001b[1m{\u001b[0m                                                                                                           │\n",
       "│         \u001b[1;34m\"role\"\u001b[0m: \u001b[32m\"assistant\"\u001b[0m,                                                                                    │\n",
       "│         \u001b[1;34m\"content\"\u001b[0m: \u001b[32m\"To refer a friend to Straight Talk, you can follow these steps:\\n\\n1. Go to the Straight Ta\u001b[0m │\n",
       "│     \u001b[1m}\u001b[0m,                                                                                                          │\n",
       "│     \u001b[1m{\u001b[0m                                                                                                           │\n",
       "│         \u001b[1;34m\"role\"\u001b[0m: \u001b[32m\"user\"\u001b[0m,                                                                                         │\n",
       "│         \u001b[1;34m\"content\"\u001b[0m: \u001b[32m\"HOW MANY POINTS IS A REFERRAL WORTH?\"\u001b[0m                                                       │\n",
       "│     \u001b[1m}\u001b[0m,                                                                                                          │\n",
       "│     \u001b[1m{\u001b[0m                                                                                                           │\n",
       "│         \u001b[1;34m\"role\"\u001b[0m: \u001b[32m\"assistant\"\u001b[0m,                                                                                    │\n",
       "│         \u001b[1;34m\"content\"\u001b[0m: \u001b[32m\"\"\u001b[0m                                                                                           │\n",
       "│     \u001b[1m}\u001b[0m,                                                                                                          │\n",
       "│     \u001b[1m{\u001b[0m                                                                                                           │\n",
       "│         \u001b[1;34m\"role\"\u001b[0m: \u001b[32m\"tool\"\u001b[0m,                                                                                         │\n",
       "│         \u001b[1;34m\"content\"\u001b[0m: \u001b[32m\"[\\n  {\\n    \\\"content\\\": \\\"Close\\\\n\\\\t\\\\t\\\\t\\\\t\\\\t\\\\t\\\\t\\\\n\\\\n\\\\n\\\\n\\\\n\\\\n\\\\n\\\\n\\\\n\\\\n\\\\n\\\\\u001b[0m │\n",
       "│     \u001b[1m}\u001b[0m,                                                                                                          │\n",
       "│     \u001b[1m{\u001b[0m                                                                                                           │\n",
       "│         \u001b[1;34m\"role\"\u001b[0m: \u001b[32m\"assistant\"\u001b[0m,                                                                                    │\n",
       "│         \u001b[1;34m\"content\"\u001b[0m: \u001b[32m\"A referral is worth 100 points.\"\u001b[0m                                                            │\n",
       "│     \u001b[1m}\u001b[0m,                                                                                                          │\n",
       "│     \u001b[1m{\u001b[0m                                                                                                           │\n",
       "│         \u001b[1;34m\"role\"\u001b[0m: \u001b[32m\"user\"\u001b[0m,                                                                                         │\n",
       "│         \u001b[1;34m\"content\"\u001b[0m: \u001b[32m\"What is Rainbow?\"\u001b[0m                                                                           │\n",
       "│     \u001b[1m}\u001b[0m,                                                                                                          │\n",
       "│     \u001b[1m{\u001b[0m                                                                                                           │\n",
       "│         \u001b[1;34m\"role\"\u001b[0m: \u001b[32m\"assistant\"\u001b[0m,                                                                                    │\n",
       "│         \u001b[1;34m\"content\"\u001b[0m: \u001b[32m\"\"\u001b[0m                                                                                           │\n",
       "│     \u001b[1m}\u001b[0m,                                                                                                          │\n",
       "│     \u001b[1m{\u001b[0m                                                                                                           │\n",
       "│         \u001b[1;34m\"role\"\u001b[0m: \u001b[32m\"tool\"\u001b[0m,                                                                                         │\n",
       "│         \u001b[1;34m\"content\"\u001b[0m: \u001b[32m\"[\\n  {\\n    \\\"content\\\": \\\"Continue\\\\n\\\\n\\\\n\\\\n\\\\n\\\\n\\\\n\\\\n\\\\n\\\\n\\\\n{{itemname}}\\\\n{{prop1}\u001b[0m │\n",
       "│     \u001b[1m}\u001b[0m,                                                                                                          │\n",
       "│     \u001b[1m{\u001b[0m                                                                                                           │\n",
       "│         \u001b[1;34m\"role\"\u001b[0m: \u001b[32m\"assistant\"\u001b[0m,                                                                                    │\n",
       "│         \u001b[1;34m\"content\"\u001b[0m: \u001b[32m\"The term \\\"Rainbow\\\" is not found in the provided knowledge base.\"\u001b[0m                          │\n",
       "│     \u001b[1m}\u001b[0m,                                                                                                          │\n",
       "│     \u001b[1m{\u001b[0m                                                                                                           │\n",
       "│         \u001b[1;34m\"role\"\u001b[0m: \u001b[32m\"user\"\u001b[0m,                                                                                         │\n",
       "│         \u001b[1;34m\"content\"\u001b[0m: \u001b[32m\"How Customers and Visitors Can Access and Update Personal Information\"\u001b[0m                      │\n",
       "│     \u001b[1m}\u001b[0m,                                                                                                          │\n",
       "│     \u001b[1m{\u001b[0m                                                                                                           │\n",
       "│         \u001b[1;34m\"role\"\u001b[0m: \u001b[32m\"assistant\"\u001b[0m,                                                                                    │\n",
       "│         \u001b[1;34m\"content\"\u001b[0m: \u001b[32m\"\"\u001b[0m                                                                                           │\n",
       "│     \u001b[1m}\u001b[0m,                                                                                                          │\n",
       "│     \u001b[1m{\u001b[0m                                                                                                           │\n",
       "│         \u001b[1;34m\"role\"\u001b[0m: \u001b[32m\"tool\"\u001b[0m,                                                                                         │\n",
       "│         \u001b[1;34m\"content\"\u001b[0m: \u001b[32m\"[\\n  {\\n    \\\"content\\\": \\\"How Customers and Visitors Can Access and Update Personal Inform\u001b[0m │\n",
       "│     \u001b[1m}\u001b[0m,                                                                                                          │\n",
       "│     \u001b[1m{\u001b[0m                                                                                                           │\n",
       "│         \u001b[1;34m\"role\"\u001b[0m: \u001b[32m\"assistant\"\u001b[0m,                                                                                    │\n",
       "│         \u001b[1;34m\"content\"\u001b[0m: \u001b[32m\"To access and update personal information, customers and visitors can follow these steps:\\n\u001b[0m │\n",
       "│     \u001b[1m}\u001b[0m,                                                                                                          │\n",
       "│     \u001b[1m{\u001b[0m                                                                                                           │\n",
       "│         \u001b[1;34m\"role\"\u001b[0m: \u001b[32m\"user\"\u001b[0m,                                                                                         │\n",
       "│         \u001b[1;34m\"content\"\u001b[0m: \u001b[32m\"Can you please tell me request received from TracFone from consumers in 2023\"\u001b[0m               │\n",
       "│     \u001b[1m}\u001b[0m,                                                                                                          │\n",
       "│     \u001b[1m{\u001b[0m                                                                                                           │\n",
       "│         \u001b[1;34m\"role\"\u001b[0m: \u001b[32m\"assistant\"\u001b[0m,                                                                                    │\n",
       "│         \u001b[1;34m\"content\"\u001b[0m: \u001b[32m\"\"\u001b[0m                                                                                           │\n",
       "│     \u001b[1m}\u001b[0m,                                                                                                          │\n",
       "│     \u001b[1m{\u001b[0m                                                                                                           │\n",
       "│         \u001b[1;34m\"role\"\u001b[0m: \u001b[32m\"tool\"\u001b[0m,                                                                                         │\n",
       "│         \u001b[1;34m\"content\"\u001b[0m: \u001b[32m\"[\\n  {\\n    \\\"content\\\": \\\"We collect information from you when you interact with us and us\u001b[0m │\n",
       "│     \u001b[1m}\u001b[0m,                                                                                                          │\n",
       "│     \u001b[1m{\u001b[0m                                                                                                           │\n",
       "│         \u001b[1;34m\"role\"\u001b[0m: \u001b[32m\"assistant\"\u001b[0m,                                                                                    │\n",
       "│         \u001b[1;34m\"content\"\u001b[0m: \u001b[32m\"The requests received from TracFone to their consumers in 2023 appear to be related to thei\u001b[0m │\n",
       "│     \u001b[1m}\u001b[0m,                                                                                                          │\n",
       "│     \u001b[1m{\u001b[0m                                                                                                           │\n",
       "│         \u001b[1;34m\"role\"\u001b[0m: \u001b[32m\"user\"\u001b[0m,                                                                                         │\n",
       "│         \u001b[1;34m\"content\"\u001b[0m: \u001b[32m\"What are the recent changes and updates in privacy policy?\"\u001b[0m                                 │\n",
       "│     \u001b[1m}\u001b[0m,                                                                                                          │\n",
       "│     \u001b[1m{\u001b[0m                                                                                                           │\n",
       "│         \u001b[1;34m\"role\"\u001b[0m: \u001b[32m\"assistant\"\u001b[0m,                                                                                    │\n",
       "│         \u001b[1;34m\"content\"\u001b[0m: \u001b[32m\"\"\u001b[0m                                                                                           │\n",
       "│     \u001b[1m}\u001b[0m,                                                                                                          │\n",
       "│     \u001b[1m{\u001b[0m                                                                                                           │\n",
       "│         \u001b[1;34m\"role\"\u001b[0m: \u001b[32m\"tool\"\u001b[0m,                                                                                         │\n",
       "│         \u001b[1;34m\"content\"\u001b[0m: \u001b[32m\"[\\n  {\\n    \\\"content\\\": \\\"June 2024: We made changes to clarify and provide more details a\u001b[0m │\n",
       "│     \u001b[1m}\u001b[0m,                                                                                                          │\n",
       "│     \u001b[1m{\u001b[0m                                                                                                           │\n",
       "│         \u001b[1;34m\"role\"\u001b[0m: \u001b[32m\"assistant\"\u001b[0m,                                                                                    │\n",
       "│         \u001b[1;34m\"content\"\u001b[0m: \u001b[32m\"The recent changes and updates in TracFone's privacy policy are as follows:\\n\\n1. **Clarifi\u001b[0m │\n",
       "│     \u001b[1m}\u001b[0m,                                                                                                          │\n",
       "│     \u001b[1m{\u001b[0m                                                                                                           │\n",
       "│         \u001b[1;34m\"role\"\u001b[0m: \u001b[32m\"user\"\u001b[0m,                                                                                         │\n",
       "│         \u001b[1;34m\"content\"\u001b[0m: \u001b[32m\"How to Contact for privacy related concern?\"\u001b[0m                                                │\n",
       "│     \u001b[1m}\u001b[0m,                                                                                                          │\n",
       "│     \u001b[1m{\u001b[0m                                                                                                           │\n",
       "│         \u001b[1;34m\"role\"\u001b[0m: \u001b[32m\"assistant\"\u001b[0m,                                                                                    │\n",
       "│         \u001b[1;34m\"content\"\u001b[0m: \u001b[32m\"\"\u001b[0m                                                                                           │\n",
       "│     \u001b[1m}\u001b[0m,                                                                                                          │\n",
       "│     \u001b[1m{\u001b[0m                                                                                                           │\n",
       "│         \u001b[1;34m\"role\"\u001b[0m: \u001b[32m\"tool\"\u001b[0m,                                                                                         │\n",
       "│         \u001b[1;34m\"content\"\u001b[0m: \u001b[32m\"[\\n  {\\n    \\\"content\\\": \\\"Other California Privacy Rights\\\\nCalifornia Civil Code Section \u001b[0m │\n",
       "│     \u001b[1m}\u001b[0m,                                                                                                          │\n",
       "│     \u001b[1m{\u001b[0m                                                                                                           │\n",
       "│         \u001b[1;34m\"role\"\u001b[0m: \u001b[32m\"assistant\"\u001b[0m,                                                                                    │\n",
       "│         \u001b[1;34m\"content\"\u001b[0m: \u001b[32m\"To contact TracFone for privacy-related concerns, you can follow these steps:\\n\\n1. Visit t\u001b[0m │\n",
       "│     \u001b[1m}\u001b[0m,                                                                                                          │\n",
       "│     \u001b[1m{\u001b[0m                                                                                                           │\n",
       "│         \u001b[1;34m\"role\"\u001b[0m: \u001b[32m\"user\"\u001b[0m,                                                                                         │\n",
       "│         \u001b[1;34m\"content\"\u001b[0m: \u001b[32m\"Who is virat koli?\"\u001b[0m                                                                         │\n",
       "│     \u001b[1m}\u001b[0m,                                                                                                          │\n",
       "│     \u001b[1m{\u001b[0m                                                                                                           │\n",
       "│         \u001b[1;34m\"role\"\u001b[0m: \u001b[32m\"assistant\"\u001b[0m,                                                                                    │\n",
       "│         \u001b[1;34m\"content\"\u001b[0m: \u001b[32m\"\"\u001b[0m                                                                                           │\n",
       "│     \u001b[1m}\u001b[0m,                                                                                                          │\n",
       "│     \u001b[1m{\u001b[0m                                                                                                           │\n",
       "│         \u001b[1;34m\"role\"\u001b[0m: \u001b[32m\"tool\"\u001b[0m,                                                                                         │\n",
       "│         \u001b[1;34m\"content\"\u001b[0m: \u001b[32m\"[\\n  {\\n    \\\"content\\\": \\\"Continue\\\\n\\\\n\\\\n\\\\n\\\\n\\\\n\\\\n\\\\n\\\\n\\\\n\\\\n{{itemname}}\\\\n{{prop1}\u001b[0m │\n",
       "│     \u001b[1m}\u001b[0m,                                                                                                          │\n",
       "│     \u001b[1m{\u001b[0m                                                                                                           │\n",
       "│         \u001b[1;34m\"role\"\u001b[0m: \u001b[32m\"assistant\"\u001b[0m,                                                                                    │\n",
       "│         \u001b[1;34m\"content\"\u001b[0m: \u001b[32m\"It appears that you have provided a list of JSON objects, each representing a different typ\u001b[0m │\n",
       "│     \u001b[1m}\u001b[0m,                                                                                                          │\n",
       "│     \u001b[1m{\u001b[0m                                                                                                           │\n",
       "│         \u001b[1;34m\"role\"\u001b[0m: \u001b[32m\"user\"\u001b[0m,                                                                                         │\n",
       "│         \u001b[1;34m\"content\"\u001b[0m: \u001b[32m\"What is jio?\"\u001b[0m                                                                               │\n",
       "│     \u001b[1m}\u001b[0m,                                                                                                          │\n",
       "│     \u001b[1m{\u001b[0m                                                                                                           │\n",
       "│         \u001b[1;34m\"role\"\u001b[0m: \u001b[32m\"assistant\"\u001b[0m,                                                                                    │\n",
       "│         \u001b[1;34m\"content\"\u001b[0m: \u001b[32m\"\"\u001b[0m                                                                                           │\n",
       "│     \u001b[1m}\u001b[0m,                                                                                                          │\n",
       "│     \u001b[1m{\u001b[0m                                                                                                           │\n",
       "│         \u001b[1;34m\"role\"\u001b[0m: \u001b[32m\"tool\"\u001b[0m,                                                                                         │\n",
       "│         \u001b[1;34m\"content\"\u001b[0m: \u001b[32m\"[\\n  {\\n    \\\"content\\\": \\\"5G Phones\\\\n\\\\n\\\\n\\\\n\\\\n\\\\n\\\\n\\\\nDevices\\\\n\\\\n\\\\nAll Devices\\\\n\\\u001b[0m │\n",
       "│     \u001b[1m}\u001b[0m,                                                                                                          │\n",
       "│     \u001b[1m{\u001b[0m                                                                                                           │\n",
       "│         \u001b[1;34m\"role\"\u001b[0m: \u001b[32m\"assistant\"\u001b[0m,                                                                                    │\n",
       "│         \u001b[1;34m\"content\"\u001b[0m: \u001b[32m\"Straight Talk is a wireless service provider that offers various plans and services, includ\u001b[0m │\n",
       "│     \u001b[1m}\u001b[0m,                                                                                                          │\n",
       "│     \u001b[1m{\u001b[0m                                                                                                           │\n",
       "│         \u001b[1;34m\"role\"\u001b[0m: \u001b[32m\"user\"\u001b[0m,                                                                                         │\n",
       "│         \u001b[1;34m\"content\"\u001b[0m: \u001b[32m\"who is president of india?\"\u001b[0m                                                                 │\n",
       "│     \u001b[1m}\u001b[0m,                                                                                                          │\n",
       "│     \u001b[1m{\u001b[0m                                                                                                           │\n",
       "│         \u001b[1;34m\"role\"\u001b[0m: \u001b[32m\"assistant\"\u001b[0m,                                                                                    │\n",
       "│         \u001b[1;34m\"content\"\u001b[0m: \u001b[32m\"\"\u001b[0m                                                                                           │\n",
       "│     \u001b[1m}\u001b[0m,                                                                                                          │\n",
       "│     \u001b[1m{\u001b[0m                                                                                                           │\n",
       "│         \u001b[1;34m\"role\"\u001b[0m: \u001b[32m\"tool\"\u001b[0m,                                                                                         │\n",
       "│         \u001b[1;34m\"content\"\u001b[0m: \u001b[32m\"[\\n  {\\n    \\\"content\\\": \\\"ALL OTHER TERMS IN THIS AGREEMENT SHALL REMAIN IN FULL FORCE AND\u001b[0m │\n",
       "│     \u001b[1m}\u001b[0m,                                                                                                          │\n",
       "│     \u001b[1m{\u001b[0m                                                                                                           │\n",
       "│         \u001b[1;34m\"role\"\u001b[0m: \u001b[32m\"assistant\"\u001b[0m,                                                                                    │\n",
       "│         \u001b[1;34m\"content\"\u001b[0m: \u001b[32m\"The current President of India is Ram Nath Kovind.\"\u001b[0m                                         │\n",
       "│     \u001b[1m}\u001b[0m,                                                                                                          │\n",
       "│     \u001b[1m{\u001b[0m                                                                                                           │\n",
       "│         \u001b[1;34m\"role\"\u001b[0m: \u001b[32m\"user\"\u001b[0m,                                                                                         │\n",
       "│         \u001b[1;34m\"content\"\u001b[0m: \u001b[32m\"Share a 2 sentence horror story\"\u001b[0m                                                            │\n",
       "│     \u001b[1m}\u001b[0m,                                                                                                          │\n",
       "│     \u001b[1m{\u001b[0m                                                                                                           │\n",
       "│         \u001b[1;34m\"role\"\u001b[0m: \u001b[32m\"assistant\"\u001b[0m,                                                                                    │\n",
       "│         \u001b[1;34m\"content\"\u001b[0m: \u001b[32m\"\"\u001b[0m                                                                                           │\n",
       "│     \u001b[1m}\u001b[0m,                                                                                                          │\n",
       "│     \u001b[1m{\u001b[0m                                                                                                           │\n",
       "│         \u001b[1;34m\"role\"\u001b[0m: \u001b[32m\"tool\"\u001b[0m,                                                                                         │\n",
       "│         \u001b[1;34m\"content\"\u001b[0m: \u001b[32m\"[\\n  {\\n    \\\"content\\\": \\\"ALL OTHER TERMS IN THIS AGREEMENT SHALL REMAIN IN FULL FORCE AND\u001b[0m │\n",
       "│     \u001b[1m}\u001b[0m,                                                                                                          │\n",
       "│     \u001b[1m{\u001b[0m                                                                                                           │\n",
       "│         \u001b[1;34m\"role\"\u001b[0m: \u001b[32m\"assistant\"\u001b[0m,                                                                                    │\n",
       "│         \u001b[1;34m\"content\"\u001b[0m: \u001b[32m\"Straight Talk Wireless has a policy of reselling internet connectivity, which may be used f\u001b[0m │\n",
       "│     \u001b[1m}\u001b[0m                                                                                                           │\n",
       "│ \u001b[1m]\u001b[0m                                                                                                               │\n",
       "╰─────────────────────────────────────────────────────────────────────────────────────────────────────────────────╯\n"
      ]
     },
     "metadata": {},
     "output_type": "display_data"
    }
   ],
   "source": [
    "# -*- Print the chat history\n",
    "print_chat_history(agent)"
   ]
  },
  {
   "cell_type": "code",
   "execution_count": null,
   "id": "0c67d691",
   "metadata": {},
   "outputs": [],
   "source": []
  },
  {
   "cell_type": "code",
   "execution_count": null,
   "id": "ccbf66bf",
   "metadata": {},
   "outputs": [],
   "source": []
  },
  {
   "cell_type": "markdown",
   "id": "638afa3c",
   "metadata": {},
   "source": [
    "# without markdown"
   ]
  },
  {
   "cell_type": "code",
   "execution_count": 88,
   "id": "17e3eecb",
   "metadata": {},
   "outputs": [],
   "source": [
    "\n",
    "# agent = Agent(\n",
    "#     model=Ollama(id=\"llama3.2:1b\"),\n",
    "#     knowledge=knowledge_base,\n",
    "#     description=\"Answer to the user question from the knowledge base\",\n",
    "#     markdown=True,\n",
    "#     search_knowledge=True,\n",
    "# )\n",
    "\n",
    "\n",
    "\n",
    "agent_without_markdown = Agent(\n",
    "    model=Ollama(id=\"llama3.2:1b\",options={\"temperature\":0}),\n",
    "    knowledge=knowledge_base,\n",
    "    # Set add_history_to_messages=true to add the previous chat history to the messages sent to the Model.\n",
    "#     add_history_to_messages=True,\n",
    "#     # Number of historical responses to add to the messages.\n",
    "#     num_history_responses=3,\n",
    "    description=\"Answer to the user question from the knowledge base.If the user question is out of knowledge base, tell no records found\",\n",
    "    markdown=False,\n",
    "    search_knowledge=True,\n",
    ")\n"
   ]
  },
  {
   "cell_type": "code",
   "execution_count": 89,
   "id": "c6946fb7",
   "metadata": {},
   "outputs": [
    {
     "data": {
      "application/vnd.jupyter.widget-view+json": {
       "model_id": "4cc73d9edb72455db3eb2a658224ea08",
       "version_major": 2,
       "version_minor": 0
      },
      "text/plain": [
       "Output()"
      ]
     },
     "metadata": {},
     "output_type": "display_data"
    },
    {
     "data": {
      "text/html": [
       "<pre style=\"white-space:pre;overflow-x:auto;line-height:normal;font-family:Menlo,'DejaVu Sans Mono',consolas,'Courier New',monospace\"></pre>\n"
      ],
      "text/plain": []
     },
     "metadata": {},
     "output_type": "display_data"
    }
   ],
   "source": [
    "\n",
    "\n",
    "\n",
    "user_query = \"Rainbow\"\n",
    "agent_without_markdown.print_response(user_query, stream=True)"
   ]
  },
  {
   "cell_type": "markdown",
   "id": "e86f4095",
   "metadata": {},
   "source": [
    "# other research"
   ]
  },
  {
   "cell_type": "code",
   "execution_count": null,
   "id": "aa90c02f",
   "metadata": {},
   "outputs": [],
   "source": []
  },
  {
   "cell_type": "code",
   "execution_count": null,
   "id": "2b17a32a",
   "metadata": {},
   "outputs": [],
   "source": []
  }
 ],
 "metadata": {
  "kernelspec": {
   "display_name": "Python 3 (ipykernel)",
   "language": "python",
   "name": "python3"
  },
  "language_info": {
   "codemirror_mode": {
    "name": "ipython",
    "version": 3
   },
   "file_extension": ".py",
   "mimetype": "text/x-python",
   "name": "python",
   "nbconvert_exporter": "python",
   "pygments_lexer": "ipython3",
   "version": "3.11.5"
  }
 },
 "nbformat": 4,
 "nbformat_minor": 5
}
